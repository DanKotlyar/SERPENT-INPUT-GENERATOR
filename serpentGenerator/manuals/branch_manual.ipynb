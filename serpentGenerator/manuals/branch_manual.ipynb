{
 "cells": [
  {
   "cell_type": "code",
   "execution_count": 1,
   "metadata": {},
   "outputs": [],
   "source": [
    "import numpy as np\n",
    "\n",
    "from serpentGenerator.functions.branch import branch\n",
    "from serpentGenerator.data.materialLibrary import MATLIB"
   ]
  },
  {
   "cell_type": "markdown",
   "metadata": {},
   "source": [
    "## General Branch Objtect Initialization\n",
    "1. Can use ``vars(Object)`` function to aid user in seeing all available attributes and their types\n",
    "2. The data collected in the ``branch`` object is used to descibe operational conditions for a set history branch.\n",
    "\n",
    "    Attributes\n",
    "    ----------\n",
    "    id : str\n",
    "        branch id/name\n",
    "        \n",
    "    repmat : material list\n",
    "        list containing [oldMat, newMat]\n",
    "\n",
    "    repuniv : universe list\n",
    "        list containing [oldUniv, newUniv]\n",
    "        \n",
    "    stp : list\n",
    "        list containing stp options [stpMat, stpDens, stpTemp]\n",
    "\n",
    "    Raises\n",
    "    ------\n",
    "    TypeError\n",
    "        If ``repmat`` is not a list of material objects.\n",
    "\n",
    "    TypeError\n",
    "        If ``repuniv`` is not a list of universe objects.\n",
    "        \n",
    "    TypeError\n",
    "        If ``stp`` is not a list following the format [stpMat, stpDens, stpTemp]"
   ]
  },
  {
   "cell_type": "code",
   "execution_count": 4,
   "metadata": {},
   "outputs": [
    {
     "name": "stdout",
     "output_type": "stream",
     "text": [
      "{'id': 'test', 'repmat': [<serpentGenerator.functions.material.material object at 0x0000015666130F48>, <serpentGenerator.functions.material.material object at 0x0000015666130F48>], 'repuniv': None, 'stp': [<serpentGenerator.functions.material.material object at 0x000001566607A5C8>, -10.56, 600]}\n"
     ]
    }
   ],
   "source": [
    "test = branch(id = \"test\", repmat = [MATLIB['Zr'], MATLIB['Zr']], stp = [MATLIB['UO2'], -10.56, 600])\n",
    "print(vars(test))"
   ]
  },
  {
   "cell_type": "markdown",
   "metadata": {},
   "source": [
    "## Branch Object in Serpent Form\n",
    "1. The branch Object can be seen in typical serpent input file format upon using the Object.``toString()`` function"
   ]
  },
  {
   "cell_type": "code",
   "execution_count": 5,
   "metadata": {},
   "outputs": [
    {
     "name": "stdout",
     "output_type": "stream",
     "text": [
      "branch test\n",
      "repm Zr Zr\n",
      "stp UO2 -10.56 600 \n",
      "\n"
     ]
    }
   ],
   "source": [
    "print(test.toString())"
   ]
  }
 ],
 "metadata": {
  "interpreter": {
   "hash": "40dd8ac0d9deade98bfeabe90f4917b89019717cb94bf6765b4ad8fd51991e19"
  },
  "kernelspec": {
   "display_name": "Python 3.7.4 64-bit ('base': conda)",
   "name": "python3"
  },
  "language_info": {
   "codemirror_mode": {
    "name": "ipython",
    "version": 3
   },
   "file_extension": ".py",
   "mimetype": "text/x-python",
   "name": "python",
   "nbconvert_exporter": "python",
   "pygments_lexer": "ipython3",
   "version": "3.7.4"
  }
 },
 "nbformat": 4,
 "nbformat_minor": 2
}
