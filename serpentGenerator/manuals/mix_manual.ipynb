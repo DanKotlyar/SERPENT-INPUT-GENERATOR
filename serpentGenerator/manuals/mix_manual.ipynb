{
 "cells": [
  {
   "cell_type": "code",
   "execution_count": 10,
   "metadata": {},
   "outputs": [],
   "source": [
    "import numpy as np\n",
    "\n",
    "from serpentGenerator.data.materialLibrary import MATLIB\n",
    "from serpentGenerator.functions.mix import mix"
   ]
  },
  {
   "cell_type": "markdown",
   "metadata": {},
   "source": [
    "## General Mix Objtect Initialization\n",
    "1. Can use ``vars(Object)`` function to aid user in seeing all available attributes and their types\n",
    "2. Class representing a mix of materials weighted by mass fraction. Resembles the \n",
    "serpent defnition of a mix. Often used when creating borated water.\n",
    "\n",
    "    Attributes\n",
    "    ----------\n",
    "    id : str\n",
    "        mix id/name\n",
    "\n",
    "    mats : list of materials objects\n",
    "        materials corresponding to mix\n",
    "        \n",
    "    massfracs : list of floats\n",
    "        massfracs corresponding to materials in mix\n"
   ]
  },
  {
   "cell_type": "code",
   "execution_count": 12,
   "metadata": {},
   "outputs": [],
   "source": [
    "mixmats = [MATLIB['lightWater'], MATLIB['boron']]\n",
    "massfracs = [.999750, .000250]\n",
    "mix1 = mix(\"250ppm\", mixmats, massfracs)\n"
   ]
  },
  {
   "cell_type": "markdown",
   "metadata": {},
   "source": [
    "## Mix Object in Serpent Form\n",
    "1. The mix Object can be seen in typical serpent input file format upon using the Object.``toString()`` function"
   ]
  },
  {
   "cell_type": "code",
   "execution_count": 13,
   "metadata": {},
   "outputs": [
    {
     "name": "stdout",
     "output_type": "stream",
     "text": [
      "mix 250ppm\n",
      "lightWater\t0.99975\n",
      "boron\t0.00025\n",
      "\n",
      "\n"
     ]
    }
   ],
   "source": [
    "print(mix1.toString())"
   ]
  }
 ],
 "metadata": {
  "interpreter": {
   "hash": "40dd8ac0d9deade98bfeabe90f4917b89019717cb94bf6765b4ad8fd51991e19"
  },
  "kernelspec": {
   "display_name": "Python 3.7.4 64-bit ('base': conda)",
   "name": "python3"
  },
  "language_info": {
   "codemirror_mode": {
    "name": "ipython",
    "version": 3
   },
   "file_extension": ".py",
   "mimetype": "text/x-python",
   "name": "python",
   "nbconvert_exporter": "python",
   "pygments_lexer": "ipython3",
   "version": "3.7.4"
  }
 },
 "nbformat": 4,
 "nbformat_minor": 2
}
