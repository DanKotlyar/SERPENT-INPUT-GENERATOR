{
 "cells": [
  {
   "cell_type": "code",
   "execution_count": 1,
   "metadata": {},
   "outputs": [],
   "source": [
    "import numpy as np\n",
    "from serpentGenerator.functions.pin import pin\n",
    "from serpentGenerator.functions.sqLattice import sqLat\n",
    "from serpentGenerator.functions.hexLattice import hexLat\n",
    "from serpentGenerator.functions.pinStack import pinStack \n",
    "from serpentGenerator.functions.lats import lats"
   ]
  },
  {
   "cell_type": "markdown",
   "metadata": {},
   "source": [
    "## Lats Objtect Initialization\n",
    "1. Can use ``vars(Object)`` function to aid user in seeing all available attributes and their types\n",
    "\n"
   ]
  },
  {
   "cell_type": "code",
   "execution_count": 2,
   "metadata": {},
   "outputs": [
    {
     "output_type": "stream",
     "name": "stdout",
     "text": [
      "{'nlats': 0, 'lats': {}}\n"
     ]
    }
   ],
   "source": [
    "latLib = lats()\n",
    "print(vars(latLib))"
   ]
  },
  {
   "cell_type": "markdown",
   "metadata": {},
   "source": [
    "## Setting lattice elements to the Lats Object\n",
    "1. Inidividual lat elements can be added to the lats object using the latsObject.``addLat(latObject)`` method\n",
    "2. A List of lattices can be added at once using the latsObject.``addLats([latObject1, latObject2, ...])`` method\n",
    "3. Lat elements added to the lats object cannot have matching lat ids, \n",
    "a key error will be thrown if the added lat has a matching lat id with an already exisiting lat element in the lats object\n",
    "4. The lats object accepts any lattice object type including sqLat, hexLat, and pinStack lattices.\n"
   ]
  },
  {
   "cell_type": "code",
   "execution_count": 3,
   "metadata": {},
   "outputs": [],
   "source": [
    "p1 = pin('1', 3)\n",
    "p2 = pin('2', 3)\n",
    "p3 = pin('3', 3)\n",
    "\n",
    "l1 = pinStack(\"101\", 0, 0, 22)\n",
    "pins1 = np.array([\n",
    "    p1,\n",
    "    p2, \n",
    "    p2, \n",
    "    p2, \n",
    "    p3, \n",
    "    p3, \n",
    "    p3, \n",
    "    p3, \n",
    "    p3, \n",
    "    p3, \n",
    "    p3, \n",
    "    p3, \n",
    "    p3, \n",
    "    p3, \n",
    "    p3,\n",
    "    p3,\n",
    "    p3,\n",
    "    p3,\n",
    "    p2,\n",
    "    p2,\n",
    "    p2,\n",
    "    p1\n",
    "    ])\n",
    "heights1 = np.array([\n",
    "-20.000,\n",
    "0.000000,\n",
    "18.28800,\n",
    "36.57600,\n",
    "54.86400,\n",
    "73.15200,\n",
    "91.44000,\n",
    "109.7280,\n",
    "128.0160,\n",
    "146.3040,\n",
    "164.5920,\n",
    "182.8800,\n",
    "201.1680,\n",
    "219.4560,\n",
    "237.7440,\n",
    "256.0320,\n",
    "274.3200,\n",
    "292.6080,\n",
    "310.8960,\n",
    "329.1840,\n",
    "347.4720,\n",
    "365.7600,\n",
    "    ])\n",
    "l1.setStack(pins1, heights1)"
   ]
  },
  {
   "cell_type": "code",
   "execution_count": 4,
   "metadata": {},
   "outputs": [],
   "source": [
    "l2 = sqLat(\"102\", 0, 0, 3, 1.260)\n",
    "latMap2 = np.array([[p1, p2, p1], [p2, p1, p2], [p1, p2, p1]])\n",
    "l2.setMap(latMap2)"
   ]
  },
  {
   "cell_type": "code",
   "execution_count": 5,
   "metadata": {},
   "outputs": [],
   "source": [
    "l3 = hexLat(\"103\", \"X\", 0, 0, 15, 15, 1.260)\n",
    "latMap3 = np.array([\n",
    "    [p1, p1, p1, p1, p1, p1, p1, p1, p1, p1, p1, p1, p1, p1, p1],\n",
    "    [p1, p1, p1, p1, p1, p1, p1, p2, p2, p2, p2, p2, p2, p2, p1],\n",
    "    [p1, p1, p1, p1, p1, p1, p2, p2, p2, p2, p2, p2, p2, p2, p1],\n",
    "    [p1, p1, p1, p1, p1, p2, p2, p2, p2, p2, p2, p2, p2, p2, p1],\n",
    "    [p1, p1, p1, p1, p2, p2, p2, p2, p2, p2, p2, p2, p2, p2, p1],\n",
    "    [p1, p1, p1, p2, p2, p2, p2, p2, p2, p2, p2, p2, p2, p2, p1],\n",
    "    [p1, p1, p2, p2, p2, p2, p2, p2, p2, p2, p2, p2, p2, p2, p1],\n",
    "    [p1, p2, p2, p2, p2, p2, p2, p3, p2, p2, p2, p2, p2, p2, p1],\n",
    "    [p1, p2, p2, p2, p2, p2, p2, p2, p2, p2, p2, p2, p2, p1, p1],\n",
    "    [p1, p2, p2, p2, p2, p2, p2, p2, p2, p2, p2, p2, p1, p1, p1],\n",
    "    [p1, p2, p2, p2, p2, p2, p2, p2, p2, p2, p2, p1, p1, p1, p1],\n",
    "    [p1, p2, p2, p2, p2, p2, p2, p2, p2, p2, p1, p1, p1, p1, p1],\n",
    "    [p1, p2, p2, p2, p2, p2, p2, p2, p2, p1, p1, p1, p1, p1, p1],\n",
    "    [p1, p2, p2, p2, p2, p2, p2, p2, p1, p1, p1, p1, p1, p1, p1],\n",
    "    [p1, p1, p1, p1, p1, p1, p1, p1, p1, p1, p1, p1, p1, p1, p1],\n",
    "    ])\n",
    "l3.setMap(latMap3)"
   ]
  },
  {
   "cell_type": "code",
   "execution_count": 6,
   "metadata": {},
   "outputs": [],
   "source": [
    "latList1 = [l1, l2, l3]\n",
    "latLib.addLats(latList1)"
   ]
  },
  {
   "cell_type": "markdown",
   "metadata": {},
   "source": [
    "## Lats Object in Serpent Form\n",
    "1. The lats Object can be seen in typical serpent input file format upon using the Object.``toString()`` function"
   ]
  },
  {
   "cell_type": "code",
   "execution_count": 7,
   "metadata": {},
   "outputs": [
    {
     "output_type": "stream",
     "name": "stdout",
     "text": [
      "101 9 0 0 22\n1\t-20.0\n2\t0.0\n2\t18.288\n2\t36.576\n3\t54.864\n3\t73.152\n3\t91.44\n3\t109.728\n3\t128.016\n3\t146.304\n3\t164.592\n3\t182.88\n3\t201.168\n3\t219.456\n3\t237.744\n3\t256.032\n3\t274.32\n3\t292.608\n2\t310.896\n2\t329.184\n2\t347.472\n1\t365.76\n\n102 0 0  3 1.26\n1 2 1 \n2 1 2 \n1 2 1 \n\n103 2 0 0 15 15 1.26\n1 1 1 1 1 1 1 1 1 1 1 1 1 1 1 \n 1 1 1 1 1 1 1 2 2 2 2 2 2 2 1 \n  1 1 1 1 1 1 2 2 2 2 2 2 2 2 1 \n   1 1 1 1 1 2 2 2 2 2 2 2 2 2 1 \n    1 1 1 1 2 2 2 2 2 2 2 2 2 2 1 \n     1 1 1 2 2 2 2 2 2 2 2 2 2 2 1 \n      1 1 2 2 2 2 2 2 2 2 2 2 2 2 1 \n       1 2 2 2 2 2 2 3 2 2 2 2 2 2 1 \n        1 2 2 2 2 2 2 2 2 2 2 2 2 1 1 \n         1 2 2 2 2 2 2 2 2 2 2 2 1 1 1 \n          1 2 2 2 2 2 2 2 2 2 2 1 1 1 1 \n           1 2 2 2 2 2 2 2 2 2 1 1 1 1 1 \n            1 2 2 2 2 2 2 2 2 1 1 1 1 1 1 \n             1 2 2 2 2 2 2 2 1 1 1 1 1 1 1 \n              1 1 1 1 1 1 1 1 1 1 1 1 1 1 1 \n               \n\n"
     ]
    }
   ],
   "source": [
    "print(latLib.toString())"
   ]
  },
  {
   "source": [
    "## Removing Lat elements from the lats Object\n",
    "1. Inidividual lat elements can be removed from the lats object using the latsObject.``removeLat(removedLatId)`` method\n",
    "2. A key error will be thrown if the latId of the desired removed lat does not exist within in the latsObject."
   ],
   "cell_type": "markdown",
   "metadata": {}
  },
  {
   "cell_type": "code",
   "execution_count": 8,
   "metadata": {},
   "outputs": [
    {
     "output_type": "stream",
     "name": "stdout",
     "text": [
      "{'nlats': 2, 'lats': {'102': <serpentGenerator.functions.sqLattice.sqLat object at 0x000001A5E81A1508>, '103': <serpentGenerator.functions.hexLattice.hexLat object at 0x000001A5E81BCD48>}}\n102 0 0  3 1.26\n1 2 1 \n2 1 2 \n1 2 1 \n\n103 2 0 0 15 15 1.26\n1 1 1 1 1 1 1 1 1 1 1 1 1 1 1 \n 1 1 1 1 1 1 1 2 2 2 2 2 2 2 1 \n  1 1 1 1 1 1 2 2 2 2 2 2 2 2 1 \n   1 1 1 1 1 2 2 2 2 2 2 2 2 2 1 \n    1 1 1 1 2 2 2 2 2 2 2 2 2 2 1 \n     1 1 1 2 2 2 2 2 2 2 2 2 2 2 1 \n      1 1 2 2 2 2 2 2 2 2 2 2 2 2 1 \n       1 2 2 2 2 2 2 3 2 2 2 2 2 2 1 \n        1 2 2 2 2 2 2 2 2 2 2 2 2 1 1 \n         1 2 2 2 2 2 2 2 2 2 2 2 1 1 1 \n          1 2 2 2 2 2 2 2 2 2 2 1 1 1 1 \n           1 2 2 2 2 2 2 2 2 2 1 1 1 1 1 \n            1 2 2 2 2 2 2 2 2 1 1 1 1 1 1 \n             1 2 2 2 2 2 2 2 1 1 1 1 1 1 1 \n              1 1 1 1 1 1 1 1 1 1 1 1 1 1 1 \n               \n\n"
     ]
    }
   ],
   "source": [
    "latLib.removeLat(\"101\")\n",
    "print(vars(latLib))\n",
    "print(latLib.toString())"
   ]
  },
  {
   "source": [
    "## Retrieving lattice elements from the Lats Object\n",
    "1. Inidividual lattice elements can be retrieved from the lats object using the latsObject.``getLat(latId)`` method\n",
    "2. A key error will be thrown if the latId of the desired lat does not exist within in the latsObject."
   ],
   "cell_type": "markdown",
   "metadata": {}
  },
  {
   "cell_type": "code",
   "execution_count": 12,
   "metadata": {},
   "outputs": [
    {
     "output_type": "stream",
     "name": "stdout",
     "text": [
      "{'id': '102', 'xo': 0, 'yo': 0, 'nelements': 3, 'pitch': 1.26, 'map': array([[<serpentGenerator.functions.pin.pin object at 0x000001A5E81A1D08>,\n        <serpentGenerator.functions.pin.pin object at 0x000001A5E81A1CC8>,\n        <serpentGenerator.functions.pin.pin object at 0x000001A5E81A1D08>],\n       [<serpentGenerator.functions.pin.pin object at 0x000001A5E81A1CC8>,\n        <serpentGenerator.functions.pin.pin object at 0x000001A5E81A1D08>,\n        <serpentGenerator.functions.pin.pin object at 0x000001A5E81A1CC8>],\n       [<serpentGenerator.functions.pin.pin object at 0x000001A5E81A1D08>,\n        <serpentGenerator.functions.pin.pin object at 0x000001A5E81A1CC8>,\n        <serpentGenerator.functions.pin.pin object at 0x000001A5E81A1D08>]],\n      dtype=object)}\n102 0 0  3 1.26\n1 2 1 \n2 1 2 \n1 2 1 \n\n\n"
     ]
    }
   ],
   "source": [
    "retrievedLat = latLib.getLat(\"102\")\n",
    "print(vars(retrievedLat))\n",
    "print(retrievedLat.toString())\n"
   ]
  },
  {
   "cell_type": "code",
   "execution_count": null,
   "metadata": {},
   "outputs": [],
   "source": []
  }
 ],
 "metadata": {
  "interpreter": {
   "hash": "40dd8ac0d9deade98bfeabe90f4917b89019717cb94bf6765b4ad8fd51991e19"
  },
  "kernelspec": {
   "name": "python3",
   "display_name": "Python 3.7.4 64-bit ('base': conda)"
  },
  "language_info": {
   "codemirror_mode": {
    "name": "ipython",
    "version": 3
   },
   "file_extension": ".py",
   "mimetype": "text/x-python",
   "name": "python",
   "nbconvert_exporter": "python",
   "pygments_lexer": "ipython3",
   "version": "3.7.4"
  }
 },
 "nbformat": 4,
 "nbformat_minor": 2
}