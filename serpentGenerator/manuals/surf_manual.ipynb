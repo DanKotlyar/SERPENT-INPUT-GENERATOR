{
 "cells": [
  {
   "cell_type": "code",
   "execution_count": 1,
   "metadata": {},
   "outputs": [],
   "source": [
    "import numpy as np\n",
    "\n",
    "from serpentGenerator.functions.surf import surf"
   ]
  },
  {
   "cell_type": "markdown",
   "metadata": {},
   "source": [
    "## General Surface Objtect Initialization\n",
    "1. Can use ``vars(Object)`` function to aid user in seeing all available attributes and their types"
   ]
  },
  {
   "cell_type": "code",
   "execution_count": 2,
   "metadata": {},
   "outputs": [
    {
     "output_type": "stream",
     "name": "stdout",
     "text": [
      "{'id': '1', 'type': 'sqc', 'params': array([ 0.  ,  0.  , 10.75,  0.  ])}\n{'id': '2', 'type': 'sph', 'params': array([ 0.  ,  0.  ,  0.  , 10.75])}\n"
     ]
    }
   ],
   "source": [
    "s1 = surf(\"1\", \"sqc\", np.array([0, 0, 10.75, 0]))\n",
    "s2 = surf(\"2\", \"sph\", np.array([0, 0, 0, 10.75]))\n",
    "print(vars(s1))\n",
    "print(vars(s2))"
   ]
  },
  {
   "cell_type": "markdown",
   "metadata": {},
   "source": [
    "## Surf Object in Serpent Form\n",
    "1. The surf Object can be seen in typical serpent input file format upon using the Object.``toString()`` function"
   ]
  },
  {
   "cell_type": "code",
   "execution_count": 3,
   "metadata": {},
   "outputs": [
    {
     "output_type": "stream",
     "name": "stdout",
     "text": [
      "surf 1 sqc 0.0 0.0 10.75 0.0 \n\nsurf 2 sph 0.0 0.0 0.0 10.75 \n\n"
     ]
    }
   ],
   "source": [
    "print(s1.toString())\n",
    "print(s2.toString())"
   ]
  }
 ],
 "metadata": {
  "interpreter": {
   "hash": "5f292722d6d50c2426abae6fd15a85386b49c5393ec98f1c35f79e4e4dd7448b"
  },
  "kernelspec": {
   "name": "python3",
   "display_name": "Python 3.7.4 64-bit ('base': conda)"
  },
  "language_info": {
   "codemirror_mode": {
    "name": "ipython",
    "version": 3
   },
   "file_extension": ".py",
   "mimetype": "text/x-python",
   "name": "python",
   "nbconvert_exporter": "python",
   "pygments_lexer": "ipython3",
   "version": "3.7.4"
  }
 },
 "nbformat": 4,
 "nbformat_minor": 2
}