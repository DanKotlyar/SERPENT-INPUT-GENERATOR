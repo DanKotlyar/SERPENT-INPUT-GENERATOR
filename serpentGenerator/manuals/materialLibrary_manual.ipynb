{
 "cells": [
  {
   "cell_type": "code",
   "execution_count": 17,
   "metadata": {},
   "outputs": [],
   "source": [
    "from serpentGenerator.functions.material import material"
   ]
  },
  {
   "source": [
    "### Importing the material library"
   ],
   "cell_type": "markdown",
   "metadata": {}
  },
  {
   "cell_type": "code",
   "execution_count": 18,
   "metadata": {},
   "outputs": [],
   "source": [
    "from serpentGenerator.data.materialLibrary import MATLIB"
   ]
  },
  {
   "source": [
    "### List all materials in the material library"
   ],
   "cell_type": "markdown",
   "metadata": {}
  },
  {
   "cell_type": "code",
   "execution_count": 19,
   "metadata": {},
   "outputs": [
    {
     "output_type": "execute_result",
     "data": {
      "text/plain": [
       "['UO2', 'Zr', 'boron', 'lightWater', 'plenum']"
      ]
     },
     "metadata": {},
     "execution_count": 19
    }
   ],
   "source": [
    "list(MATLIB)"
   ]
  },
  {
   "source": [
    "### List all attributes of pregenerated material "
   ],
   "cell_type": "markdown",
   "metadata": {}
  },
  {
   "cell_type": "code",
   "execution_count": 20,
   "metadata": {},
   "outputs": [
    {
     "output_type": "stream",
     "name": "stdout",
     "text": [
      "{'name': 'UO2', 'isBurn': True, 'isModer': True, 'dens': -10.2141, 'nuclides': array([92235, 92238,  8016], dtype=int64), 'fractions': array([0.00081508, 0.02218898, 0.04600811]), 'temp': 0.0, 'xsLib': '09c', 'modLib': 'None', 'color': 'orange'}\n"
     ]
    }
   ],
   "source": [
    "fuel = MATLIB['UO2']\n",
    "print(vars(fuel))"
   ]
  },
  {
   "source": [
    "### Contains all attributes and methods as normal material object, retains all functionality"
   ],
   "cell_type": "markdown",
   "metadata": {}
  },
  {
   "cell_type": "code",
   "execution_count": 21,
   "metadata": {},
   "outputs": [
    {
     "output_type": "stream",
     "name": "stdout",
     "text": [
      "mat UO2    -10.2141 moder None burn 1  rgb 255 165   0\n92235.09c\t0.000815077056\n92238.09c\t0.0221889771\n8016.09c\t0.0460081082\n\n"
     ]
    }
   ],
   "source": [
    "print(fuel.toString())"
   ]
  }
 ],
 "metadata": {
  "interpreter": {
   "hash": "5f292722d6d50c2426abae6fd15a85386b49c5393ec98f1c35f79e4e4dd7448b"
  },
  "kernelspec": {
   "name": "python3",
   "display_name": "Python 3.7.4 64-bit ('base': conda)"
  },
  "language_info": {
   "codemirror_mode": {
    "name": "ipython",
    "version": 3
   },
   "file_extension": ".py",
   "mimetype": "text/x-python",
   "name": "python",
   "nbconvert_exporter": "python",
   "pygments_lexer": "ipython3",
   "version": "3.7.4"
  }
 },
 "nbformat": 4,
 "nbformat_minor": 2
}