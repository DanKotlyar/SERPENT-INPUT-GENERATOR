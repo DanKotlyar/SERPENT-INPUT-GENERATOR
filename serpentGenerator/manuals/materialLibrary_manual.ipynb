{
 "cells": [
  {
   "cell_type": "code",
   "execution_count": 1,
   "metadata": {},
   "outputs": [],
   "source": [
    "import numpy as np\n",
    "from serpentGenerator.functions.material import material"
   ]
  },
  {
   "cell_type": "markdown",
   "metadata": {},
   "source": [
    "### Material Library"
   ]
  },
  {
   "cell_type": "markdown",
   "metadata": {},
   "source": [
    "material library consisitng of a pre generated dictionary of various materials often\n",
    "used in reactors. The user can import the material library to save time \n",
    "when generating input files using preset material definitions. The material library\n",
    "is dynamic such that the user can add their own generated materials to the library.\n",
    "The materials are stored in an hdf5 file so user generated materials will be stored \n",
    "permanently, and thus are able to be used in different workflows. \n"
   ]
  },
  {
   "cell_type": "markdown",
   "metadata": {},
   "source": [
    "### Importing the material library"
   ]
  },
  {
   "cell_type": "code",
   "execution_count": 2,
   "metadata": {},
   "outputs": [
    {
     "name": "stderr",
     "output_type": "stream",
     "text": [
      "C:\\Users\\Owner\\Anaconda3\\lib\\site-packages\\h5py\\_hl\\dataset.py:313: H5pyDeprecationWarning: dataset.value has been deprecated. Use dataset[()] instead.\n",
      "  \"Use dataset[()] instead.\", H5pyDeprecationWarning)\n"
     ]
    }
   ],
   "source": [
    "from serpentGenerator.data.materialLibrary import MATLIB"
   ]
  },
  {
   "cell_type": "markdown",
   "metadata": {},
   "source": [
    "### List all materials in the material library"
   ]
  },
  {
   "cell_type": "code",
   "execution_count": 3,
   "metadata": {},
   "outputs": [
    {
     "data": {
      "text/plain": [
       "['B', 'H2O', 'Reflector', 'UO2', 'Zr', 'water']"
      ]
     },
     "execution_count": 3,
     "metadata": {},
     "output_type": "execute_result"
    }
   ],
   "source": [
    "list(MATLIB)"
   ]
  },
  {
   "cell_type": "markdown",
   "metadata": {},
   "source": [
    "### List all attributes of pregenerated material "
   ]
  },
  {
   "cell_type": "code",
   "execution_count": 4,
   "metadata": {},
   "outputs": [
    {
     "name": "stdout",
     "output_type": "stream",
     "text": [
      "{'id': 'UO2', 'isBurn': True, 'isModer': False, 'dens': -10.5216, 'nuclides': array([92235, 92238,  8016]), 'fractions': array([0.00081508, 0.02218898, 0.04600811]), 'temp': 0.0, 'xsLib': '09c', 'modLib': '', 'color': '', 'rgb': ''}\n"
     ]
    }
   ],
   "source": [
    "fuel = MATLIB['UO2']\n",
    "print(vars(fuel))"
   ]
  },
  {
   "cell_type": "markdown",
   "metadata": {},
   "source": [
    "### Contains all attributes and methods as normal material object, retains all functionality"
   ]
  },
  {
   "cell_type": "code",
   "execution_count": 5,
   "metadata": {},
   "outputs": [
    {
     "name": "stdout",
     "output_type": "stream",
     "text": [
      "mat UO2    -10.5216  burn 1  \n",
      "92235.09c\t0.000815077056\n",
      "92238.09c\t0.0221889771\n",
      "8016.09c\t0.0460081082\n",
      "\n",
      "\n"
     ]
    }
   ],
   "source": [
    "print(fuel.toString())"
   ]
  },
  {
   "cell_type": "markdown",
   "metadata": {},
   "source": [
    "### Adding Materials to the Dynamic Material Library"
   ]
  },
  {
   "cell_type": "code",
   "execution_count": 6,
   "metadata": {},
   "outputs": [],
   "source": [
    "from serpentGenerator.data.materialLibrary import addMaterial\n"
   ]
  },
  {
   "cell_type": "code",
   "execution_count": 8,
   "metadata": {},
   "outputs": [],
   "source": [
    "ba = MATLIB['B'].duplicateMat(\"B4C-90%\") # 90% wt enriched b-10\n",
    "\n",
    "MB = 10.8\n",
    "MC = 12\n",
    "MB4C = MB*4 + MC\n",
    "rhoB4C = 2.52\n",
    "AvroNorm = .6022\n",
    "nb4c = rhoB4C*AvroNorm/MB4C\n",
    "nc12 = nb4c\n",
    "b10_enrich = .90\n",
    "b11_enrich = 1 - b10_enrich\n",
    "nb10 = nb4c*b10_enrich\n",
    "nb11 = nb4c*b11_enrich\n",
    "\n",
    "b4cdens = np.float64(-2.52)\n",
    "ba.set('rgb', \"255 255 0\")\n",
    "ba.set('nuclides', np.array([5010, 5011, 6012]))\n",
    "ba.set('fractions', np.array([nb10, nb11, nc12]))\n",
    "ba.set('dens', np.float64(-1*rhoB4C))\n",
    "ba.set('isBurn', True)\n",
    "\n",
    "addMaterial(ba)\n"
   ]
  }
 ],
 "metadata": {
  "interpreter": {
   "hash": "40dd8ac0d9deade98bfeabe90f4917b89019717cb94bf6765b4ad8fd51991e19"
  },
  "kernelspec": {
   "display_name": "Python 3.7.4 64-bit ('base': conda)",
   "name": "python3"
  },
  "language_info": {
   "codemirror_mode": {
    "name": "ipython",
    "version": 3
   },
   "file_extension": ".py",
   "mimetype": "text/x-python",
   "name": "python",
   "nbconvert_exporter": "python",
   "pygments_lexer": "ipython3",
   "version": "3.7.4"
  }
 },
 "nbformat": 4,
 "nbformat_minor": 2
}
