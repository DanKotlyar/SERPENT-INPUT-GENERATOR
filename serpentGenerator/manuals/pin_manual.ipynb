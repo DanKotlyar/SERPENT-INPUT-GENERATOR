{
 "cells": [
  {
   "cell_type": "code",
   "execution_count": 2,
   "metadata": {},
   "outputs": [],
   "source": [
    "import numpy as np\n",
    "\n",
    "from serpentGenerator.functions.pin import pin\n",
    "from serpentGenerator.functions.material import material\n",
    "from serpentGenerator.data.materialLibrary import MATLIB"
   ]
  },
  {
   "cell_type": "markdown",
   "metadata": {},
   "source": [
    "## Pin Objtect Initialization\n",
    "1. Attributes given: ``id``: \"1\", ``nregions``: 3\n",
    "2. Can use``vars(Object)`` function to aid user in seeing all available attributes and their types\n",
    "\n"
   ]
  },
  {
   "cell_type": "code",
   "execution_count": 3,
   "metadata": {},
   "outputs": [
    {
     "name": "stdout",
     "output_type": "stream",
     "text": [
      "{'id': '1', 'nregions': 3, 'materials': array([], dtype=object), 'radii': array([], dtype=float64)}\n"
     ]
    }
   ],
   "source": [
    "pin1 = pin(\"1\", 3)\n",
    "print(vars(pin1))"
   ]
  },
  {
   "cell_type": "markdown",
   "metadata": {},
   "source": [
    "## Setting Pin Object Attributes\n",
    "1. Attribute values are given using the Object.``set('attr', 'val')`` function\n",
    "2. Will raise error if attribute does not exist and if incorrect type of val is given.\n",
    "3. Will raise warning if certain parameters are not set\n"
   ]
  },
  {
   "cell_type": "code",
   "execution_count": 4,
   "metadata": {},
   "outputs": [],
   "source": [
    "materials1 = np.array([MATLIB['UO2'], MATLIB['Zr'], \n",
    "    MATLIB['lightWater']], dtype = material)\n",
    "radii1 = np.array([.45, .47])\n",
    "pin1.set('materials', materials1)\n",
    "pin1.set('radii', radii1)"
   ]
  },
  {
   "cell_type": "markdown",
   "metadata": {},
   "source": [
    "## Pin Object in Serpent Form\n",
    "1. The material Object can be seen in typical serpent input file format upon using the Object.``toString()`` function"
   ]
  },
  {
   "cell_type": "code",
   "execution_count": 5,
   "metadata": {},
   "outputs": [
    {
     "name": "stdout",
     "output_type": "stream",
     "text": [
      "pin 1\n",
      "UO2\t0.45\n",
      "Zr\t0.47\n",
      "lightWater\n",
      "\n"
     ]
    }
   ],
   "source": [
    "print(pin1.toString())"
   ]
  },
  {
   "cell_type": "markdown",
   "metadata": {},
   "source": [
    "## Duplicating pin objects\n",
    "1. A copy/duplicate pin object can be made from an exisiting pin object using the Object.``duplicatePin('newPinId')`` function\n",
    "2. ``newPinId`` must be provided, pins cannot have matching pinIds an error will be raised when added to a pins element.\n"
   ]
  },
  {
   "cell_type": "code",
   "execution_count": 6,
   "metadata": {},
   "outputs": [
    {
     "name": "stdout",
     "output_type": "stream",
     "text": [
      "pin 1\n",
      "UO2\t0.45\n",
      "Zr\t0.47\n",
      "lightWater\n",
      "\n",
      "pin 2\n",
      "UO2\t0.45\n",
      "Zr\t0.47\n",
      "lightWater\n",
      "\n"
     ]
    }
   ],
   "source": [
    "pin2 = pin1.duplicatePin(\"2\")\n",
    "print(pin1.toString())\n",
    "print(pin2.toString())"
   ]
  }
 ],
 "metadata": {
  "interpreter": {
   "hash": "5f292722d6d50c2426abae6fd15a85386b49c5393ec98f1c35f79e4e4dd7448b"
  },
  "kernelspec": {
   "display_name": "Python 3",
   "language": "python",
   "name": "python3"
  },
  "language_info": {
   "codemirror_mode": {
    "name": "ipython",
    "version": 3
   },
   "file_extension": ".py",
   "mimetype": "text/x-python",
   "name": "python",
   "nbconvert_exporter": "python",
   "pygments_lexer": "ipython3",
   "version": "3.7.4"
  }
 },
 "nbformat": 4,
 "nbformat_minor": 2
}
