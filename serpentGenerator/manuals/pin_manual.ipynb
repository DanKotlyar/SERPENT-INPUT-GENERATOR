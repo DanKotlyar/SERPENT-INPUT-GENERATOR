{
 "cells": [
  {
   "cell_type": "code",
   "execution_count": 1,
   "metadata": {},
   "outputs": [],
   "source": [
    "import numpy as np\n",
    "\n",
    "from serpentGenerator.functions.pin import pin\n",
    "from serpentGenerator.functions.material import material\n",
    "from serpentGenerator.data.materialLibrary import MATLIB"
   ]
  },
  {
   "cell_type": "markdown",
   "metadata": {},
   "source": [
    "## Pin Objtect Initialization\n",
    "1. Attributes given: ``id``: \"1\", ``nregions``: 3\n",
    "2. Can use``vars(Object)`` function to aid user in seeing all available attributes and their types\n",
    "\n"
   ]
  },
  {
   "cell_type": "code",
   "execution_count": 2,
   "metadata": {},
   "outputs": [
    {
     "name": "stdout",
     "output_type": "stream",
     "text": [
      "{'id': '1', 'layout': None, 'cells': {}, 'elements': {}, 'univMats': {}, 'univSurfs': {}, 'geoLevel': 1, 'boundary': None, '_universe__allElements': {}, '_universe__allMats': {}, '_universe__allSurfs': {}, '_universe__allCells': {}, 'nregions': 3, 'materials': [], 'radii': [], 'isVoid': False}\n"
     ]
    }
   ],
   "source": [
    "pin1 = pin(\"1\", 3)\n",
    "print(vars(pin1))"
   ]
  },
  {
   "cell_type": "markdown",
   "metadata": {},
   "source": [
    "## Setting Pin Object Attributes\n",
    "1. Attribute values are given using the Object.``set('attr', 'val')`` function\n",
    "2. Will raise error if attribute does not exist and if incorrect type of val is given.\n",
    "3. Will raise warning if certain parameters are not set\n",
    "4. Can also use ``setPin(**kwargs)`` to set parameter all at once\n"
   ]
  },
  {
   "cell_type": "code",
   "execution_count": 5,
   "metadata": {},
   "outputs": [],
   "source": [
    "materials1 = [MATLIB['UO2'], MATLIB['Zr'], \n",
    "    MATLIB['H2O']]\n",
    "radii1 = [.45, .47]\n",
    "pin1.set('materials', materials1)\n",
    "pin1.set('radii', radii1)"
   ]
  },
  {
   "cell_type": "code",
   "execution_count": 9,
   "metadata": {},
   "outputs": [],
   "source": [
    "pin1.setPin(materials1, radii1)"
   ]
  },
  {
   "cell_type": "markdown",
   "metadata": {},
   "source": [
    "## Pin Object in Serpent Form\n",
    "1. The pin Object can be seen in typical serpent input file format upon using the Object.``toString()`` function"
   ]
  },
  {
   "cell_type": "code",
   "execution_count": 10,
   "metadata": {},
   "outputs": [
    {
     "name": "stdout",
     "output_type": "stream",
     "text": [
      "pin 1\n",
      "UO2\t0.45\n",
      "Zr\t0.47\n",
      "H2O\n",
      "\n",
      "\n"
     ]
    }
   ],
   "source": [
    "print(pin1.toString())"
   ]
  },
  {
   "cell_type": "markdown",
   "metadata": {},
   "source": [
    "## Duplicating pin objects\n",
    "1. A copy/duplicate pin object can be made from an exisiting pin object using the Object.``duplicatePin('newPinId')`` function\n",
    "2. ``newPinId`` must be provided, pins cannot have matching pinIds an error will be raised when added to a pins element.\n"
   ]
  },
  {
   "cell_type": "code",
   "execution_count": 8,
   "metadata": {},
   "outputs": [
    {
     "name": "stdout",
     "output_type": "stream",
     "text": [
      "pin 1\n",
      "UO2\t0.45\n",
      "Zr\t0.47\n",
      "H2O\n",
      "\n",
      "\n",
      "pin 2\n",
      "UO2\t0.45\n",
      "Zr\t0.47\n",
      "H2O\n",
      "\n",
      "\n"
     ]
    }
   ],
   "source": [
    "pin2 = pin1.duplicate(\"2\")\n",
    "print(pin1.toString())\n",
    "print(pin2.toString())"
   ]
  }
 ],
 "metadata": {
  "kernelspec": {
   "display_name": "Python 3.7.4 ('base')",
   "language": "python",
   "name": "python3"
  },
  "language_info": {
   "codemirror_mode": {
    "name": "ipython",
    "version": 3
   },
   "file_extension": ".py",
   "mimetype": "text/x-python",
   "name": "python",
   "nbconvert_exporter": "python",
   "pygments_lexer": "ipython3",
   "version": "3.7.4"
  },
  "vscode": {
   "interpreter": {
    "hash": "c1124073dee199d8e1894afd18905e6ab65c2b78c2f71f2204c8c819619ccb15"
   }
  }
 },
 "nbformat": 4,
 "nbformat_minor": 2
}
