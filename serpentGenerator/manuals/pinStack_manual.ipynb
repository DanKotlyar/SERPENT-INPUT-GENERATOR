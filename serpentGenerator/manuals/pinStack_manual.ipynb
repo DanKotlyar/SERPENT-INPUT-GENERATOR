{
 "cells": [
  {
   "cell_type": "code",
   "execution_count": 1,
   "metadata": {},
   "outputs": [],
   "source": [
    "import numpy as np\n",
    "from serpentGenerator.functions.pin import pin\n",
    "from serpentGenerator.functions.pinStack import pinStack\n"
   ]
  },
  {
   "cell_type": "markdown",
   "metadata": {},
   "source": [
    "## pinStack Objtect Initialization\n",
    "1. Can use ``vars(Object)`` function to aid user in seeing all available attributes and their types\n",
    "\n"
   ]
  },
  {
   "cell_type": "code",
   "execution_count": 2,
   "metadata": {},
   "outputs": [
    {
     "output_type": "stream",
     "name": "stdout",
     "text": [
      "{'id': '101', 'type': <class 'type'>, 'xo': 0, 'yo': 0, 'nelements': 22, 'pins': array([], dtype=float64), 'heights': array([], dtype=float64)}\n"
     ]
    }
   ],
   "source": [
    "lat1 = pinStack(\"101\", 0, 0, 22)\n",
    "print(vars(lat1))"
   ]
  },
  {
   "cell_type": "markdown",
   "metadata": {},
   "source": [
    "## Setting the pins and corresponding pin heights for the pinStack object\n",
    "1. The pins and corresponding pin heights can be set using the Object.``setStack(pins, heights)`` function\n",
    "2. The number of pins and corresponding pin heights arrays must be equal in length to the number of axial layers in the pinStack\n"
   ]
  },
  {
   "cell_type": "code",
   "execution_count": 3,
   "metadata": {},
   "outputs": [],
   "source": [
    "p1 = pin('1', 3)\n",
    "p2 = pin('2', 3)\n",
    "p3 = pin('3', 3)\n",
    "pins1 = np.array([\n",
    "    p1,\n",
    "    p2, \n",
    "    p2, \n",
    "    p2, \n",
    "    p3, \n",
    "    p3, \n",
    "    p3, \n",
    "    p3, \n",
    "    p3, \n",
    "    p3, \n",
    "    p3, \n",
    "    p3, \n",
    "    p3, \n",
    "    p3, \n",
    "    p3,\n",
    "    p3,\n",
    "    p3,\n",
    "    p3,\n",
    "    p2,\n",
    "    p2,\n",
    "    p2,\n",
    "    p1\n",
    "    ])\n",
    "heights1 = np.array([\n",
    "-20.000,\n",
    "0.000000,\n",
    "18.28800,\n",
    "36.57600,\n",
    "54.86400,\n",
    "73.15200,\n",
    "91.44000,\n",
    "109.7280,\n",
    "128.0160,\n",
    "146.3040,\n",
    "164.5920,\n",
    "182.8800,\n",
    "201.1680,\n",
    "219.4560,\n",
    "237.7440,\n",
    "256.0320,\n",
    "274.3200,\n",
    "292.6080,\n",
    "310.8960,\n",
    "329.1840,\n",
    "347.4720,\n",
    "365.7600,\n",
    "    ])\n",
    "lat1.setStack(pins1, heights1)"
   ]
  },
  {
   "cell_type": "markdown",
   "metadata": {},
   "source": [
    "## pinStack Object in Serpent Form\n",
    "1. The pinStack Object can be seen in typical serpent input file format upon using the Object.``toString()`` function\n",
    "2. The pinStack cannot be empty when calling the Object.``toString()`` function"
   ]
  },
  {
   "cell_type": "code",
   "execution_count": 4,
   "metadata": {},
   "outputs": [
    {
     "output_type": "stream",
     "name": "stdout",
     "text": [
      "101 9 0 0 22\n1\t-20.0\n2\t0.0\n2\t18.288\n2\t36.576\n3\t54.864\n3\t73.152\n3\t91.44\n3\t109.728\n3\t128.016\n3\t146.304\n3\t164.592\n3\t182.88\n3\t201.168\n3\t219.456\n3\t237.744\n3\t256.032\n3\t274.32\n3\t292.608\n2\t310.896\n2\t329.184\n2\t347.472\n1\t365.76\n\n\n"
     ]
    }
   ],
   "source": [
    "print(lat1.toString())"
   ]
  },
  {
   "cell_type": "markdown",
   "metadata": {},
   "source": [
    "## Duplicating Lattice Objects\n",
    "1. A copy/duplicate pinStack object can be made from an exisiting lattice using the Object.``duplicateLat('newLatId')`` function\n",
    "2. ``newLatId`` must be provided, lattices cannot have matching Ids an error will be raised when added to a lats object for storage."
   ]
  },
  {
   "cell_type": "code",
   "execution_count": 5,
   "metadata": {},
   "outputs": [
    {
     "output_type": "stream",
     "name": "stdout",
     "text": [
      "102 9 0 0 22\n1\t-20.0\n2\t0.0\n2\t18.288\n2\t36.576\n3\t54.864\n3\t73.152\n3\t91.44\n3\t109.728\n3\t128.016\n3\t146.304\n3\t164.592\n3\t182.88\n3\t201.168\n3\t219.456\n3\t237.744\n3\t256.032\n3\t274.32\n3\t292.608\n2\t310.896\n2\t329.184\n2\t347.472\n1\t365.76\n\n\n"
     ]
    }
   ],
   "source": [
    "lat2 = lat1.duplicateLat(\"102\")\n",
    "print(lat2.toString())"
   ]
  },
  {
   "cell_type": "markdown",
   "metadata": {},
   "source": [
    "## Modifying pinStack \n",
    "1. the Object.``replacePin(oldPin, newPin)`` function can be used to replace pins in the lattice map layout"
   ]
  },
  {
   "cell_type": "code",
   "execution_count": 6,
   "metadata": {},
   "outputs": [
    {
     "output_type": "stream",
     "name": "stdout",
     "text": [
      "102 9 0 0 22\n1\t-20.0\n3\t0.0\n3\t18.288\n3\t36.576\n3\t54.864\n3\t73.152\n3\t91.44\n3\t109.728\n3\t128.016\n3\t146.304\n3\t164.592\n3\t182.88\n3\t201.168\n3\t219.456\n3\t237.744\n3\t256.032\n3\t274.32\n3\t292.608\n3\t310.896\n3\t329.184\n3\t347.472\n1\t365.76\n\n\n"
     ]
    }
   ],
   "source": [
    "lat2.replacePin(p2, p3)\n",
    "print(lat2.toString())"
   ]
  }
 ],
 "metadata": {
  "interpreter": {
   "hash": "40dd8ac0d9deade98bfeabe90f4917b89019717cb94bf6765b4ad8fd51991e19"
  },
  "kernelspec": {
   "name": "python3",
   "display_name": "Python 3.7.4 64-bit ('base': conda)"
  },
  "language_info": {
   "codemirror_mode": {
    "name": "ipython",
    "version": 3
   },
   "file_extension": ".py",
   "mimetype": "text/x-python",
   "name": "python",
   "nbconvert_exporter": "python",
   "pygments_lexer": "ipython3",
   "version": "3.7.4"
  }
 },
 "nbformat": 4,
 "nbformat_minor": 2
}