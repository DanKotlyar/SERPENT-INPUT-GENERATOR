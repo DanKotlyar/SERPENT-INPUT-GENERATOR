{
 "cells": [
  {
   "cell_type": "code",
   "execution_count": 1,
   "source": [
    "import numpy as np\r\n",
    "from serpentGenerator.functions.pin import pin\r\n",
    "from serpentGenerator.functions.pinStack import pinStack\r\n"
   ],
   "outputs": [],
   "metadata": {}
  },
  {
   "cell_type": "markdown",
   "source": [
    "## pinStack Objtect Initialization\n",
    "1. Can use ``vars(Object)`` function to aid user in seeing all available attributes and their types\n",
    "\n"
   ],
   "metadata": {}
  },
  {
   "cell_type": "code",
   "execution_count": 2,
   "source": [
    "lat1 = pinStack(\"101\", 0, 0, 22)\r\n",
    "print(vars(lat1))"
   ],
   "outputs": [
    {
     "output_type": "stream",
     "name": "stdout",
     "text": [
      "{'id': '101', 'type': <class 'type'>, 'xo': 0, 'yo': 0, 'nelements': 22, 'pins': array([], dtype=float64), 'heights': array([], dtype=float64), '_pinsDict': <serpentGenerator.functions.pins.pins object at 0x0000015559A38310>}\n"
     ]
    }
   ],
   "metadata": {}
  },
  {
   "cell_type": "markdown",
   "source": [
    "## Setting the pins and corresponding pin heights for the pinStack object\n",
    "1. The pins and corresponding pin heights can be set using the Object.``setStack(pins, heights)`` function\n",
    "2. The number of pins and corresponding pin heights arrays must be equal in length to the number of axial layers in the pinStack\n"
   ],
   "metadata": {}
  },
  {
   "cell_type": "code",
   "execution_count": 3,
   "source": [
    "p1 = pin('1', 3)\r\n",
    "p2 = pin('2', 3)\r\n",
    "p3 = pin('3', 3)\r\n",
    "pins1 = np.array([\r\n",
    "    p1,\r\n",
    "    p2, \r\n",
    "    p2, \r\n",
    "    p2, \r\n",
    "    p3, \r\n",
    "    p3, \r\n",
    "    p3, \r\n",
    "    p3, \r\n",
    "    p3, \r\n",
    "    p3, \r\n",
    "    p3, \r\n",
    "    p3, \r\n",
    "    p3, \r\n",
    "    p3, \r\n",
    "    p3,\r\n",
    "    p3,\r\n",
    "    p3,\r\n",
    "    p3,\r\n",
    "    p2,\r\n",
    "    p2,\r\n",
    "    p2,\r\n",
    "    p1\r\n",
    "    ])\r\n",
    "heights1 = np.array([\r\n",
    "-20.000,\r\n",
    "0.000000,\r\n",
    "18.28800,\r\n",
    "36.57600,\r\n",
    "54.86400,\r\n",
    "73.15200,\r\n",
    "91.44000,\r\n",
    "109.7280,\r\n",
    "128.0160,\r\n",
    "146.3040,\r\n",
    "164.5920,\r\n",
    "182.8800,\r\n",
    "201.1680,\r\n",
    "219.4560,\r\n",
    "237.7440,\r\n",
    "256.0320,\r\n",
    "274.3200,\r\n",
    "292.6080,\r\n",
    "310.8960,\r\n",
    "329.1840,\r\n",
    "347.4720,\r\n",
    "365.7600,\r\n",
    "    ])\r\n",
    "lat1.setStack(pins1, heights1)"
   ],
   "outputs": [],
   "metadata": {}
  },
  {
   "cell_type": "markdown",
   "source": [
    "## pinStack Object in Serpent Form\n",
    "1. The pinStack Object can be seen in typical serpent input file format upon using the Object.``toString()`` function\n",
    "2. The pinStack cannot be empty when calling the Object.``toString()`` function"
   ],
   "metadata": {}
  },
  {
   "cell_type": "code",
   "execution_count": 4,
   "source": [
    "print(lat1.toString())"
   ],
   "outputs": [
    {
     "output_type": "stream",
     "name": "stdout",
     "text": [
      "101 9 0 0 22\n",
      "-20.0\t1\n",
      "0.0\t2\n",
      "18.288\t2\n",
      "36.576\t2\n",
      "54.864\t3\n",
      "73.152\t3\n",
      "91.44\t3\n",
      "109.728\t3\n",
      "128.016\t3\n",
      "146.304\t3\n",
      "164.592\t3\n",
      "182.88\t3\n",
      "201.168\t3\n",
      "219.456\t3\n",
      "237.744\t3\n",
      "256.032\t3\n",
      "274.32\t3\n",
      "292.608\t3\n",
      "310.896\t2\n",
      "329.184\t2\n",
      "347.472\t2\n",
      "365.76\t1\n",
      "\n",
      "\n"
     ]
    }
   ],
   "metadata": {}
  },
  {
   "cell_type": "markdown",
   "source": [
    "## Duplicating Lattice Objects\n",
    "1. A copy/duplicate pinStack object can be made from an exisiting lattice using the Object.``duplicateLat('newLatId')`` function\n",
    "2. ``newLatId`` must be provided, lattices cannot have matching Ids an error will be raised when added to a lats object for storage."
   ],
   "metadata": {}
  },
  {
   "cell_type": "code",
   "execution_count": 5,
   "source": [
    "lat2 = lat1.duplicateLat(\"102\")\r\n",
    "print(lat2.toString())"
   ],
   "outputs": [
    {
     "output_type": "stream",
     "name": "stdout",
     "text": [
      "102 9 0 0 22\n",
      "-20.0\t1\n",
      "0.0\t2\n",
      "18.288\t2\n",
      "36.576\t2\n",
      "54.864\t3\n",
      "73.152\t3\n",
      "91.44\t3\n",
      "109.728\t3\n",
      "128.016\t3\n",
      "146.304\t3\n",
      "164.592\t3\n",
      "182.88\t3\n",
      "201.168\t3\n",
      "219.456\t3\n",
      "237.744\t3\n",
      "256.032\t3\n",
      "274.32\t3\n",
      "292.608\t3\n",
      "310.896\t2\n",
      "329.184\t2\n",
      "347.472\t2\n",
      "365.76\t1\n",
      "\n",
      "\n"
     ]
    }
   ],
   "metadata": {}
  },
  {
   "cell_type": "markdown",
   "source": [
    "## Modifying pinStack \n",
    "1. the Object.``replacePin(oldPin, newPin)`` function can be used to replace pins in the lattice map layout"
   ],
   "metadata": {}
  },
  {
   "cell_type": "code",
   "execution_count": 6,
   "source": [
    "lat2.replacePin(p2, p3)\r\n",
    "print(lat2.toString())"
   ],
   "outputs": [
    {
     "output_type": "stream",
     "name": "stdout",
     "text": [
      "102 9 0 0 22\n",
      "-20.0\t1\n",
      "0.0\t3\n",
      "18.288\t3\n",
      "36.576\t3\n",
      "54.864\t3\n",
      "73.152\t3\n",
      "91.44\t3\n",
      "109.728\t3\n",
      "128.016\t3\n",
      "146.304\t3\n",
      "164.592\t3\n",
      "182.88\t3\n",
      "201.168\t3\n",
      "219.456\t3\n",
      "237.744\t3\n",
      "256.032\t3\n",
      "274.32\t3\n",
      "292.608\t3\n",
      "310.896\t3\n",
      "329.184\t3\n",
      "347.472\t3\n",
      "365.76\t1\n",
      "\n",
      "\n"
     ]
    }
   ],
   "metadata": {}
  },
  {
   "cell_type": "code",
   "execution_count": 10,
   "source": [
    "print(lat2._pinsDict.toString())"
   ],
   "outputs": [
    {
     "output_type": "stream",
     "name": "stdout",
     "text": [
      "\n"
     ]
    }
   ],
   "metadata": {}
  },
  {
   "cell_type": "code",
   "execution_count": null,
   "source": [],
   "outputs": [],
   "metadata": {}
  }
 ],
 "metadata": {
  "interpreter": {
   "hash": "6df843ed665a37ba5fee2e506310eff18d5cb11377512873b8f56f6c84b0d7be"
  },
  "kernelspec": {
   "name": "python3",
   "display_name": "Python 3.8.8 64-bit ('base': conda)"
  },
  "language_info": {
   "codemirror_mode": {
    "name": "ipython",
    "version": 3
   },
   "file_extension": ".py",
   "mimetype": "text/x-python",
   "name": "python",
   "nbconvert_exporter": "python",
   "pygments_lexer": "ipython3",
   "version": "3.8.8"
  }
 },
 "nbformat": 4,
 "nbformat_minor": 2
}