{
 "cells": [
  {
   "cell_type": "code",
   "execution_count": 1,
   "metadata": {},
   "outputs": [],
   "source": [
    "import numpy as np\n",
    "from serpentGenerator.functions.pin import pin\n",
    "from serpentGenerator.functions.pins import pins\n",
    "from serpentGenerator.functions.material import material\n",
    "from serpentGenerator.data.materialLibrary import MATLIB"
   ]
  },
  {
   "cell_type": "markdown",
   "metadata": {},
   "source": [
    "## Pins Objtect Initialization\n",
    "1. Can use ``vars(Object)`` function to aid user in seeing all available attributes and their types\n",
    "\n"
   ]
  },
  {
   "cell_type": "code",
   "execution_count": 2,
   "metadata": {},
   "outputs": [
    {
     "output_type": "stream",
     "name": "stdout",
     "text": [
      "{'npins': 0, 'pins': {}}\n"
     ]
    }
   ],
   "source": [
    "pinLib = pins()\n",
    "print(vars(pinLib))"
   ]
  },
  {
   "cell_type": "markdown",
   "metadata": {},
   "source": [
    "## Setting Pin elements to the Pins Object\n",
    "1. Inidividual pin elements can be added to the pins object using the pinsObject.``addPin(pinObject)`` method\n",
    "2. A List of pins can be added at once using the pinsObject.``addPins([pinObject1, pinObject2,..])`` method\n",
    "3. Pin elements added to the pins object cannot have matching pin ids, \n",
    "a key error will be thrown if the added pin has a matching pin id with an already exisiting pin element in the pins object\n"
   ]
  },
  {
   "cell_type": "code",
   "execution_count": 3,
   "metadata": {},
   "outputs": [],
   "source": [
    "pin1 = pin(\"1\",3) \n",
    "materials1 = np.array([MATLIB['UO2'], MATLIB['Zr'], \n",
    "    MATLIB['lightWater']], dtype = material)\n",
    "radii1 = np.array([.45, .47])\n",
    "pin1.set('materials', materials1)\n",
    "pin1.set('radii', radii1)\n",
    "\n",
    "pin2 = pin1.duplicatePin(\"2\")\n",
    "pin3 = pin1.duplicatePin(\"3\")\n",
    "pin4 = pin1.duplicatePin(\"4\")\n",
    "\n",
    "pinList1 = [pin1, pin2, pin3]\n",
    "\n",
    "pinLib.addPins(pinList1)\n",
    "pinLib.addPin(pin4)"
   ]
  },
  {
   "cell_type": "markdown",
   "metadata": {},
   "source": [
    "## Pins Object in Serpent Form\n",
    "1. The pins Object can be seen in typical serpent input file format upon using the Object.``toString()`` function"
   ]
  },
  {
   "cell_type": "code",
   "execution_count": 4,
   "metadata": {},
   "outputs": [
    {
     "output_type": "stream",
     "name": "stdout",
     "text": [
      "pin 1\nUO2\t0.45\nZr\t0.47\nlightWater\n\npin 2\nUO2\t0.45\nZr\t0.47\nlightWater\n\npin 3\nUO2\t0.45\nZr\t0.47\nlightWater\n\npin 4\nUO2\t0.45\nZr\t0.47\nlightWater\n\n\n"
     ]
    }
   ],
   "source": [
    "print(pinLib.toString())"
   ]
  },
  {
   "source": [
    "## Removing Pin elements from the Pins Object\n",
    "1. Inidividual pin elements can be removed from the pins object using the pinsObject.``removePin(removedPinId)`` method\n",
    "2. A key error will be thrown if the pinId of the desired removed pin does not exist within in the pinsObject."
   ],
   "cell_type": "markdown",
   "metadata": {}
  },
  {
   "cell_type": "code",
   "execution_count": 6,
   "metadata": {},
   "outputs": [
    {
     "output_type": "stream",
     "name": "stdout",
     "text": [
      "pin 1\nUO2\t0.45\nZr\t0.47\nlightWater\n\npin 2\nUO2\t0.45\nZr\t0.47\nlightWater\n\npin 3\nUO2\t0.45\nZr\t0.47\nlightWater\n\n\n"
     ]
    }
   ],
   "source": [
    "pinLib.removePin(\"4\")\n",
    "print(pinLib.toString())"
   ]
  },
  {
   "source": [
    "## Retrieving Pin elements from the Pins Object\n",
    "1. Inidividual pin elements can be retrieved from the pins object using the pinsObject.``getPin(pinId)`` method\n",
    "2. A key error will be thrown if the pinId of the desired pin does not exist within in the pinsObject."
   ],
   "cell_type": "markdown",
   "metadata": {}
  },
  {
   "cell_type": "code",
   "execution_count": 8,
   "metadata": {},
   "outputs": [
    {
     "output_type": "stream",
     "name": "stdout",
     "text": [
      "{'id': '1', 'nregions': 3, 'materials': array([<serpentGenerator.functions.material.material object at 0x000001D7138AF4C8>,\n       <serpentGenerator.functions.material.material object at 0x000001D713940408>,\n       <serpentGenerator.functions.material.material object at 0x000001D713B5A108>],\n      dtype=object), 'radii': array([0.45, 0.47])}\n"
     ]
    }
   ],
   "source": [
    "retrievedPin = pinLib.getPin(\"1\")\n",
    "print(vars(retrievedPin))\n"
   ]
  }
 ],
 "metadata": {
  "interpreter": {
   "hash": "5f292722d6d50c2426abae6fd15a85386b49c5393ec98f1c35f79e4e4dd7448b"
  },
  "kernelspec": {
   "name": "python3",
   "display_name": "Python 3.7.4 64-bit ('base': conda)"
  },
  "language_info": {
   "codemirror_mode": {
    "name": "ipython",
    "version": 3
   },
   "file_extension": ".py",
   "mimetype": "text/x-python",
   "name": "python",
   "nbconvert_exporter": "python",
   "pygments_lexer": "ipython3",
   "version": "3.7.4"
  }
 },
 "nbformat": 4,
 "nbformat_minor": 2
}