{
 "cells": [
  {
   "cell_type": "code",
   "execution_count": 1,
   "source": [
    "import numpy as np\r\n",
    "from serpentGenerator.functions.pin import pin\r\n",
    "from serpentGenerator.functions.pins import pins\r\n",
    "from serpentGenerator.functions.material import material\r\n",
    "from serpentGenerator.data.materialLibrary import MATLIB"
   ],
   "outputs": [],
   "metadata": {}
  },
  {
   "cell_type": "markdown",
   "source": [
    "## Pins Objtect Initialization\n",
    "1. Can use ``vars(Object)`` function to aid user in seeing all available attributes and their types\n",
    "\n"
   ],
   "metadata": {}
  },
  {
   "cell_type": "code",
   "execution_count": 2,
   "source": [
    "pinLib = pins()\r\n",
    "print(vars(pinLib))"
   ],
   "outputs": [
    {
     "output_type": "stream",
     "name": "stdout",
     "text": [
      "{'npins': 0, 'pins': {}}\n"
     ]
    }
   ],
   "metadata": {}
  },
  {
   "cell_type": "markdown",
   "source": [
    "## Setting Pin elements to the Pins Object\n",
    "1. Inidividual pin elements can be added to the pins object using the pinsObject.``addPin(pinObject)`` method\n",
    "2. A List of pins can be added at once using the pinsObject.``addPins([pinObject1, pinObject2,..])`` method\n",
    "3. Pin elements added to the pins object cannot have matching pin ids, \n",
    "a key error will be thrown if the added pin has a matching pin id with an already exisiting pin element in the pins object\n"
   ],
   "metadata": {}
  },
  {
   "cell_type": "code",
   "execution_count": 3,
   "source": [
    "pin1 = pin(\"1\",3) \r\n",
    "materials1 = np.array([MATLIB['UO2'], MATLIB['Zr'], \r\n",
    "    MATLIB['lightWater']], dtype = material)\r\n",
    "radii1 = np.array([.45, .47])\r\n",
    "pin1.set('materials', materials1)\r\n",
    "pin1.set('radii', radii1)\r\n",
    "\r\n",
    "pin2 = pin1.duplicatePin(\"2\")\r\n",
    "pin3 = pin1.duplicatePin(\"3\")\r\n",
    "pin4 = pin1.duplicatePin(\"4\")\r\n",
    "\r\n",
    "pinList1 = [pin1, pin2, pin3]\r\n",
    "\r\n",
    "pinLib.addPins(pinList1)\r\n",
    "pinLib.addPin(pin4)"
   ],
   "outputs": [],
   "metadata": {}
  },
  {
   "cell_type": "markdown",
   "source": [
    "## Pins Object in Serpent Form\n",
    "1. The pins Object can be seen in typical serpent input file format upon using the Object.``toString()`` function"
   ],
   "metadata": {}
  },
  {
   "cell_type": "code",
   "execution_count": 4,
   "source": [
    "print(pinLib.toString())"
   ],
   "outputs": [
    {
     "output_type": "stream",
     "name": "stdout",
     "text": [
      "pin 1\n",
      "UO2\t0.45\n",
      "Zr\t0.47\n",
      "lightWater\n",
      "\n",
      "pin 2\n",
      "UO2\t0.45\n",
      "Zr\t0.47\n",
      "lightWater\n",
      "\n",
      "pin 3\n",
      "UO2\t0.45\n",
      "Zr\t0.47\n",
      "lightWater\n",
      "\n",
      "pin 4\n",
      "UO2\t0.45\n",
      "Zr\t0.47\n",
      "lightWater\n",
      "\n",
      "\n"
     ]
    }
   ],
   "metadata": {}
  },
  {
   "cell_type": "markdown",
   "source": [
    "## Removing Pin elements from the Pins Object\n",
    "1. Inidividual pin elements can be removed from the pins object using the pinsObject.``removePin(removedPinId)`` method\n",
    "2. A key error will be thrown if the pinId of the desired removed pin does not exist within in the pinsObject."
   ],
   "metadata": {}
  },
  {
   "cell_type": "code",
   "execution_count": 6,
   "source": [
    "pinLib.removePin(\"4\")\r\n",
    "print(pinLib.toString())"
   ],
   "outputs": [
    {
     "output_type": "stream",
     "name": "stdout",
     "text": [
      "pin 1\n",
      "UO2\t0.45\n",
      "Zr\t0.47\n",
      "lightWater\n",
      "\n",
      "pin 2\n",
      "UO2\t0.45\n",
      "Zr\t0.47\n",
      "lightWater\n",
      "\n",
      "pin 3\n",
      "UO2\t0.45\n",
      "Zr\t0.47\n",
      "lightWater\n",
      "\n",
      "\n"
     ]
    }
   ],
   "metadata": {}
  },
  {
   "cell_type": "markdown",
   "source": [
    "## Retrieving Pin elements from the Pins Object\n",
    "1. Inidividual pin elements can be retrieved from the pins object using the pinsObject.``getPin(pinId)`` method\n",
    "2. A key error will be thrown if the pinId of the desired pin does not exist within in the pinsObject."
   ],
   "metadata": {}
  },
  {
   "cell_type": "code",
   "execution_count": 8,
   "source": [
    "retrievedPin = pinLib.getPin(\"1\")\n",
    "print(vars(retrievedPin))\n"
   ],
   "outputs": [
    {
     "output_type": "stream",
     "name": "stdout",
     "text": [
      "{'id': '1', 'nregions': 3, 'materials': array([<serpentGenerator.functions.material.material object at 0x000001D7138AF4C8>,\n",
      "       <serpentGenerator.functions.material.material object at 0x000001D713940408>,\n",
      "       <serpentGenerator.functions.material.material object at 0x000001D713B5A108>],\n",
      "      dtype=object), 'radii': array([0.45, 0.47])}\n"
     ]
    }
   ],
   "metadata": {}
  }
 ],
 "metadata": {
  "interpreter": {
   "hash": "6df843ed665a37ba5fee2e506310eff18d5cb11377512873b8f56f6c84b0d7be"
  },
  "kernelspec": {
   "name": "python3",
   "display_name": "Python 3.8.8 64-bit ('base': conda)"
  },
  "language_info": {
   "codemirror_mode": {
    "name": "ipython",
    "version": 3
   },
   "file_extension": ".py",
   "mimetype": "text/x-python",
   "name": "python",
   "nbconvert_exporter": "python",
   "pygments_lexer": "ipython3",
   "version": "3.8.8"
  }
 },
 "nbformat": 4,
 "nbformat_minor": 2
}