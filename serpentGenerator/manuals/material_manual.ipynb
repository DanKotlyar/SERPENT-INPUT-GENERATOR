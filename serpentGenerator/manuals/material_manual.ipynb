{
 "metadata": {
  "language_info": {
   "codemirror_mode": {
    "name": "ipython",
    "version": 3
   },
   "file_extension": ".py",
   "mimetype": "text/x-python",
   "name": "python",
   "nbconvert_exporter": "python",
   "pygments_lexer": "ipython3",
   "version": "3.7.4"
  },
  "orig_nbformat": 4,
  "kernelspec": {
   "name": "python3",
   "display_name": "Python 3.7.4 64-bit ('base': conda)"
  },
  "interpreter": {
   "hash": "5f292722d6d50c2426abae6fd15a85386b49c5393ec98f1c35f79e4e4dd7448b"
  }
 },
 "nbformat": 4,
 "nbformat_minor": 2,
 "cells": [
  {
   "source": [
    "from serpentGenerator.functions.material import material\n",
    "import numpy as np"
   ],
   "cell_type": "code",
   "metadata": {},
   "execution_count": 1,
   "outputs": []
  },
  {
   "source": [
    "testMat = material(\"water\", False, True)\n",
    "print(vars(testMat))"
   ],
   "cell_type": "code",
   "metadata": {},
   "execution_count": 2,
   "outputs": [
    {
     "output_type": "stream",
     "name": "stdout",
     "text": [
      "{'name': 'water', 'isBurn': False, 'isModer': True, 'dens': 0.0, 'nuclides': array([], dtype=float64), 'fractions': array([], dtype=float64), 'temp': 0.0, 'xsLib': '', 'modLib': '', 'color': ''}\n"
     ]
    }
   ]
  },
  {
   "cell_type": "code",
   "execution_count": 3,
   "metadata": {},
   "outputs": [
    {
     "output_type": "stream",
     "name": "stderr",
     "text": [
      "c:\\Users\\user\\Documents\\GitHub\\SERPENT-INPUT-GENERATOR\\serpentGenerator\\functions\\material.py:97: UserWarning: thermal scattering library not set for material\n  warnings.warn(\"thermal scattering library not set for material\")\nc:\\Users\\user\\Documents\\GitHub\\SERPENT-INPUT-GENERATOR\\serpentGenerator\\functions\\material.py:99: UserWarning: material xs library suffix not set for nuclides\n  warnings.warn(\"material xs library suffix not set for nuclides\")\n"
     ]
    }
   ],
   "source": [
    "testMat.set('dens', -.700)\n",
    "testMat.set('nuclides', np.array([1001, 8016]))\n",
    "testMat.set('fractions', np.array([.333330, .666670]))\n",
    "testMat.set('xsLib', \"06c\")\n",
    "testMat.set('modLib', \"lwtr 1001\")\n",
    "testMat.set('color','orange' )"
   ]
  },
  {
   "cell_type": "code",
   "execution_count": 4,
   "metadata": {},
   "outputs": [
    {
     "output_type": "stream",
     "name": "stdout",
     "text": [
      "mat water    -0.7 moder lwtr 1001   rgb 255 165   0\n1001.06c\t0.33333\n8016.06c\t0.66667\n\n"
     ]
    }
   ],
   "source": [
    "print(testMat.toString())"
   ]
  },
  {
   "cell_type": "code",
   "execution_count": null,
   "metadata": {},
   "outputs": [],
   "source": []
  }
 ]
}