{
 "cells": [
  {
   "cell_type": "code",
   "execution_count": 1,
   "metadata": {},
   "outputs": [],
   "source": [
    "from serpentGenerator.functions.material import material\n",
    "import numpy as np"
   ]
  },
  {
   "cell_type": "markdown",
   "metadata": {},
   "source": [
    "## Material Objtect Initialization\n",
    "1. Attributes given: ``name``: \"water\", ``isBurn``: False, ``isModer``: True\n",
    "2. Can use ``vars(Object)`` function to aid user in seeing all available attributes and their types\n",
    "\n"
   ]
  },
  {
   "cell_type": "code",
   "execution_count": 2,
   "metadata": {},
   "outputs": [
    {
     "name": "stdout",
     "output_type": "stream",
     "text": [
      "{'id': 'water', 'isBurn': False, 'isModer': True, 'nuclides': None, 'fractions': None, 'dens': None, 'temp': None, 'xsLib': None, 'thermLib': None, 'color': None, 'rgb': None}\n"
     ]
    }
   ],
   "source": [
    "testMat = material(\"water\", False, True)\n",
    "print(vars(testMat))"
   ]
  },
  {
   "cell_type": "markdown",
   "metadata": {},
   "source": [
    "## Setting Material Object Attributes\n",
    "1. Attribute values are given using the Object.``set('attr', 'val')`` function\n",
    "2. Will raise error if attribute does not exist and if incorrect type of val is given.\n",
    "3. Will raise warning if certain parameters are not set\n",
    "4. Can also use the ``setMaterial(**kwargs)`` function  \n"
   ]
  },
  {
   "cell_type": "code",
   "execution_count": 3,
   "metadata": {},
   "outputs": [],
   "source": [
    "testMat.set('dens', -.700)\n",
    "testMat.set('nuclides', [1001, 8016])\n",
    "testMat.set('fractions', [.333330, .666670])\n",
    "testMat.set('xsLib', \"06c\")\n",
    "testMat.set('thermLib', \"lwtr 1001\")"
   ]
  },
  {
   "cell_type": "code",
   "execution_count": 4,
   "metadata": {},
   "outputs": [],
   "source": [
    "dens1 = -.700\n",
    "nuc1 = [1001, 8016]\n",
    "frac1 = [.333330, .666670]\n",
    "xsLib1 = \"06c\"\n",
    "thermLib1 = \"lwtr 1001\"\n",
    "temp1 = 600\n",
    "\n",
    "testMat.setMaterial(dens1, nuc1, frac1, xsLib1, temp1)"
   ]
  },
  {
   "cell_type": "markdown",
   "metadata": {},
   "source": [
    "## Material Object in Serpent Form\n",
    "1. The material Object can be seen in typical serpent input file format upon using the Object.``toString()`` function"
   ]
  },
  {
   "cell_type": "code",
   "execution_count": 5,
   "metadata": {},
   "outputs": [
    {
     "name": "stdout",
     "output_type": "stream",
     "text": [
      "mat water    -0.7 moder lwtr 1001  tmp 600 \n",
      "1001.06c\t0.33333\n",
      "8016.06c\t0.66667\n",
      "\n",
      "\n"
     ]
    }
   ],
   "source": [
    "print(testMat.toString())"
   ]
  }
 ],
 "metadata": {
  "kernelspec": {
   "display_name": "Python 3.7.4 ('base')",
   "language": "python",
   "name": "python3"
  },
  "language_info": {
   "codemirror_mode": {
    "name": "ipython",
    "version": 3
   },
   "file_extension": ".py",
   "mimetype": "text/x-python",
   "name": "python",
   "nbconvert_exporter": "python",
   "pygments_lexer": "ipython3",
   "version": "3.7.4"
  },
  "vscode": {
   "interpreter": {
    "hash": "c1124073dee199d8e1894afd18905e6ab65c2b78c2f71f2204c8c819619ccb15"
   }
  }
 },
 "nbformat": 4,
 "nbformat_minor": 2
}
