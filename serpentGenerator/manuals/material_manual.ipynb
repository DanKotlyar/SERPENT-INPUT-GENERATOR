{
 "cells": [
  {
   "cell_type": "code",
   "execution_count": 1,
   "metadata": {},
   "outputs": [],
   "source": [
    "from serpentGenerator.functions.material import material\n",
    "import numpy as np"
   ]
  },
  {
   "cell_type": "markdown",
   "metadata": {},
   "source": [
    "## Material Objtect Initialization\n",
    "1. Attributes given: ``name``: \"water\", ``isBurn``: False, ``isModer``: True\n",
    "2. Can use ``vars(Object)`` function to aid user in seeing all available attributes and their types\n",
    "\n"
   ]
  },
  {
   "cell_type": "code",
   "execution_count": 2,
   "metadata": {},
   "outputs": [
    {
     "name": "stdout",
     "output_type": "stream",
     "text": [
      "{'name': 'water', 'isBurn': False, 'isModer': True, 'dens': 0.0, 'nuclides': array([], dtype=float64), 'fractions': array([], dtype=float64), 'temp': 0.0, 'xsLib': '', 'modLib': '', 'color': ''}\n"
     ]
    }
   ],
   "source": [
    "testMat = material(\"water\", False, True)\n",
    "print(vars(testMat))"
   ]
  },
  {
   "cell_type": "markdown",
   "metadata": {},
   "source": [
    "## Setting Material Object Attributes\n",
    "1. Attribute values are given using the Object.``set('attr', 'val')`` function\n",
    "2. Will raise error if attribute does not exist and if incorrect type of val is given.\n",
    "3. Will raise warning if certain parameters are not set\n"
   ]
  },
  {
   "cell_type": "code",
   "execution_count": 7,
   "metadata": {},
   "outputs": [],
   "source": [
    "testMat.set('dens', -.700)\n",
    "testMat.set('nuclides', np.array([1001, 8016]))\n",
    "testMat.set('fractions', np.array([.333330, .666670]))\n",
    "testMat.set('xsLib', \"06c\")\n",
    "testMat.set('modLib', \"lwtr 1001\")\n",
    "testMat.set('color','orange' )"
   ]
  },
  {
   "cell_type": "markdown",
   "metadata": {},
   "source": [
    "## Material Object in Serpent Form\n",
    "1. The material Object can be seen in typical serpent input file format upon using the Object.``toString()`` function"
   ]
  },
  {
   "cell_type": "code",
   "execution_count": 8,
   "metadata": {},
   "outputs": [
    {
     "name": "stdout",
     "output_type": "stream",
     "text": [
      "mat water    -0.7 moder lwtr 1001   rgb 255 165   0\n",
      "1001.06c\t0.33333\n",
      "8016.06c\t0.66667\n",
      "\n"
     ]
    }
   ],
   "source": [
    "print(testMat.toString())"
   ]
  },
  {
   "cell_type": "code",
   "execution_count": null,
   "metadata": {},
   "outputs": [],
   "source": []
  }
 ],
 "metadata": {
  "kernelspec": {
   "display_name": "Python 3.8.8 ('base')",
   "language": "python",
   "name": "python3"
  },
  "language_info": {
   "codemirror_mode": {
    "name": "ipython",
    "version": 3
   },
   "file_extension": ".py",
   "mimetype": "text/x-python",
   "name": "python",
   "nbconvert_exporter": "python",
   "pygments_lexer": "ipython3",
   "version": "3.8.8"
  },
  "vscode": {
   "interpreter": {
    "hash": "087eced5c32687d8cdc04b15b537966215add59031ba8b893fad92ef8d2dbc22"
   }
  }
 },
 "nbformat": 4,
 "nbformat_minor": 2
}
