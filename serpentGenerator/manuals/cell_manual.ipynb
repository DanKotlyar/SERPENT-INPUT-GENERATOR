{
 "cells": [
  {
   "cell_type": "code",
   "execution_count": 1,
   "metadata": {},
   "outputs": [],
   "source": [
    "import numpy as np\n",
    "\n",
    "from serpentGenerator.functions.surf import surf\n",
    "from serpentGenerator.functions.cell import cell\n",
    "from serpentGenerator.functions.sqLattice import sqLat\n",
    "from serpentGenerator.data.materialLibrary import MATLIB"
   ]
  },
  {
   "cell_type": "markdown",
   "metadata": {},
   "source": [
    "## General Cell Objtect Initialization\n",
    "1. Can use ``vars(Object)`` function to aid user in seeing all available attributes and their types"
   ]
  },
  {
   "cell_type": "code",
   "execution_count": 2,
   "metadata": {},
   "outputs": [
    {
     "output_type": "stream",
     "name": "stdout",
     "text": [
      "{'id': '96', 'univ': '0', 'surfs': array([<serpentGenerator.functions.surf.surf object at 0x000001A42D36E208>,\n       <serpentGenerator.functions.surf.surf object at 0x000001A42D36E1C8>],\n      dtype=object), 'dirs': array([1, 0]), 'matid': '', 'fill': '101'}\n"
     ]
    }
   ],
   "source": [
    "s11 = surf(\"11\", \"sqc\", np.array([0, 0, 10.75, 0]))\n",
    "s12 = surf(\"12\", \"sph\", np.array([0, 0, 0, 10.75]))\n",
    "\n",
    "surfs96 = np.array([s11, s12])\n",
    "dirs96 = np.array([1, 0])\n",
    "\n",
    "l1 = sqLat(\"101\", 0, 0, 3, 1.260)\n",
    "\n",
    "c96 = cell(\"96\",\"0\", surfs96, dirs96)\n",
    "c96.setFill(l1.id)\n",
    "\n",
    "print(vars(c96))"
   ]
  },
  {
   "cell_type": "code",
   "execution_count": 5,
   "metadata": {},
   "outputs": [],
   "source": [
    "s11 = surf(\"11\", \"sqc\", np.array([0, 0, 10.75, 0]))\n",
    "s12 = surf(\"12\", \"sph\", np.array([0, 0, 0, 10.75]))\n",
    "\n",
    "surfs97 = np.array([s11, s12])\n",
    "dirs97= np.array([0, 1])\n",
    "\n",
    "l1 = sqLat(\"101\", 0, 0, 3, 1.260)\n",
    "\n",
    "c97 = cell(\"97\",\"0\", surfs97, dirs97, MATLIB['lightWater'].name)"
   ]
  },
  {
   "cell_type": "markdown",
   "metadata": {},
   "source": [
    "## Surf Object in Serpent Form\n",
    "1. The surf Object can be seen in typical serpent input file format upon using the Object.``toString()`` function"
   ]
  },
  {
   "cell_type": "code",
   "execution_count": 6,
   "metadata": {},
   "outputs": [
    {
     "output_type": "stream",
     "name": "stdout",
     "text": [
      "cell 96 0 fill 101 11 -12 \n\ncell 97 0 lightWater -11 12 \n\n"
     ]
    }
   ],
   "source": [
    "print(c96.toString())\n",
    "print(c97.toString())"
   ]
  }
 ],
 "metadata": {
  "interpreter": {
   "hash": "5f292722d6d50c2426abae6fd15a85386b49c5393ec98f1c35f79e4e4dd7448b"
  },
  "kernelspec": {
   "name": "python3",
   "display_name": "Python 3.7.4 64-bit ('base': conda)"
  },
  "language_info": {
   "codemirror_mode": {
    "name": "ipython",
    "version": 3
   },
   "file_extension": ".py",
   "mimetype": "text/x-python",
   "name": "python",
   "nbconvert_exporter": "python",
   "pygments_lexer": "ipython3",
   "version": "3.7.4"
  }
 },
 "nbformat": 4,
 "nbformat_minor": 2
}