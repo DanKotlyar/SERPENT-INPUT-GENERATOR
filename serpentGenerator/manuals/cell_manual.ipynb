{
 "cells": [
  {
   "cell_type": "code",
   "execution_count": 1,
   "source": [
    "import numpy as np\r\n",
    "\r\n",
    "from serpentGenerator.functions.surf import surf\r\n",
    "from serpentGenerator.functions.cell import cell\r\n",
    "from serpentGenerator.functions.sqLattice import sqLat\r\n",
    "from serpentGenerator.data.materialLibrary import MATLIB"
   ],
   "outputs": [],
   "metadata": {}
  },
  {
   "cell_type": "markdown",
   "source": [
    "## General Cell Objtect Initialization\n",
    "1. Can use ``vars(Object)`` function to aid user in seeing all available attributes and their types"
   ],
   "metadata": {}
  },
  {
   "cell_type": "code",
   "execution_count": 2,
   "source": [
    "s11 = surf(\"11\", \"sqc\", np.array([0, 0, 10.75, 0]))\r\n",
    "s12 = surf(\"12\", \"sph\", np.array([0, 0, 0, 10.75]))\r\n",
    "\r\n",
    "surfs96 = np.array([s11, s12])\r\n",
    "dirs96 = np.array([1, 0])\r\n",
    "\r\n",
    "l1 = sqLat(\"101\", 0, 0, 3, 1.260)\r\n",
    "\r\n",
    "c96 = cell(\"96\",\"0\", surfs96, dirs96)\r\n",
    "c96.setFill(l1.id)\r\n",
    "\r\n",
    "print(vars(c96))"
   ],
   "outputs": [
    {
     "output_type": "stream",
     "name": "stdout",
     "text": [
      "{'id': '96', 'univ': '0', 'surfs': array([<serpentGenerator.functions.surf.surf object at 0x000001A42D36E208>,\n",
      "       <serpentGenerator.functions.surf.surf object at 0x000001A42D36E1C8>],\n",
      "      dtype=object), 'dirs': array([1, 0]), 'matid': '', 'fill': '101'}\n"
     ]
    }
   ],
   "metadata": {}
  },
  {
   "cell_type": "code",
   "execution_count": 5,
   "source": [
    "s11 = surf(\"11\", \"sqc\", np.array([0, 0, 10.75, 0]))\r\n",
    "s12 = surf(\"12\", \"sph\", np.array([0, 0, 0, 10.75]))\r\n",
    "\r\n",
    "surfs97 = np.array([s11, s12])\r\n",
    "dirs97= np.array([0, 1])\r\n",
    "\r\n",
    "l1 = sqLat(\"101\", 0, 0, 3, 1.260)\r\n",
    "\r\n",
    "c97 = cell(\"97\",\"0\", surfs97, dirs97, MATLIB['lightWater'].name)"
   ],
   "outputs": [],
   "metadata": {}
  },
  {
   "cell_type": "markdown",
   "source": [
    "## Cell Object in Serpent Form\r\n",
    "1. The cell Object can be seen in typical serpent input file format upon using the Object.``toString()`` function"
   ],
   "metadata": {}
  },
  {
   "cell_type": "code",
   "execution_count": 6,
   "source": [
    "print(c96.toString())\r\n",
    "print(c97.toString())"
   ],
   "outputs": [
    {
     "output_type": "stream",
     "name": "stdout",
     "text": [
      "cell 96 0 fill 101 11 -12 \n",
      "\n",
      "cell 97 0 lightWater -11 12 \n",
      "\n"
     ]
    }
   ],
   "metadata": {}
  }
 ],
 "metadata": {
  "interpreter": {
   "hash": "5f292722d6d50c2426abae6fd15a85386b49c5393ec98f1c35f79e4e4dd7448b"
  },
  "kernelspec": {
   "name": "python3",
   "display_name": "Python 3.7.4 64-bit ('base': conda)"
  },
  "language_info": {
   "codemirror_mode": {
    "name": "ipython",
    "version": 3
   },
   "file_extension": ".py",
   "mimetype": "text/x-python",
   "name": "python",
   "nbconvert_exporter": "python",
   "pygments_lexer": "ipython3",
   "version": "3.7.4"
  }
 },
 "nbformat": 4,
 "nbformat_minor": 2
}