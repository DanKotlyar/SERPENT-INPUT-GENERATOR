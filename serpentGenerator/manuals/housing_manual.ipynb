{
 "cells": [
  {
   "cell_type": "code",
   "execution_count": 1,
   "metadata": {},
   "outputs": [],
   "source": [
    "import numpy as np\n",
    "\n",
    "from serpentGenerator.data.materialLibrary import MATLIB\n",
    "from serpentGenerator.functions.housing import housing"
   ]
  },
  {
   "cell_type": "markdown",
   "metadata": {},
   "source": [
    "## Housing Objtect Initialization\n",
    "1. Can use ``vars(Object)`` function to aid user in seeing all available attributes and their types\n",
    "2. Basic data definition for a housing bject. Has an option to set concentric\n",
    "    rings surrounding the reactor core, with specified materials and thicknesses.\n",
    "    This can be done by setting the ``defaultCRFlag`` to true.\n",
    "\n",
    "Attributes\n",
    "----------\n",
    "width : float\n",
    "    core width [cm]\n",
    "\n",
    "height : bool\n",
    "    core hieght [cm]\n",
    "\n",
    "defaultCRFlag : bool\n",
    "    True/False will use concentric ring option for core housing \n",
    "\n",
    "radiiCR : list of numbers\n",
    "    list containing radii of concentric rings, values are relative to core width\n",
    "    \n",
    "matsCR : list of material obj\n",
    "    list containing materials for each concentric shell surrounding core\n",
    "\n"
   ]
  },
  {
   "cell_type": "code",
   "execution_count": 5,
   "metadata": {},
   "outputs": [
    {
     "name": "stdout",
     "output_type": "stream",
     "text": [
      "{'id': 'housing', 'cells': <serpentGenerator.functions.cells.cells object at 0x000002AC36652688>, 'surfs': <serpentGenerator.functions.surfs.surfs object at 0x000002AC366526C8>, 'border': None, 'baffle': None, 'barrel': None, 'thermalShield': None, 'neutronShield': None, 'vessel': None, 'width': 160, 'height': 240, 'radiiCR': [80.0, 100.0, 120.0, 140.0], 'matsCR': [<serpentGenerator.functions.material.material object at 0x000002AC35ABF3C8>, <serpentGenerator.functions.material.material object at 0x000002AC35ABFB48>, <serpentGenerator.functions.material.material object at 0x000002AC35ABF3C8>], 'defaultCRFlag': True}\n"
     ]
    }
   ],
   "source": [
    "    r1 = [0, 20, 40, 60]\n",
    "    m1 = [MATLIB['Zr'], MATLIB['lightWater'], MATLIB['Zr']]\n",
    "    h1 = housing(160, 240, defaultCRFlag=True,radiiCR=r1, matsCR=m1)\n",
    "    print(vars(h1))"
   ]
  },
  {
   "cell_type": "markdown",
   "metadata": {},
   "source": [
    "## Housing Object in Serpent Form\n",
    "1. The housing Object can be seen in typical serpent input file format upon using the Object.``toString()`` function\n"
   ]
  },
  {
   "cell_type": "code",
   "execution_count": 4,
   "metadata": {},
   "outputs": [
    {
     "name": "stdout",
     "output_type": "stream",
     "text": [
      "surf cr1 cyl 0.0 0.0 80.0 \n",
      "surf cr2 cyl 0.0 0.0 100.0 \n",
      "surf cr3 cyl 0.0 0.0 120.0 \n",
      "surf cr4 cyl 0.0 0.0 140.0 \n",
      "\n",
      "cell cc1 housing  Zr cr1 -cr2 \n",
      "cell cc2 housing  lightWater cr2 -cr3 \n",
      "cell cc3 housing  Zr cr3 -cr4 \n",
      "\n",
      "\n"
     ]
    }
   ],
   "source": [
    "print(h1.toString())"
   ]
  }
 ],
 "metadata": {
  "interpreter": {
   "hash": "40dd8ac0d9deade98bfeabe90f4917b89019717cb94bf6765b4ad8fd51991e19"
  },
  "kernelspec": {
   "display_name": "Python 3.7.4 64-bit ('base': conda)",
   "name": "python3"
  },
  "language_info": {
   "codemirror_mode": {
    "name": "ipython",
    "version": 3
   },
   "file_extension": ".py",
   "mimetype": "text/x-python",
   "name": "python",
   "nbconvert_exporter": "python",
   "pygments_lexer": "ipython3",
   "version": "3.7.4"
  }
 },
 "nbformat": 4,
 "nbformat_minor": 2
}
