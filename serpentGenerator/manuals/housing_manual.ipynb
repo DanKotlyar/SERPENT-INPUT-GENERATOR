{
 "cells": [
  {
   "cell_type": "code",
   "execution_count": 1,
   "source": [
    "import numpy as np\r\n",
    "\r\n",
    "from serpentGenerator.functions.surf import surf\r\n",
    "from serpentGenerator.functions.cell import cell\r\n",
    "from serpentGenerator.data.materialLibrary import MATLIB\r\n",
    "from serpentGenerator.functions.housing import housing"
   ],
   "outputs": [],
   "metadata": {}
  },
  {
   "cell_type": "markdown",
   "source": [
    "## Housing Objtect Initialization\r\n",
    "1. Can use ``vars(Object)`` function to aid user in seeing all available attributes and their types\r\n",
    "\r\n"
   ],
   "metadata": {}
  },
  {
   "cell_type": "code",
   "execution_count": 3,
   "source": [
    "width = 10.75 #assembly width\r\n",
    "bHeight = -20 #bottom of assembly\r\n",
    "tHeight = 385.76 #top of assembly\r\n",
    "border = surf(\"border\", \"cuboid\", np.array([-width, width, -width, width, bHeight, tHeight]))\r\n",
    "\r\n",
    "housing1 = housing(border)\r\n"
   ],
   "outputs": [
    {
     "output_type": "stream",
     "name": "stdout",
     "text": [
      "{'border': <serpentGenerator.functions.surf.surf object at 0x0000025DE6477AC0>, 'baffle': None, 'barrel': None, 'thermalShield': None, 'neutronShield': None, 'vessel': None}\n"
     ]
    }
   ],
   "metadata": {}
  }
 ],
 "metadata": {
  "interpreter": {
   "hash": "6df843ed665a37ba5fee2e506310eff18d5cb11377512873b8f56f6c84b0d7be"
  },
  "kernelspec": {
   "name": "python3",
   "display_name": "Python 3.8.8 64-bit ('base': conda)"
  },
  "language_info": {
   "codemirror_mode": {
    "name": "ipython",
    "version": 3
   },
   "file_extension": ".py",
   "mimetype": "text/x-python",
   "name": "python",
   "nbconvert_exporter": "python",
   "pygments_lexer": "ipython3",
   "version": "3.8.8"
  }
 },
 "nbformat": 4,
 "nbformat_minor": 2
}