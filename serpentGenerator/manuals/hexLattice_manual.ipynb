{
 "cells": [
  {
   "cell_type": "code",
   "execution_count": 1,
   "metadata": {},
   "outputs": [],
   "source": [
    "import numpy as np\n",
    "from serpentGenerator.functions.pin import pin\n",
    "from serpentGenerator.functions.hexLattice import hexLat"
   ]
  },
  {
   "cell_type": "markdown",
   "metadata": {},
   "source": [
    "## sqLat Objtect Initialization\n",
    "1. Can use ``vars(Object)`` function to aid user in seeing all available attributes and their types\n",
    "\n"
   ]
  },
  {
   "cell_type": "code",
   "execution_count": 2,
   "metadata": {},
   "outputs": [
    {
     "output_type": "stream",
     "name": "stdout",
     "text": [
      "{'id': '101', 'type': 'X', 'xo': 0, 'yo': 0, 'nxelements': 15, 'nyelements': 15, 'pitch': 1.26, 'map': array([], shape=(1, 0), dtype=float64)}\n"
     ]
    }
   ],
   "source": [
    "lat1 = hexLat(\"101\", \"X\", 0, 0, 15, 15, 1.260)\n",
    "print(vars(lat1))"
   ]
  },
  {
   "cell_type": "code",
   "execution_count": null,
   "metadata": {},
   "outputs": [],
   "source": []
  },
  {
   "cell_type": "markdown",
   "metadata": {},
   "source": [
    "## Setting the map layout for the sqLat object\n",
    "1. The map can be set using the Object.``setMap(map)`` function\n",
    "2. The map for a hexagonal lattice must be a 2d numpy array sqaure in shape\n",
    "3. The map array can consist of pin objects for example\n"
   ]
  },
  {
   "cell_type": "code",
   "execution_count": 26,
   "metadata": {},
   "outputs": [],
   "source": [
    "p1 = pin('1', 3)\n",
    "p2 = pin('2', 3)\n",
    "p3 = pin('3', 3)\n",
    "latMap1 = np.array([[p1, p1, p1, p1, p1, p1, p1, p1, p1, p1, p1, p1, p1, p1, p1],\n",
    "    [p1, p1, p1, p1, p1, p1, p1, p2, p2, p2, p2, p2, p2, p2, p1],\n",
    "    [p1, p1, p1, p1, p1, p1, p2, p2, p2, p2, p2, p2, p2, p2, p1],\n",
    "    [p1, p1, p1, p1, p1, p2, p2, p2, p2, p2, p2, p2, p2, p2, p1],\n",
    "    [p1, p1, p1, p1, p2, p2, p2, p2, p2, p2, p2, p2, p2, p2, p1],\n",
    "    [p1, p1, p1, p2, p2, p2, p2, p2, p2, p2, p2, p2, p2, p2, p1],\n",
    "    [p1, p1, p2, p2, p2, p2, p2, p2, p2, p2, p2, p2, p2, p2, p1],\n",
    "    [p1, p2, p2, p2, p2, p2, p2, p3, p2, p2, p2, p2, p2, p2, p1],\n",
    "    [p1, p2, p2, p2, p2, p2, p2, p2, p2, p2, p2, p2, p2, p1, p1],\n",
    "    [p1, p2, p2, p2, p2, p2, p2, p2, p2, p2, p2, p2, p1, p1, p1],\n",
    "    [p1, p2, p2, p2, p2, p2, p2, p2, p2, p2, p2, p1, p1, p1, p1],\n",
    "    [p1, p2, p2, p2, p2, p2, p2, p2, p2, p2, p1, p1, p1, p1, p1],\n",
    "    [p1, p2, p2, p2, p2, p2, p2, p2, p2, p1, p1, p1, p1, p1, p1],\n",
    "    [p1, p2, p2, p2, p2, p2, p2, p2, p1, p1, p1, p1, p1, p1, p1],\n",
    "    [p1, p1, p1, p1, p1, p1, p1, p1, p1, p1, p1, p1, p1, p1, p1],\n",
    "    ])\n",
    "lat1.setMap(latMap1)"
   ]
  },
  {
   "cell_type": "markdown",
   "metadata": {},
   "source": [
    "## sqLat Object in Serpent Form\n",
    "1. The sqLat Object can be seen in typical serpent input file format upon using the Object.``toString()`` function\n",
    "2. The lattice map cannot be empty when calling the Object.``toString()`` function"
   ]
  },
  {
   "cell_type": "code",
   "execution_count": 27,
   "metadata": {},
   "outputs": [
    {
     "output_type": "stream",
     "name": "stdout",
     "text": [
      "101 2 0 0 15 15 1.26\n1 1 1 1 1 1 1 1 1 1 1 1 1 1 1 \n 1 1 1 1 1 1 1 2 2 2 2 2 2 2 1 \n  1 1 1 1 1 1 2 2 2 2 2 2 2 2 1 \n   1 1 1 1 1 2 2 2 2 2 2 2 2 2 1 \n    1 1 1 1 2 2 2 2 2 2 2 2 2 2 1 \n     1 1 1 2 2 2 2 2 2 2 2 2 2 2 1 \n      1 1 2 2 2 2 2 2 2 2 2 2 2 2 1 \n       1 2 2 2 2 2 2 3 2 2 2 2 2 2 1 \n        1 2 2 2 2 2 2 2 2 2 2 2 2 1 1 \n         1 2 2 2 2 2 2 2 2 2 2 2 1 1 1 \n          1 2 2 2 2 2 2 2 2 2 2 1 1 1 1 \n           1 2 2 2 2 2 2 2 2 2 1 1 1 1 1 \n            1 2 2 2 2 2 2 2 2 1 1 1 1 1 1 \n             1 2 2 2 2 2 2 2 1 1 1 1 1 1 1 \n              1 1 1 1 1 1 1 1 1 1 1 1 1 1 1 \n               \n\n"
     ]
    }
   ],
   "source": [
    "print(lat1.toString())"
   ]
  },
  {
   "source": [
    "## Duplicating Lattice Objects\n",
    "1. A copy/duplicate sqLat object can be made from an exisiting lattice using the Object.``duplicateLat('newLatId')`` function\n",
    "2. ``newLatId`` must be provided, lattices cannot have matching Ids an error will be raised when added to a lats object for storage."
   ],
   "cell_type": "markdown",
   "metadata": {}
  },
  {
   "cell_type": "code",
   "execution_count": 28,
   "metadata": {},
   "outputs": [
    {
     "output_type": "stream",
     "name": "stdout",
     "text": [
      "102 2 0 0 15 15 1.26\n1 1 1 1 1 1 1 1 1 1 1 1 1 1 1 \n 1 1 1 1 1 1 1 2 2 2 2 2 2 2 1 \n  1 1 1 1 1 1 2 2 2 2 2 2 2 2 1 \n   1 1 1 1 1 2 2 2 2 2 2 2 2 2 1 \n    1 1 1 1 2 2 2 2 2 2 2 2 2 2 1 \n     1 1 1 2 2 2 2 2 2 2 2 2 2 2 1 \n      1 1 2 2 2 2 2 2 2 2 2 2 2 2 1 \n       1 2 2 2 2 2 2 3 2 2 2 2 2 2 1 \n        1 2 2 2 2 2 2 2 2 2 2 2 2 1 1 \n         1 2 2 2 2 2 2 2 2 2 2 2 1 1 1 \n          1 2 2 2 2 2 2 2 2 2 2 1 1 1 1 \n           1 2 2 2 2 2 2 2 2 2 1 1 1 1 1 \n            1 2 2 2 2 2 2 2 2 1 1 1 1 1 1 \n             1 2 2 2 2 2 2 2 1 1 1 1 1 1 1 \n              1 1 1 1 1 1 1 1 1 1 1 1 1 1 1 \n               \n\n"
     ]
    }
   ],
   "source": [
    "lat2 = lat1.duplicateLat(\"102\")\n",
    "print(lat2.toString())"
   ]
  },
  {
   "source": [
    "## Modifying Lattice Map Layout\n",
    "1. the Object.``replacePin(oldPin, newPin)`` function can be used to replace pins in the lattice map layout"
   ],
   "cell_type": "markdown",
   "metadata": {}
  },
  {
   "cell_type": "code",
   "execution_count": 29,
   "metadata": {},
   "outputs": [
    {
     "output_type": "stream",
     "name": "stdout",
     "text": [
      "102 2 0 0 15 15 1.26\n1 1 1 1 1 1 1 1 1 1 1 1 1 1 1 \n 1 1 1 1 1 1 1 3 3 3 3 3 3 3 1 \n  1 1 1 1 1 1 3 3 3 3 3 3 3 3 1 \n   1 1 1 1 1 3 3 3 3 3 3 3 3 3 1 \n    1 1 1 1 3 3 3 3 3 3 3 3 3 3 1 \n     1 1 1 3 3 3 3 3 3 3 3 3 3 3 1 \n      1 1 3 3 3 3 3 3 3 3 3 3 3 3 1 \n       1 3 3 3 3 3 3 3 3 3 3 3 3 3 1 \n        1 3 3 3 3 3 3 3 3 3 3 3 3 1 1 \n         1 3 3 3 3 3 3 3 3 3 3 3 1 1 1 \n          1 3 3 3 3 3 3 3 3 3 3 1 1 1 1 \n           1 3 3 3 3 3 3 3 3 3 1 1 1 1 1 \n            1 3 3 3 3 3 3 3 3 1 1 1 1 1 1 \n             1 3 3 3 3 3 3 3 1 1 1 1 1 1 1 \n              1 1 1 1 1 1 1 1 1 1 1 1 1 1 1 \n               \n\n"
     ]
    }
   ],
   "source": [
    "lat2.replacePin(p2, p3)\n",
    "print(lat2.toString())"
   ]
  }
 ],
 "metadata": {
  "interpreter": {
   "hash": "40dd8ac0d9deade98bfeabe90f4917b89019717cb94bf6765b4ad8fd51991e19"
  },
  "kernelspec": {
   "name": "python3",
   "display_name": "Python 3.7.4 64-bit ('base': conda)"
  },
  "language_info": {
   "codemirror_mode": {
    "name": "ipython",
    "version": 3
   },
   "file_extension": ".py",
   "mimetype": "text/x-python",
   "name": "python",
   "nbconvert_exporter": "python",
   "pygments_lexer": "ipython3",
   "version": "3.7.4"
  }
 },
 "nbformat": 4,
 "nbformat_minor": 2
}