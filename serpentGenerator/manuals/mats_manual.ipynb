{
 "cells": [
  {
   "cell_type": "code",
   "execution_count": 1,
   "metadata": {},
   "outputs": [],
   "source": [
    "import numpy as np\n",
    "from serpentGenerator.functions.material import material\n",
    "from serpentGenerator.data.materialLibrary import MATLIB\n",
    "\n",
    "from serpentGenerator.functions.mats import mats"
   ]
  },
  {
   "cell_type": "markdown",
   "metadata": {},
   "source": [
    "## Mats Objtect Initialization\n",
    "1. Can use ``vars(Object)`` function to aid user in seeing all available attributes and their types\n",
    "\n"
   ]
  },
  {
   "cell_type": "code",
   "execution_count": 2,
   "metadata": {},
   "outputs": [
    {
     "output_type": "stream",
     "name": "stdout",
     "text": [
      "{'nmats': 0, 'mats': {}}\n"
     ]
    }
   ],
   "source": [
    "matLib = mats()\n",
    "print(vars(matLib))"
   ]
  },
  {
   "cell_type": "markdown",
   "metadata": {},
   "source": [
    "## Setting material elements to the Mats Object\n",
    "1. Inidividual mat elements can be added to the mats object using the matsObject.``addMat(matObject)`` method\n",
    "2. A List of materials can be added at once using the matsObject.``addMats([matObject1, matObject2, ...])`` method\n",
    "3. Mat elements added to the mats object cannot have matching mat ids, \n",
    "a key error will be thrown if the added mat has a matching mat id with an already exisiting mat element in the mats object\n"
   ]
  },
  {
   "cell_type": "code",
   "execution_count": 3,
   "metadata": {},
   "outputs": [
    {
     "output_type": "stream",
     "name": "stdout",
     "text": [
      "{'id': 'UO2', 'isBurn': True, 'isModer': True, 'dens': -10.2141, 'nuclides': array([92235, 92238,  8016], dtype=int64), 'fractions': array([0.00133134, 0.02218898, 0.04600811]), 'temp': 0.0, 'xsLib': '12c', 'modLib': 'None', 'color': 'red'}\n"
     ]
    }
   ],
   "source": [
    "m1 = MATLIB['UO2']\n",
    "m1.set('fractions', np.array([0.001331338626, 0.02218898, 0.04600811])) # 6% Enrichment\n",
    "m1.set('xsLib', \"12c\") #Higher enrichment cores will run at higher temperatures so we shall change the xs library suffix\n",
    "m1.set('color','red') #change the color of the fuel for plotting purposes\n",
    "\n",
    "print(vars(m1))\n",
    "\n",
    "m2 = MATLIB['Zr']\n",
    "m3 = MATLIB['lightWater']\n"
   ]
  },
  {
   "cell_type": "code",
   "execution_count": 4,
   "metadata": {},
   "outputs": [],
   "source": [
    "matList1 = [m1, m2, m3]\n",
    "matLib.addMats(matList1)"
   ]
  },
  {
   "cell_type": "markdown",
   "metadata": {},
   "source": [
    "## Mats Object in Serpent Form\n",
    "1. The mats Object can be seen in typical serpent input file format upon using the Object.``toString()`` function"
   ]
  },
  {
   "cell_type": "code",
   "execution_count": 5,
   "metadata": {},
   "outputs": [
    {
     "output_type": "stream",
     "name": "stdout",
     "text": [
      "mat UO2    -10.2141  burn 1  rgb 255   0   0\n92235.12c\t0.001331338626\n92238.12c\t0.02218898\n8016.12c\t0.04600811\n\nmat Zr    -6.55  burn 1  rgb 128 128 128\n40090.06c\t0.5145\n40091.06c\t0.1122\n40092.06c\t0.1715\n40094.06c\t0.1738\n40096.06c\t0.028\n\nmat lightWater    -0.7 moder ltwr 1001 burn 1  rgb   0   0 255\n1001.06c\t0.66667\n8016.06c\t0.33333\n\n\n"
     ]
    }
   ],
   "source": [
    "print(matLib.toString())"
   ]
  },
  {
   "cell_type": "markdown",
   "metadata": {},
   "source": [
    "## Removing material elements from the mats Object\n",
    "1. Inidividual mat elements can be removed from the mats object using the matsObject.``removeMat(removedMatId)`` method\n",
    "2. A key error will be thrown if the matId of the desired removed mat does not exist within in the matsObject."
   ]
  },
  {
   "cell_type": "code",
   "execution_count": 6,
   "metadata": {},
   "outputs": [
    {
     "output_type": "stream",
     "name": "stdout",
     "text": [
      "{'nmats': 2, 'mats': {'UO2': <serpentGenerator.functions.material.material object at 0x000001807FF6DE88>, 'lightWater': <serpentGenerator.functions.material.material object at 0x0000018000228088>}}\nmat UO2    -10.2141  burn 1  rgb 255   0   0\n92235.12c\t0.001331338626\n92238.12c\t0.02218898\n8016.12c\t0.04600811\n\nmat lightWater    -0.7 moder ltwr 1001 burn 1  rgb   0   0 255\n1001.06c\t0.66667\n8016.06c\t0.33333\n\n\n"
     ]
    }
   ],
   "source": [
    "matLib.removeMat('Zr')\n",
    "print(vars(matLib))\n",
    "print(matLib.toString())"
   ]
  },
  {
   "cell_type": "markdown",
   "metadata": {},
   "source": [
    "## Retrieving material elements from the mats object\n",
    "1. Inidividual material elements can be retrieved from the mats object using the matsObject.``getMat(matId)`` method\n",
    "2. A key error will be thrown if the matId of the desired mat does not exist within in the matsObject."
   ]
  },
  {
   "cell_type": "code",
   "execution_count": 7,
   "metadata": {},
   "outputs": [
    {
     "output_type": "stream",
     "name": "stdout",
     "text": [
      "{'id': 'UO2', 'isBurn': True, 'isModer': True, 'dens': -10.2141, 'nuclides': array([92235, 92238,  8016], dtype=int64), 'fractions': array([0.00133134, 0.02218898, 0.04600811]), 'temp': 0.0, 'xsLib': '12c', 'modLib': 'None', 'color': 'red'}\nmat UO2    -10.2141 moder None burn 1  rgb 255   0   0\n92235.12c\t0.001331338626\n92238.12c\t0.02218898\n8016.12c\t0.04600811\n\n\n"
     ]
    }
   ],
   "source": [
    "retrievedMat = matLib.getMat(\"UO2\")\n",
    "print(vars(retrievedMat))\n",
    "print(retrievedMat.toString())\n"
   ]
  }
 ],
 "metadata": {
  "interpreter": {
   "hash": "5f292722d6d50c2426abae6fd15a85386b49c5393ec98f1c35f79e4e4dd7448b"
  },
  "kernelspec": {
   "name": "python3",
   "display_name": "Python 3.7.4 64-bit ('base': conda)"
  },
  "language_info": {
   "codemirror_mode": {
    "name": "ipython",
    "version": 3
   },
   "file_extension": ".py",
   "mimetype": "text/x-python",
   "name": "python",
   "nbconvert_exporter": "python",
   "pygments_lexer": "ipython3",
   "version": "3.7.4"
  }
 },
 "nbformat": 4,
 "nbformat_minor": 2
}