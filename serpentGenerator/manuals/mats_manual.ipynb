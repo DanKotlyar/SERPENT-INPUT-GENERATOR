{
 "cells": [
  {
   "cell_type": "code",
   "execution_count": 1,
   "metadata": {},
   "outputs": [],
   "source": [
    "import numpy as np\n",
    "from serpentGenerator.functions.material import material\n",
    "from serpentGenerator.data.materialLibrary import MATLIB\n",
    "\n",
    "from serpentGenerator.functions.mats import mats"
   ]
  },
  {
   "cell_type": "markdown",
   "metadata": {},
   "source": [
    "## Mats Objtect Initialization\n",
    "1. Can use ``vars(Object)`` function to aid user in seeing all available attributes and their types\n",
    "\n"
   ]
  },
  {
   "cell_type": "code",
   "execution_count": 2,
   "metadata": {},
   "outputs": [
    {
     "output_type": "stream",
     "name": "stdout",
     "text": [
      "{'nmats': 0, 'mats': {}}\n"
     ]
    }
   ],
   "source": [
    "matLib = mats()\n",
    "print(vars(matLib))"
   ]
  },
  {
   "cell_type": "markdown",
   "metadata": {},
   "source": [
    "## Setting material elements to the Mats Object\n",
    "1. Inidividual mat elements can be added to the mats object using the matsObject.``addMat(matObject)`` method\n",
    "2. A List of materials can be added at once using the matsObject.``addMats([matObject1, matObject2, ...])`` method\n",
    "3. Mat elements added to the mats object cannot have matching mat ids, \n",
    "a key error will be thrown if the added mat has a matching mat id with an already exisiting mat element in the mats object\n"
   ]
  },
  {
   "cell_type": "code",
   "execution_count": 4,
   "metadata": {},
   "outputs": [],
   "source": [
    "m1 = MATLIB['UO2']\n",
    "m1.set('fractions', np.array([0.001331338626, 0.02218898, 0.04600811])) # 6% Enrichment\n",
    "m1.set('xsLib', \"12c\") #Higher enrichment cores will run at higher temperatures so we shall change the xs library suffix\n",
    "m1.set('color','red') #change the color of the fuel for plotting purposes\n",
    "\n",
    "m2 = MATLIB['Zr']\n",
    "m3 = MATLIB['lightWater']"
   ]
  },
  {
   "cell_type": "code",
   "execution_count": 6,
   "metadata": {},
   "outputs": [
    {
     "output_type": "error",
     "ename": "AttributeError",
     "evalue": "'material' object has no attribute 'id'",
     "traceback": [
      "\u001b[1;31m---------------------------------------------------------------------------\u001b[0m",
      "\u001b[1;31mAttributeError\u001b[0m                            Traceback (most recent call last)",
      "\u001b[1;32m<ipython-input-6-1210fe851bfe>\u001b[0m in \u001b[0;36m<module>\u001b[1;34m\u001b[0m\n\u001b[0;32m      1\u001b[0m \u001b[0mmatList1\u001b[0m \u001b[1;33m=\u001b[0m \u001b[1;33m[\u001b[0m\u001b[0mm1\u001b[0m\u001b[1;33m,\u001b[0m \u001b[0mm2\u001b[0m\u001b[1;33m,\u001b[0m \u001b[0mm3\u001b[0m\u001b[1;33m]\u001b[0m\u001b[1;33m\u001b[0m\u001b[1;33m\u001b[0m\u001b[0m\n\u001b[1;32m----> 2\u001b[1;33m \u001b[0mmatLib\u001b[0m\u001b[1;33m.\u001b[0m\u001b[0maddMats\u001b[0m\u001b[1;33m(\u001b[0m\u001b[0mmatList1\u001b[0m\u001b[1;33m)\u001b[0m\u001b[1;33m\u001b[0m\u001b[1;33m\u001b[0m\u001b[0m\n\u001b[0m",
      "\u001b[1;32mc:\\Users\\user\\Documents\\GitHub\\SERPENT-INPUT-GENERATOR\\serpentGenerator\\functions\\mats.py\u001b[0m in \u001b[0;36maddMats\u001b[1;34m(self, newMats)\u001b[0m\n\u001b[0;32m    157\u001b[0m \u001b[1;33m\u001b[0m\u001b[0m\n\u001b[0;32m    158\u001b[0m         \u001b[1;32mfor\u001b[0m \u001b[0mi\u001b[0m \u001b[1;32min\u001b[0m \u001b[0mrange\u001b[0m\u001b[1;33m(\u001b[0m\u001b[1;36m0\u001b[0m\u001b[1;33m,\u001b[0m \u001b[0mlen\u001b[0m\u001b[1;33m(\u001b[0m\u001b[0mnewMats\u001b[0m\u001b[1;33m)\u001b[0m\u001b[1;33m)\u001b[0m\u001b[1;33m:\u001b[0m\u001b[1;33m\u001b[0m\u001b[1;33m\u001b[0m\u001b[0m\n\u001b[1;32m--> 159\u001b[1;33m             \u001b[1;32mif\u001b[0m \u001b[0mnewMats\u001b[0m\u001b[1;33m[\u001b[0m\u001b[0mi\u001b[0m\u001b[1;33m]\u001b[0m\u001b[1;33m.\u001b[0m\u001b[0mid\u001b[0m \u001b[1;32min\u001b[0m \u001b[0mself\u001b[0m\u001b[1;33m.\u001b[0m\u001b[0mmats\u001b[0m\u001b[1;33m:\u001b[0m\u001b[1;33m\u001b[0m\u001b[1;33m\u001b[0m\u001b[0m\n\u001b[0m\u001b[0;32m    160\u001b[0m                 raise KeyError(\"{} has a duplicate matId: {} with an existing mat in\"\n\u001b[0;32m    161\u001b[0m                     \" the mats object.\".format(newMats[i], newMats[i].id))\n",
      "\u001b[1;31mAttributeError\u001b[0m: 'material' object has no attribute 'id'"
     ]
    }
   ],
   "source": [
    "matList1 = [m1, m2, m3]\n",
    "matLib.addMats(matList1)"
   ]
  },
  {
   "cell_type": "markdown",
   "metadata": {},
   "source": [
    "## Lats Object in Serpent Form\n",
    "1. The lats Object can be seen in typical serpent input file format upon using the Object.``toString()`` function"
   ]
  },
  {
   "cell_type": "code",
   "execution_count": 7,
   "metadata": {},
   "outputs": [
    {
     "name": "stdout",
     "output_type": "stream",
     "text": [
      "101 9 0 0 22\n",
      "1\t-20.0\n",
      "2\t0.0\n",
      "2\t18.288\n",
      "2\t36.576\n",
      "3\t54.864\n",
      "3\t73.152\n",
      "3\t91.44\n",
      "3\t109.728\n",
      "3\t128.016\n",
      "3\t146.304\n",
      "3\t164.592\n",
      "3\t182.88\n",
      "3\t201.168\n",
      "3\t219.456\n",
      "3\t237.744\n",
      "3\t256.032\n",
      "3\t274.32\n",
      "3\t292.608\n",
      "2\t310.896\n",
      "2\t329.184\n",
      "2\t347.472\n",
      "1\t365.76\n",
      "\n",
      "102 0 0  3 1.26\n",
      "1 2 1 \n",
      "2 1 2 \n",
      "1 2 1 \n",
      "\n",
      "103 2 0 0 15 15 1.26\n",
      "1 1 1 1 1 1 1 1 1 1 1 1 1 1 1 \n",
      " 1 1 1 1 1 1 1 2 2 2 2 2 2 2 1 \n",
      "  1 1 1 1 1 1 2 2 2 2 2 2 2 2 1 \n",
      "   1 1 1 1 1 2 2 2 2 2 2 2 2 2 1 \n",
      "    1 1 1 1 2 2 2 2 2 2 2 2 2 2 1 \n",
      "     1 1 1 2 2 2 2 2 2 2 2 2 2 2 1 \n",
      "      1 1 2 2 2 2 2 2 2 2 2 2 2 2 1 \n",
      "       1 2 2 2 2 2 2 3 2 2 2 2 2 2 1 \n",
      "        1 2 2 2 2 2 2 2 2 2 2 2 2 1 1 \n",
      "         1 2 2 2 2 2 2 2 2 2 2 2 1 1 1 \n",
      "          1 2 2 2 2 2 2 2 2 2 2 1 1 1 1 \n",
      "           1 2 2 2 2 2 2 2 2 2 1 1 1 1 1 \n",
      "            1 2 2 2 2 2 2 2 2 1 1 1 1 1 1 \n",
      "             1 2 2 2 2 2 2 2 1 1 1 1 1 1 1 \n",
      "              1 1 1 1 1 1 1 1 1 1 1 1 1 1 1 \n",
      "               \n",
      "\n"
     ]
    }
   ],
   "source": [
    "print(latLib.toString())"
   ]
  },
  {
   "cell_type": "markdown",
   "metadata": {},
   "source": [
    "## Removing Lat elements from the lats Object\n",
    "1. Inidividual lat elements can be removed from the lats object using the latsObject.``removeLat(removedLatId)`` method\n",
    "2. A key error will be thrown if the latId of the desired removed lat does not exist within in the latsObject."
   ]
  },
  {
   "cell_type": "code",
   "execution_count": 8,
   "metadata": {},
   "outputs": [
    {
     "name": "stdout",
     "output_type": "stream",
     "text": [
      "{'nlats': 2, 'lats': {'102': <serpentGenerator.functions.sqLattice.sqLat object at 0x000001A5E81A1508>, '103': <serpentGenerator.functions.hexLattice.hexLat object at 0x000001A5E81BCD48>}}\n",
      "102 0 0  3 1.26\n",
      "1 2 1 \n",
      "2 1 2 \n",
      "1 2 1 \n",
      "\n",
      "103 2 0 0 15 15 1.26\n",
      "1 1 1 1 1 1 1 1 1 1 1 1 1 1 1 \n",
      " 1 1 1 1 1 1 1 2 2 2 2 2 2 2 1 \n",
      "  1 1 1 1 1 1 2 2 2 2 2 2 2 2 1 \n",
      "   1 1 1 1 1 2 2 2 2 2 2 2 2 2 1 \n",
      "    1 1 1 1 2 2 2 2 2 2 2 2 2 2 1 \n",
      "     1 1 1 2 2 2 2 2 2 2 2 2 2 2 1 \n",
      "      1 1 2 2 2 2 2 2 2 2 2 2 2 2 1 \n",
      "       1 2 2 2 2 2 2 3 2 2 2 2 2 2 1 \n",
      "        1 2 2 2 2 2 2 2 2 2 2 2 2 1 1 \n",
      "         1 2 2 2 2 2 2 2 2 2 2 2 1 1 1 \n",
      "          1 2 2 2 2 2 2 2 2 2 2 1 1 1 1 \n",
      "           1 2 2 2 2 2 2 2 2 2 1 1 1 1 1 \n",
      "            1 2 2 2 2 2 2 2 2 1 1 1 1 1 1 \n",
      "             1 2 2 2 2 2 2 2 1 1 1 1 1 1 1 \n",
      "              1 1 1 1 1 1 1 1 1 1 1 1 1 1 1 \n",
      "               \n",
      "\n"
     ]
    }
   ],
   "source": [
    "latLib.removeLat(\"101\")\n",
    "print(vars(latLib))\n",
    "print(latLib.toString())"
   ]
  },
  {
   "cell_type": "markdown",
   "metadata": {},
   "source": [
    "## Retrieving lattice elements from the Lats Object\n",
    "1. Inidividual lattice elements can be retrieved from the lats object using the latsObject.``getLat(latId)`` method\n",
    "2. A key error will be thrown if the latId of the desired lat does not exist within in the latsObject."
   ]
  },
  {
   "cell_type": "code",
   "execution_count": 12,
   "metadata": {},
   "outputs": [
    {
     "name": "stdout",
     "output_type": "stream",
     "text": [
      "{'id': '102', 'xo': 0, 'yo': 0, 'nelements': 3, 'pitch': 1.26, 'map': array([[<serpentGenerator.functions.pin.pin object at 0x000001A5E81A1D08>,\n",
      "        <serpentGenerator.functions.pin.pin object at 0x000001A5E81A1CC8>,\n",
      "        <serpentGenerator.functions.pin.pin object at 0x000001A5E81A1D08>],\n",
      "       [<serpentGenerator.functions.pin.pin object at 0x000001A5E81A1CC8>,\n",
      "        <serpentGenerator.functions.pin.pin object at 0x000001A5E81A1D08>,\n",
      "        <serpentGenerator.functions.pin.pin object at 0x000001A5E81A1CC8>],\n",
      "       [<serpentGenerator.functions.pin.pin object at 0x000001A5E81A1D08>,\n",
      "        <serpentGenerator.functions.pin.pin object at 0x000001A5E81A1CC8>,\n",
      "        <serpentGenerator.functions.pin.pin object at 0x000001A5E81A1D08>]],\n",
      "      dtype=object)}\n",
      "102 0 0  3 1.26\n",
      "1 2 1 \n",
      "2 1 2 \n",
      "1 2 1 \n",
      "\n",
      "\n"
     ]
    }
   ],
   "source": [
    "retrievedLat = latLib.getLat(\"102\")\n",
    "print(vars(retrievedLat))\n",
    "print(retrievedLat.toString())\n"
   ]
  },
  {
   "cell_type": "code",
   "execution_count": null,
   "metadata": {},
   "outputs": [],
   "source": []
  }
 ],
 "metadata": {
  "interpreter": {
   "hash": "5f292722d6d50c2426abae6fd15a85386b49c5393ec98f1c35f79e4e4dd7448b"
  },
  "kernelspec": {
   "name": "python3",
   "display_name": "Python 3.7.4 64-bit ('base': conda)"
  },
  "language_info": {
   "codemirror_mode": {
    "name": "ipython",
    "version": 3
   },
   "file_extension": ".py",
   "mimetype": "text/x-python",
   "name": "python",
   "nbconvert_exporter": "python",
   "pygments_lexer": "ipython3",
   "version": "3.7.4"
  }
 },
 "nbformat": 4,
 "nbformat_minor": 2
}