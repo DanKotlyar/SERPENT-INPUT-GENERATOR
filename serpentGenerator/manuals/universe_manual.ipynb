{
 "cells": [
  {
   "cell_type": "code",
   "execution_count": 1,
   "metadata": {},
   "outputs": [],
   "source": [
    "import numpy as np\n",
    "from serpentGenerator.functions.surf import surf\n",
    "from serpentGenerator.functions.cell import cell\n",
    "from serpentGenerator.functions.sqLattice import sqLat\n",
    "from serpentGenerator.functions.universe import universe\n",
    "from serpentGenerator.functions.pin import pin\n"
   ]
  },
  {
   "cell_type": "markdown",
   "metadata": {},
   "source": [
    "## General Universe Objtect Initialization\n",
    "1. Can use ``vars(Object)`` function to aid user in seeing all available attributes and their types\n",
    "2. This class represents a universe, following from the tradtional serpent universe\n",
    "based geometry.\n",
    "\n",
    "    Attributes\n",
    "    ----------\n",
    "    id : str\n",
    "        universe id/name\n",
    "\n",
    "    surfs : surfs obj\n",
    "        surfs obj consisting of all surfs making up the universe\n",
    "        \n",
    "    cells : cells obj\n",
    "        cells obj consisting of all cells making up the universe"
   ]
  },
  {
   "cell_type": "code",
   "execution_count": 2,
   "metadata": {},
   "outputs": [
    {
     "name": "stdout",
     "output_type": "stream",
     "text": [
      "{'id': 'u1', 'layout': None, 'cells': [], 'elements': [], 'univMats': []}\n"
     ]
    }
   ],
   "source": [
    "u1 = universe(\"u1\")\n",
    "print(vars(u1))"
   ]
  },
  {
   "cell_type": "markdown",
   "metadata": {},
   "source": [
    "## Setting geometry for the universe object\n",
    "1. The geometry be set using the Object.``setGeom(surfs, cells)`` function\n"
   ]
  },
  {
   "cell_type": "code",
   "execution_count": 3,
   "metadata": {},
   "outputs": [],
   "source": [
    "s1 = surf(\"1\", \"sqc\", np.array([0, 0, 10.75, 0]))\n",
    "s2 = surf(\"2\", \"sph\", np.array([0, 0, 0, 10.75]))\n",
    "\n",
    "surfs1 = [s1, s2]\n",
    "dirs1 = [1, 0]\n",
    "\n",
    "l1 = sqLat(\"101\", 0, 0, 3, 1.260)\n",
    "\n",
    "c96 = cell(\"96\")\n",
    "c96.setSurfs(surfs1, dirs1)\n",
    "c96.setFill(l1.id)\n",
    "\n",
    "cells1 = [c96]\n",
    "\n",
    "u1.setGeom(cells1)"
   ]
  },
  {
   "cell_type": "markdown",
   "metadata": {},
   "source": [
    "## Universe Object in Serpent Form\n",
    "1. The universe Object can be seen in typical serpent input file format upon using the Object.``toString()`` function"
   ]
  },
  {
   "cell_type": "code",
   "execution_count": 5,
   "metadata": {},
   "outputs": [
    {
     "name": "stdout",
     "output_type": "stream",
     "text": [
      "cell 96 u1  fill 101 -1 2 \n",
      "surf 1 sqc 0.0 0.0 10.75 0.0 \n",
      "surf 2 sph 0.0 0.0 0.0 10.75 \n",
      "\n",
      "\n",
      "\n"
     ]
    }
   ],
   "source": [
    "print(u1.toString())"
   ]
  },
  {
   "cell_type": "markdown",
   "metadata": {},
   "source": [
    "## Duplicating Universe Objects\n",
    "1. A copy/duplicate universe object can be made from an exisiting universe using the Object.``duplicateUniv('newId')`` function\n",
    "2. ``newId`` must be provided, universes cannot have matching Ids an error will be raised when added to a core object for storage."
   ]
  },
  {
   "cell_type": "code",
   "execution_count": 7,
   "metadata": {},
   "outputs": [
    {
     "name": "stdout",
     "output_type": "stream",
     "text": [
      "cell 96 u1  fill 101 -1 2 \n",
      "surf 1 sqc 0.0 0.0 10.75 0.0 \n",
      "surf 2 sph 0.0 0.0 0.0 10.75 \n",
      "\n",
      "\n",
      "\n",
      "cell 96 u2  fill 101 -1 2 \n",
      "surf 1 sqc 0.0 0.0 10.75 0.0 \n",
      "surf 2 sph 0.0 0.0 0.0 10.75 \n",
      "\n",
      "\n",
      "\n"
     ]
    }
   ],
   "source": [
    "u2 = u1.duplicate(\"u2\")\n",
    "print(u1.toString())\n",
    "print(u2.toString())"
   ]
  },
  {
   "cell_type": "code",
   "execution_count": null,
   "metadata": {},
   "outputs": [],
   "source": []
  }
 ],
 "metadata": {
  "interpreter": {
   "hash": "40dd8ac0d9deade98bfeabe90f4917b89019717cb94bf6765b4ad8fd51991e19"
  },
  "kernelspec": {
   "display_name": "Python 3.7.4 64-bit ('base': conda)",
   "name": "python3"
  },
  "language_info": {
   "codemirror_mode": {
    "name": "ipython",
    "version": 3
   },
   "file_extension": ".py",
   "mimetype": "text/x-python",
   "name": "python",
   "nbconvert_exporter": "python",
   "pygments_lexer": "ipython3",
   "version": "3.7.4"
  }
 },
 "nbformat": 4,
 "nbformat_minor": 2
}
