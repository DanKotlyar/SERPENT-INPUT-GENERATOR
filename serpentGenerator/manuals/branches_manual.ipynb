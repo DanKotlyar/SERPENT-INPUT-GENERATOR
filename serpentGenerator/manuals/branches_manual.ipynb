{
 "cells": [
  {
   "cell_type": "code",
   "execution_count": 1,
   "metadata": {},
   "outputs": [],
   "source": [
    "import numpy as np\n",
    "\n",
    "from serpentGenerator.functions.branches import branches\n",
    "from serpentGenerator.data.materialLibrary import MATLIB"
   ]
  },
  {
   "cell_type": "markdown",
   "metadata": {},
   "source": [
    "## Testing the BuildBranchesPWR with different branching scenarios\n",
    "1. Supports different combinations of perturbations\n",
    "2. Limited to fuel temperature, moderator density, and bppm for PWR systems"
   ]
  },
  {
   "cell_type": "code",
   "execution_count": 5,
   "metadata": {},
   "outputs": [],
   "source": [
    "nomFuel = MATLIB['UO2']\n",
    "nomMod = MATLIB['lightWater']\n",
    "fuelTemps = [600, 900, 1200]\n",
    "modDens = [600, 700, 800]\n",
    "bppms = [500, 1000, 1500]\n",
    "\n",
    "FMB = branches.branchBuilderPWR(nomFuel=nomFuel, nomMod=nomMod, fuelTemps=fuelTemps, modDens=modDens, bppms= bppms)\n",
    "FM = branches.branchBuilderPWR(nomFuel=nomFuel, nomMod=nomMod, fuelTemps=fuelTemps, modDens=modDens)\n",
    "FB = branches.branchBuilderPWR(nomFuel=nomFuel, nomMod=nomMod, fuelTemps=fuelTemps, bppms= bppms)\n",
    "MB = branches.branchBuilderPWR(nomFuel=nomFuel, nomMod=nomMod, modDens=modDens, bppms= bppms)\n",
    "F = branches.branchBuilderPWR(nomFuel=nomFuel, nomMod=nomMod, fuelTemps=fuelTemps)\n",
    "M = branches.branchBuilderPWR(nomFuel=nomFuel, nomMod=nomMod, modDens=modDens)\n",
    "B = branches.branchBuilderPWR(nomFuel=nomFuel, nomMod=nomMod, bppms= bppms)"
   ]
  },
  {
   "cell_type": "markdown",
   "metadata": {},
   "source": [
    "## Branches Object in Serpent Form\n",
    "1. The branches Object can be seen in typical serpent input file format upon using the Object.``toString()`` function"
   ]
  },
  {
   "cell_type": "code",
   "execution_count": 6,
   "metadata": {},
   "outputs": [
    {
     "name": "stdout",
     "output_type": "stream",
     "text": [
      "branch f600d600b500\n",
      "repm lightWater lightWaterd600b500\n",
      "stp UO2 -10.2141 600 \n",
      "branch f600d600b1000\n",
      "repm lightWater lightWaterd600b1000\n",
      "stp UO2 -10.2141 600 \n",
      "branch f600d600b1500\n",
      "repm lightWater lightWaterd600b1500\n",
      "stp UO2 -10.2141 600 \n",
      "branch f600d700b500\n",
      "repm lightWater lightWaterd700b500\n",
      "stp UO2 -10.2141 600 \n",
      "branch f600d700b1000\n",
      "repm lightWater lightWaterd700b1000\n",
      "stp UO2 -10.2141 600 \n",
      "branch f600d700b1500\n",
      "repm lightWater lightWaterd700b1500\n",
      "stp UO2 -10.2141 600 \n",
      "branch f600d800b500\n",
      "repm lightWater lightWaterd800b500\n",
      "stp UO2 -10.2141 600 \n",
      "branch f600d800b1000\n",
      "repm lightWater lightWaterd800b1000\n",
      "stp UO2 -10.2141 600 \n",
      "branch f600d800b1500\n",
      "repm lightWater lightWaterd800b1500\n",
      "stp UO2 -10.2141 600 \n",
      "branch f900d600b500\n",
      "repm lightWater lightWaterd600b500\n",
      "stp UO2 -10.2141 900 \n",
      "branch f900d600b1000\n",
      "repm lightWater lightWaterd600b1000\n",
      "stp UO2 -10.2141 900 \n",
      "branch f900d600b1500\n",
      "repm lightWater lightWaterd600b1500\n",
      "stp UO2 -10.2141 900 \n",
      "branch f900d700b500\n",
      "repm lightWater lightWaterd700b500\n",
      "stp UO2 -10.2141 900 \n",
      "branch f900d700b1000\n",
      "repm lightWater lightWaterd700b1000\n",
      "stp UO2 -10.2141 900 \n",
      "branch f900d700b1500\n",
      "repm lightWater lightWaterd700b1500\n",
      "stp UO2 -10.2141 900 \n",
      "branch f900d800b500\n",
      "repm lightWater lightWaterd800b500\n",
      "stp UO2 -10.2141 900 \n",
      "branch f900d800b1000\n",
      "repm lightWater lightWaterd800b1000\n",
      "stp UO2 -10.2141 900 \n",
      "branch f900d800b1500\n",
      "repm lightWater lightWaterd800b1500\n",
      "stp UO2 -10.2141 900 \n",
      "branch f1200d600b500\n",
      "repm lightWater lightWaterd600b500\n",
      "stp UO2 -10.2141 1200 \n",
      "branch f1200d600b1000\n",
      "repm lightWater lightWaterd600b1000\n",
      "stp UO2 -10.2141 1200 \n",
      "branch f1200d600b1500\n",
      "repm lightWater lightWaterd600b1500\n",
      "stp UO2 -10.2141 1200 \n",
      "branch f1200d700b500\n",
      "repm lightWater lightWaterd700b500\n",
      "stp UO2 -10.2141 1200 \n",
      "branch f1200d700b1000\n",
      "repm lightWater lightWaterd700b1000\n",
      "stp UO2 -10.2141 1200 \n",
      "branch f1200d700b1500\n",
      "repm lightWater lightWaterd700b1500\n",
      "stp UO2 -10.2141 1200 \n",
      "branch f1200d800b500\n",
      "repm lightWater lightWaterd800b500\n",
      "stp UO2 -10.2141 1200 \n",
      "branch f1200d800b1000\n",
      "repm lightWater lightWaterd800b1000\n",
      "stp UO2 -10.2141 1200 \n",
      "branch f1200d800b1500\n",
      "repm lightWater lightWaterd800b1500\n",
      "stp UO2 -10.2141 1200 \n",
      "\n",
      "\n"
     ]
    }
   ],
   "source": [
    "print(FMB.toString())"
   ]
  },
  {
   "cell_type": "code",
   "execution_count": 7,
   "metadata": {},
   "outputs": [
    {
     "name": "stdout",
     "output_type": "stream",
     "text": [
      "branch f600d600\n",
      "repm lightWater lightWaterd600\n",
      "stp UO2 -10.2141 600 \n",
      "branch f600d700\n",
      "repm lightWater lightWaterd700\n",
      "stp UO2 -10.2141 600 \n",
      "branch f600d800\n",
      "repm lightWater lightWaterd800\n",
      "stp UO2 -10.2141 600 \n",
      "branch f900d600\n",
      "repm lightWater lightWaterd600\n",
      "stp UO2 -10.2141 900 \n",
      "branch f900d700\n",
      "repm lightWater lightWaterd700\n",
      "stp UO2 -10.2141 900 \n",
      "branch f900d800\n",
      "repm lightWater lightWaterd800\n",
      "stp UO2 -10.2141 900 \n",
      "branch f1200d600\n",
      "repm lightWater lightWaterd600\n",
      "stp UO2 -10.2141 1200 \n",
      "branch f1200d700\n",
      "repm lightWater lightWaterd700\n",
      "stp UO2 -10.2141 1200 \n",
      "branch f1200d800\n",
      "repm lightWater lightWaterd800\n",
      "stp UO2 -10.2141 1200 \n",
      "\n",
      "\n"
     ]
    }
   ],
   "source": [
    "print(FM.toString())"
   ]
  },
  {
   "cell_type": "code",
   "execution_count": 8,
   "metadata": {},
   "outputs": [
    {
     "name": "stdout",
     "output_type": "stream",
     "text": [
      "branch f600b500\n",
      "repm lightWater lightWaterb500\n",
      "stp UO2 -10.2141 600 \n",
      "branch f600b1000\n",
      "repm lightWater lightWaterb1000\n",
      "stp UO2 -10.2141 600 \n",
      "branch f600b1500\n",
      "repm lightWater lightWaterb1500\n",
      "stp UO2 -10.2141 600 \n",
      "branch f900b500\n",
      "repm lightWater lightWaterb500\n",
      "stp UO2 -10.2141 900 \n",
      "branch f900b1000\n",
      "repm lightWater lightWaterb1000\n",
      "stp UO2 -10.2141 900 \n",
      "branch f900b1500\n",
      "repm lightWater lightWaterb1500\n",
      "stp UO2 -10.2141 900 \n",
      "branch f1200b500\n",
      "repm lightWater lightWaterb500\n",
      "stp UO2 -10.2141 1200 \n",
      "branch f1200b1000\n",
      "repm lightWater lightWaterb1000\n",
      "stp UO2 -10.2141 1200 \n",
      "branch f1200b1500\n",
      "repm lightWater lightWaterb1500\n",
      "stp UO2 -10.2141 1200 \n",
      "\n",
      "\n"
     ]
    }
   ],
   "source": [
    "print(FB.toString())"
   ]
  },
  {
   "cell_type": "code",
   "execution_count": 9,
   "metadata": {},
   "outputs": [
    {
     "name": "stdout",
     "output_type": "stream",
     "text": [
      "branch d600b500\n",
      "repm lightWater lightWaterd600b500\n",
      "branch d600b1000\n",
      "repm lightWater lightWaterd600b1000\n",
      "branch d600b1500\n",
      "repm lightWater lightWaterd600b1500\n",
      "branch d700b500\n",
      "repm lightWater lightWaterd700b500\n",
      "branch d700b1000\n",
      "repm lightWater lightWaterd700b1000\n",
      "branch d700b1500\n",
      "repm lightWater lightWaterd700b1500\n",
      "branch d800b500\n",
      "repm lightWater lightWaterd800b500\n",
      "branch d800b1000\n",
      "repm lightWater lightWaterd800b1000\n",
      "branch d800b1500\n",
      "repm lightWater lightWaterd800b1500\n",
      "\n",
      "\n"
     ]
    }
   ],
   "source": [
    "print(MB.toString())"
   ]
  },
  {
   "cell_type": "code",
   "execution_count": 10,
   "metadata": {},
   "outputs": [
    {
     "name": "stdout",
     "output_type": "stream",
     "text": [
      "branch f600\n",
      "stp UO2 -10.2141 600 \n",
      "branch f900\n",
      "stp UO2 -10.2141 900 \n",
      "branch f1200\n",
      "stp UO2 -10.2141 1200 \n",
      "\n",
      "\n"
     ]
    }
   ],
   "source": [
    "print(F.toString())"
   ]
  },
  {
   "cell_type": "code",
   "execution_count": 11,
   "metadata": {},
   "outputs": [
    {
     "name": "stdout",
     "output_type": "stream",
     "text": [
      "branch d600\n",
      "repm lightWater lightWaterd600\n",
      "branch d700\n",
      "repm lightWater lightWaterd700\n",
      "branch d800\n",
      "repm lightWater lightWaterd800\n",
      "\n",
      "\n"
     ]
    }
   ],
   "source": [
    "print(M.toString())"
   ]
  },
  {
   "cell_type": "code",
   "execution_count": 12,
   "metadata": {},
   "outputs": [
    {
     "name": "stdout",
     "output_type": "stream",
     "text": [
      "branch b500\n",
      "repm lightWater lightWaterb500\n",
      "branch b1000\n",
      "repm lightWater lightWaterb1000\n",
      "branch b1500\n",
      "repm lightWater lightWaterb1500\n",
      "\n",
      "\n"
     ]
    }
   ],
   "source": [
    "print(B.toString())"
   ]
  }
 ],
 "metadata": {
  "interpreter": {
   "hash": "40dd8ac0d9deade98bfeabe90f4917b89019717cb94bf6765b4ad8fd51991e19"
  },
  "kernelspec": {
   "display_name": "Python 3.7.4 64-bit ('base': conda)",
   "name": "python3"
  },
  "language_info": {
   "codemirror_mode": {
    "name": "ipython",
    "version": 3
   },
   "file_extension": ".py",
   "mimetype": "text/x-python",
   "name": "python",
   "nbconvert_exporter": "python",
   "pygments_lexer": "ipython3",
   "version": "3.7.4"
  }
 },
 "nbformat": 4,
 "nbformat_minor": 2
}
