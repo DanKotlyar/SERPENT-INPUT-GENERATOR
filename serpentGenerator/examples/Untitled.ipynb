{
 "cells": [
  {
   "cell_type": "code",
   "execution_count": 2,
   "id": "f3619225",
   "metadata": {},
   "outputs": [],
   "source": [
    "import numpy as np\n",
    "from matplotlib import pyplot as plt, rcParams\n",
    "import serpentTools"
   ]
  },
  {
   "cell_type": "code",
   "execution_count": 3,
   "id": "87ed4319",
   "metadata": {},
   "outputs": [
    {
     "name": "stdout",
     "output_type": "stream",
     "text": [
      "[[1.03424e+00 3.20000e-04]\n",
      " [1.01155e+00 3.50000e-04]\n",
      " [1.00924e+00 2.90000e-04]\n",
      " [1.00618e+00 3.50000e-04]\n",
      " [1.00388e+00 3.30000e-04]\n",
      " [1.00229e+00 3.40000e-04]\n",
      " [1.00056e+00 3.10000e-04]\n",
      " [9.98016e-01 3.40000e-04]\n",
      " [9.94406e-01 3.30000e-04]\n",
      " [9.80015e-01 3.50000e-04]\n",
      " [9.65588e-01 3.20000e-04]\n",
      " [9.50759e-01 3.20000e-04]\n",
      " [9.36728e-01 3.10000e-04]\n",
      " [9.23780e-01 3.60000e-04]\n",
      " [9.10852e-01 3.60000e-04]\n",
      " [8.95843e-01 3.30000e-04]\n",
      " [8.86301e-01 3.20000e-04]\n",
      " [8.74748e-01 2.70000e-04]\n",
      " [8.60710e-01 3.30000e-04]\n",
      " [8.46760e-01 3.30000e-04]\n",
      " [8.33557e-01 3.60000e-04]\n",
      " [8.20398e-01 3.70000e-04]\n",
      " [8.09823e-01 3.80000e-04]]\n",
      "\n",
      "\n",
      "[[1.34624e+00 2.30000e-04]\n",
      " [1.31625e+00 2.40000e-04]\n",
      " [1.30795e+00 2.10000e-04]\n",
      " [1.30384e+00 2.00000e-04]\n",
      " [1.29861e+00 2.20000e-04]\n",
      " [1.29310e+00 2.00000e-04]\n",
      " [1.28849e+00 1.80000e-04]\n",
      " [1.27481e+00 2.20000e-04]\n",
      " [1.26100e+00 2.10000e-04]\n",
      " [1.24762e+00 2.40000e-04]\n",
      " [1.23414e+00 2.30000e-04]\n",
      " [1.22183e+00 2.10000e-04]\n",
      " [1.20898e+00 2.40000e-04]\n",
      " [1.19712e+00 2.10000e-04]\n",
      " [1.18489e+00 2.70000e-04]\n",
      " [1.17470e+00 2.30000e-04]\n",
      " [1.16364e+00 2.40000e-04]\n",
      " [1.15326e+00 2.40000e-04]\n",
      " [1.13311e+00 2.20000e-04]]\n",
      "\n",
      "\n",
      "[[ 0.        0.      ]\n",
      " [ 0.1       0.100001]\n",
      " [ 0.2       0.200003]\n",
      " [ 0.4       0.400005]\n",
      " [ 0.6       0.600008]\n",
      " [ 0.8       0.80001 ]\n",
      " [ 1.        1.00001 ]\n",
      " [ 1.5       1.50002 ]\n",
      " [ 2.        2.00003 ]\n",
      " [ 4.        4.00005 ]\n",
      " [ 6.        6.00008 ]\n",
      " [ 8.        8.00011 ]\n",
      " [10.       10.0001  ]\n",
      " [12.       12.0002  ]\n",
      " [14.       14.0002  ]\n",
      " [16.5      16.5002  ]\n",
      " [18.       18.0002  ]\n",
      " [20.       20.0003  ]\n",
      " [22.5      22.5003  ]\n",
      " [25.       25.0003  ]\n",
      " [27.5      27.5003  ]\n",
      " [30.       30.0004  ]\n",
      " [32.       32.0004  ]]\n"
     ]
    },
    {
     "ename": "KeyError",
     "evalue": "'burnup'",
     "output_type": "error",
     "traceback": [
      "\u001b[1;31m---------------------------------------------------------------------------\u001b[0m",
      "\u001b[1;31mKeyError\u001b[0m                                  Traceback (most recent call last)",
      "\u001b[1;32m<ipython-input-3-31d15ac28431>\u001b[0m in \u001b[0;36m<module>\u001b[1;34m\u001b[0m\n\u001b[0;32m     23\u001b[0m     \u001b[0mkRef\u001b[0m\u001b[1;33m[\u001b[0m\u001b[0mi\u001b[0m\u001b[1;33m]\u001b[0m \u001b[1;33m=\u001b[0m \u001b[0mresR\u001b[0m\u001b[1;33m.\u001b[0m\u001b[0mresdata\u001b[0m\u001b[1;33m[\u001b[0m\u001b[1;34m'absKeff'\u001b[0m\u001b[1;33m]\u001b[0m\u001b[1;33m[\u001b[0m\u001b[0mi\u001b[0m\u001b[1;33m]\u001b[0m\u001b[1;33m[\u001b[0m\u001b[1;36m0\u001b[0m\u001b[1;33m]\u001b[0m\u001b[1;33m\u001b[0m\u001b[1;33m\u001b[0m\u001b[0m\n\u001b[0;32m     24\u001b[0m     \u001b[0mburnup2\u001b[0m\u001b[1;33m[\u001b[0m\u001b[0mi\u001b[0m\u001b[1;33m]\u001b[0m \u001b[1;33m=\u001b[0m \u001b[0mresR\u001b[0m\u001b[1;33m.\u001b[0m\u001b[0mresdata\u001b[0m\u001b[1;33m[\u001b[0m\u001b[1;34m'burnup'\u001b[0m\u001b[1;33m]\u001b[0m\u001b[1;33m[\u001b[0m\u001b[0mi\u001b[0m\u001b[1;33m]\u001b[0m\u001b[1;33m[\u001b[0m\u001b[1;36m0\u001b[0m\u001b[1;33m]\u001b[0m\u001b[1;33m\u001b[0m\u001b[1;33m\u001b[0m\u001b[0m\n\u001b[1;32m---> 25\u001b[1;33m     \u001b[0mburnup3\u001b[0m\u001b[1;33m[\u001b[0m\u001b[0mi\u001b[0m\u001b[1;33m]\u001b[0m \u001b[1;33m=\u001b[0m \u001b[0mresT\u001b[0m\u001b[1;33m.\u001b[0m\u001b[0mresdata\u001b[0m\u001b[1;33m[\u001b[0m\u001b[1;34m'burnup'\u001b[0m\u001b[1;33m]\u001b[0m\u001b[1;33m[\u001b[0m\u001b[0mi\u001b[0m\u001b[1;33m]\u001b[0m\u001b[1;33m[\u001b[0m\u001b[1;36m0\u001b[0m\u001b[1;33m]\u001b[0m\u001b[1;33m\u001b[0m\u001b[1;33m\u001b[0m\u001b[0m\n\u001b[0m\u001b[0;32m     26\u001b[0m     \u001b[0mkTest\u001b[0m\u001b[1;33m[\u001b[0m\u001b[0mi\u001b[0m\u001b[1;33m]\u001b[0m \u001b[1;33m=\u001b[0m \u001b[0mresT\u001b[0m\u001b[1;33m.\u001b[0m\u001b[0mresdata\u001b[0m\u001b[1;33m[\u001b[0m\u001b[1;34m'absKeff'\u001b[0m\u001b[1;33m]\u001b[0m\u001b[1;33m[\u001b[0m\u001b[0mi\u001b[0m\u001b[1;33m]\u001b[0m\u001b[1;33m[\u001b[0m\u001b[1;36m0\u001b[0m\u001b[1;33m]\u001b[0m\u001b[1;33m\u001b[0m\u001b[1;33m\u001b[0m\u001b[0m\n\u001b[0;32m     27\u001b[0m \u001b[1;33m\u001b[0m\u001b[0m\n",
      "\u001b[1;31mKeyError\u001b[0m: 'burnup'"
     ]
    }
   ],
   "source": [
    "resD = serpentTools.read('bigT3D.txt_res.m')\n",
    "resT = serpentTools.read('bigT3D_test.txt_res.m')\n",
    "resR = serpentTools.read('bigT3D_test_ref.txt_res.m')\n",
    "resW = serpentTools.read('bigT_FA1_2D.txt_res.m')\n",
    "\n",
    "print(resD.resdata['absKeff'])\n",
    "print(\"\\n\")\n",
    "print(resR.resdata['absKeff'])\n",
    "print(\"\\n\")\n",
    "print(resD.resdata['burnup'])\n",
    "\n",
    "burnup1 = np.zeros(len(resD.resdata['absKeff']))\n",
    "burnup2 = np.zeros(len(resR.resdata['absKeff']))\n",
    "burnup3 = np.zeros(len(resT.resdata['absKeff']))\n",
    "kbigT = np.zeros(len(resD.resdata['absKeff']))\n",
    "kRef = np.zeros(len(resR.resdata['absKeff']))\n",
    "kTest = np.zeros(len(resT.resdata['absKeff']))\n",
    "for i in range(0, len(resD.resdata['absKeff'])):\n",
    "    burnup1[i] = resD.resdata['burnup'][i][0]\n",
    "    kbigT[i] = resD.resdata['absKeff'][i][0]\n",
    "    \n",
    "for i in range(0, len(resR.resdata['absKeff'])):\n",
    "    kRef[i] = resR.resdata['absKeff'][i][0]\n",
    "    burnup2[i] = resR.resdata['burnup'][i][0]\n",
    "    burnup3[i] = resT.resdata['burnup'][i][0]\n",
    "    kTest[i] = resT.resdata['absKeff'][i][0]\n",
    "    "
   ]
  },
  {
   "cell_type": "code",
   "execution_count": null,
   "id": "62132b8d",
   "metadata": {},
   "outputs": [],
   "source": [
    "resD.plot({'absKeff': r'$k_{\\infty}$'})\n",
    "\n",
    "resW.plot({'absKinf': r'$k_{\\infty}$'})"
   ]
  },
  {
   "cell_type": "code",
   "execution_count": 4,
   "id": "89d6110c",
   "metadata": {},
   "outputs": [
    {
     "data": {
      "text/plain": [
       "<AxesSubplot:xlabel='Time $[d]$', ylabel='$k_{\\\\infty}$$ \\\\pm 3\\\\sigma$'>"
      ]
     },
     "execution_count": 4,
     "metadata": {},
     "output_type": "execute_result"
    },
    {
     "data": {
      "image/png": "[encoded data removed]",
      "text/plain": [
       "<Figure size 432x288 with 1 Axes>"
      ]
     },
     "metadata": {
      "needs_background": "light"
     },
     "output_type": "display_data"
    }
   ],
   "source": [
    "resW.plot({'absKinf': r'$k_{\\infty}$'})"
   ]
  },
  {
   "cell_type": "code",
   "execution_count": 27,
   "id": "94b973f7",
   "metadata": {},
   "outputs": [
    {
     "name": "stdout",
     "output_type": "stream",
     "text": [
      "[1.30868435 1.28682985 1.26497536 1.24312087 1.22126638 1.19941189\n",
      " 1.1775574  1.15570291 1.13384842 1.11199393 1.09013944 1.06828495\n",
      " 1.04643046 1.02457597 1.00272148 0.98086699 0.9590125  0.93715801\n",
      " 0.91530352]\n"
     ]
    }
   ],
   "source": [
    "kref = np.linspace(1.30, 1, 19)\n",
    "bref = np.linspace(0.1, 30, 19)\n",
    "\n",
    "slope = (1.13- 1.31625)/(14.1767 - 0.0202524)\n",
    "\n",
    "def f(x):\n",
    "    return slope*x + 1.31\n",
    "\n",
    "KREF = f(bref)\n",
    "print(KREF)"
   ]
  },
  {
   "cell_type": "code",
   "execution_count": 30,
   "id": "82acd0f6",
   "metadata": {},
   "outputs": [
    {
     "ename": "NameError",
     "evalue": "name 'burnup3' is not defined",
     "output_type": "error",
     "traceback": [
      "\u001b[1;31m---------------------------------------------------------------------------\u001b[0m",
      "\u001b[1;31mNameError\u001b[0m                                 Traceback (most recent call last)",
      "\u001b[1;32m<ipython-input-30-58a876e62579>\u001b[0m in \u001b[0;36m<module>\u001b[1;34m\u001b[0m\n\u001b[0;32m      5\u001b[0m \u001b[0max1\u001b[0m\u001b[1;33m.\u001b[0m\u001b[0mplot\u001b[0m\u001b[1;33m(\u001b[0m\u001b[0mburnup2\u001b[0m\u001b[1;33m,\u001b[0m \u001b[0mkRef\u001b[0m\u001b[1;33m,\u001b[0m \u001b[1;34m'g-*'\u001b[0m\u001b[1;33m,\u001b[0m \u001b[0mlabel\u001b[0m \u001b[1;33m=\u001b[0m \u001b[1;34m'Reference'\u001b[0m\u001b[1;33m)\u001b[0m\u001b[1;33m;\u001b[0m\u001b[1;33m\u001b[0m\u001b[1;33m\u001b[0m\u001b[0m\n\u001b[0;32m      6\u001b[0m \u001b[0max1\u001b[0m\u001b[1;33m.\u001b[0m\u001b[0mplot\u001b[0m\u001b[1;33m(\u001b[0m\u001b[0mbref\u001b[0m\u001b[1;33m,\u001b[0m \u001b[0mKREF\u001b[0m\u001b[1;33m,\u001b[0m \u001b[1;34m'r-*'\u001b[0m\u001b[1;33m,\u001b[0m \u001b[0mlabel\u001b[0m \u001b[1;33m=\u001b[0m \u001b[1;34m'Reference Extrapolated'\u001b[0m\u001b[1;33m)\u001b[0m\u001b[1;33m;\u001b[0m\u001b[1;33m\u001b[0m\u001b[1;33m\u001b[0m\u001b[0m\n\u001b[1;32m----> 7\u001b[1;33m \u001b[0max1\u001b[0m\u001b[1;33m.\u001b[0m\u001b[0mplot\u001b[0m\u001b[1;33m(\u001b[0m\u001b[0mburnup3\u001b[0m\u001b[1;33m,\u001b[0m \u001b[0mkTest\u001b[0m\u001b[1;33m,\u001b[0m \u001b[1;34m'o-*'\u001b[0m\u001b[1;33m,\u001b[0m \u001b[0mlabel\u001b[0m \u001b[1;33m=\u001b[0m \u001b[1;34m'BigT 43%boron'\u001b[0m\u001b[1;33m)\u001b[0m\u001b[1;33m;\u001b[0m\u001b[1;33m\u001b[0m\u001b[1;33m\u001b[0m\u001b[0m\n\u001b[0m\u001b[0;32m      8\u001b[0m ax1.legend(loc='upper center', bbox_to_anchor=(0.5, -.1),\n\u001b[0;32m      9\u001b[0m           fancybox=True, shadow=True, ncol=5)\n",
      "\u001b[1;31mNameError\u001b[0m: name 'burnup3' is not defined"
     ]
    },
    {
     "data": {
      "image/png": "[encoded data removed]",
      "text/plain": [
       "<Figure size 720x360 with 1 Axes>"
      ]
     },
     "metadata": {
      "needs_background": "light"
     },
     "output_type": "display_data"
    }
   ],
   "source": [
    "fig, (ax1) = plt.subplots(figsize=(10, 5));\n",
    "plt.subplots_adjust(wspace=.5, hspace=.5);\n",
    "ax1.set(xlabel = 'Burnup (MWd/kgU)', ylabel = 'Effective Multiplication Factor (k eff)');\n",
    "ax1.plot(burnup1, kbigT, 'b-*', label = 'BigT');\n",
    "ax1.plot(burnup2, kRef, 'g-*', label = 'Reference');\n",
    "ax1.plot(bref, KREF, 'r-*', label = 'Reference Extrapolated');\n",
    "ax1.plot(burnup3, kTest, 'o-*', label = 'BigT 43%boron');\n",
    "ax1.legend(loc='upper center', bbox_to_anchor=(0.5, -.1),\n",
    "          fancybox=True, shadow=True, ncol=5)\n",
    "plt.show()\n"
   ]
  },
  {
   "cell_type": "code",
   "execution_count": null,
   "id": "a9cc78e5",
   "metadata": {},
   "outputs": [],
   "source": []
  }
 ],
 "metadata": {
  "kernelspec": {
   "display_name": "Python 3",
   "language": "python",
   "name": "python3"
  },
  "language_info": {
   "codemirror_mode": {
    "name": "ipython",
    "version": 3
   },
   "file_extension": ".py",
   "mimetype": "text/x-python",
   "name": "python",
   "nbconvert_exporter": "python",
   "pygments_lexer": "ipython3",
   "version": "3.8.8"
  }
 },
 "nbformat": 4,
 "nbformat_minor": 5
}
