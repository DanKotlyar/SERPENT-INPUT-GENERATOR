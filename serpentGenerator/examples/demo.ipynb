{
 "cells": [
  {
   "source": [
    "## Serpent Input Generator Demo\n",
    "1. Showcase of functionality from the in progress development of the serpentInputGenerator"
   ],
   "cell_type": "markdown",
   "metadata": {}
  },
  {
   "cell_type": "code",
   "execution_count": 6,
   "metadata": {},
   "outputs": [],
   "source": [
    "import numpy as np\n",
    "from serpentGenerator.functions.pin import pin\n",
    "from serpentGenerator.functions.pins import pins\n",
    "from serpentGenerator.functions.material import material\n",
    "from serpentGenerator.functions.sqLattice import sqLat\n",
    "from serpentGenerator.data.materialLibrary import MATLIB"
   ]
  },
  {
   "cell_type": "markdown",
   "metadata": {},
   "source": [
    "## Using pregenerated materials for effeciency\n",
    "1. users can take advantadge of the pregenerated material library and tweek paramters to their liking\n",
    "2. users can also use data from pregenerated materials and create their own\n",
    "3. users can access all the pregenerated materials using the ``list()`` function on the material library ``MATLIB``"
   ]
  },
  {
   "cell_type": "code",
   "execution_count": 7,
   "metadata": {},
   "outputs": [
    {
     "output_type": "execute_result",
     "data": {
      "text/plain": [
       "['UO2', 'Zr', 'boron', 'lightWater', 'plenum']"
      ]
     },
     "metadata": {},
     "execution_count": 7
    }
   ],
   "source": [
    "list(MATLIB)"
   ]
  },
  {
   "source": [
    "## Creating our custom UO2 fuel\n",
    "1. using the ``vars()`` function we can see the default pregenerated UO2 material parameters \n",
    "2. for this example we will be generating a higher enrichement uranium oxide\n"
   ],
   "cell_type": "markdown",
   "metadata": {}
  },
  {
   "source": [
    "vars(MATLIB['UO2'])"
   ],
   "cell_type": "code",
   "metadata": {},
   "execution_count": 9,
   "outputs": [
    {
     "output_type": "execute_result",
     "data": {
      "text/plain": [
       "{'name': 'UO2',\n",
       " 'isBurn': True,\n",
       " 'isModer': True,\n",
       " 'dens': -10.2141,\n",
       " 'nuclides': array([92235, 92238,  8016], dtype=int64),\n",
       " 'fractions': array([0.00081508, 0.02218898, 0.04600811]),\n",
       " 'temp': 0.0,\n",
       " 'xsLib': '09c',\n",
       " 'modLib': 'None',\n",
       " 'color': 'orange'}"
      ]
     },
     "metadata": {},
     "execution_count": 9
    }
   ]
  },
  {
   "cell_type": "code",
   "execution_count": 21,
   "metadata": {},
   "outputs": [
    {
     "output_type": "execute_result",
     "data": {
      "text/plain": [
       "{'name': 'UO2',\n",
       " 'isBurn': True,\n",
       " 'isModer': True,\n",
       " 'dens': -10.2141,\n",
       " 'nuclides': array([92235, 92238,  8016], dtype=int64),\n",
       " 'fractions': array([0.00133134, 0.02218898, 0.04600811]),\n",
       " 'temp': 0.0,\n",
       " 'xsLib': '12c',\n",
       " 'modLib': 'None',\n",
       " 'color': 'red'}"
      ]
     },
     "metadata": {},
     "execution_count": 21
    }
   ],
   "source": [
    "fuel = MATLIB['UO2']\n",
    "fuel.set('fractions', np.array([0.001331338626, 0.02218898, 0.04600811])) # 6% Enrichment\n",
    "fuel.set('xsLib', \"12c\") #Higher enrichment cores will run at higher temperatures so we shall change the xs library suffix\n",
    "fuel.set('color','red') #change the color of the fuel for plotting purposes\n",
    "vars(fuel) #Display updated properties of our new fuel"
   ]
  },
  {
   "source": [
    "## Creating a pin using our new fuel\n",
    "1. a pin element can be created using user created or pre generated materials\n",
    "2. the user will have to specify the materials and outer radius of each material in an order dependent fashion\n",
    "2. For this scenario the pin will have 3 regions conisiting of fuel, cladding, and moderator\n",
    "3. the user will use the newly created fuel and is content using the pregenerated Zr cladding and lightWater moderator\n"
   ],
   "cell_type": "markdown",
   "metadata": {}
  },
  {
   "cell_type": "code",
   "execution_count": 24,
   "metadata": {},
   "outputs": [
    {
     "output_type": "execute_result",
     "data": {
      "text/plain": [
       "{'id': 'fuelPin',\n",
       " 'nregions': 3,\n",
       " 'materials': array([], dtype=object),\n",
       " 'radii': array([], dtype=float64)}"
      ]
     },
     "metadata": {},
     "execution_count": 24
    }
   ],
   "source": [
    "fuelPin = pin(\"fuelPin\", 3) #id = fuelPin, numberOfRegions = 3\n",
    "vars(fuelPin)"
   ]
  },
  {
   "cell_type": "code",
   "execution_count": 33,
   "metadata": {},
   "outputs": [
    {
     "output_type": "stream",
     "name": "stdout",
     "text": [
      "pin fuelPin\nUO2\t0.45\nZr\t0.47\nlightWater\n\n\n"
     ]
    }
   ],
   "source": [
    "fuelPin.set('materials', np.array([fuel, MATLIB['Zr'], MATLIB['lightWater']]))\n",
    "fuelPin.set('radii', np.array([.45, .47]))\n",
    "print(fuelPin.toString()) #displaythe pin element in serpent format "
   ]
  }
 ],
 "metadata": {
  "interpreter": {
   "hash": "5f292722d6d50c2426abae6fd15a85386b49c5393ec98f1c35f79e4e4dd7448b"
  },
  "kernelspec": {
   "name": "python3",
   "display_name": "Python 3.7.4 64-bit ('base': conda)"
  },
  "language_info": {
   "codemirror_mode": {
    "name": "ipython",
    "version": 3
   },
   "file_extension": ".py",
   "mimetype": "text/x-python",
   "name": "python",
   "nbconvert_exporter": "python",
   "pygments_lexer": "ipython3",
   "version": "3.7.4"
  }
 },
 "nbformat": 4,
 "nbformat_minor": 2
}