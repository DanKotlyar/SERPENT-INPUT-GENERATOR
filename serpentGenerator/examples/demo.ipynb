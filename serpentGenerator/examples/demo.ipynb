{
 "cells": [
  {
   "cell_type": "markdown",
   "metadata": {},
   "source": [
    "# Serpent Input Generator Demo\n",
    "1. Showcase of functionality from the in progress development of the serpentInputGenerator"
   ]
  },
  {
   "cell_type": "code",
   "execution_count": 43,
   "metadata": {},
   "outputs": [],
   "source": [
    "import numpy as np\n",
    "from serpentGenerator.functions.pin import pin\n",
    "from serpentGenerator.functions.pins import pins\n",
    "from serpentGenerator.functions.material import material\n",
    "from serpentGenerator.functions.sqLattice import sqLat\n",
    "from serpentGenerator.functions.hexLattice import hexLat\n",
    "from serpentGenerator.functions.pinStack import pinStack\n",
    "from serpentGenerator.functions.lats import lats\n",
    "from serpentGenerator.data.materialLibrary import MATLIB"
   ]
  },
  {
   "cell_type": "markdown",
   "metadata": {},
   "source": [
    "## Using pregenerated materials for effeciency\n",
    "1. users can take advantadge of the pregenerated material library and tweak paramters to their liking\n",
    "2. users can also use data from pregenerated materials and create their own\n",
    "3. users can access all the pregenerated materials using the ``list()`` function on the material library ``MATLIB``"
   ]
  },
  {
   "cell_type": "code",
   "execution_count": 44,
   "metadata": {},
   "outputs": [
    {
     "output_type": "execute_result",
     "data": {
      "text/plain": [
       "['UO2', 'Zr', 'boron', 'lightWater', 'plenum']"
      ]
     },
     "metadata": {},
     "execution_count": 44
    }
   ],
   "source": [
    "list(MATLIB)"
   ]
  },
  {
   "cell_type": "markdown",
   "metadata": {},
   "source": [
    "## Creating our custom UO2 fuel\n",
    "1. using the ``vars()`` function we can see the default pregenerated UO2 material parameters \n",
    "2. for this example we will be generating a higher enrichement uranium oxide\n"
   ]
  },
  {
   "cell_type": "code",
   "execution_count": 45,
   "metadata": {},
   "outputs": [
    {
     "output_type": "execute_result",
     "data": {
      "text/plain": [
       "{'name': 'UO2',\n",
       " 'isBurn': True,\n",
       " 'isModer': True,\n",
       " 'dens': -10.2141,\n",
       " 'nuclides': array([92235, 92238,  8016], dtype=int64),\n",
       " 'fractions': array([0.00133134, 0.02218898, 0.04600811]),\n",
       " 'temp': 0.0,\n",
       " 'xsLib': '12c',\n",
       " 'modLib': 'None',\n",
       " 'color': 'red'}"
      ]
     },
     "metadata": {},
     "execution_count": 45
    }
   ],
   "source": [
    "vars(MATLIB['UO2'])"
   ]
  },
  {
   "cell_type": "code",
   "execution_count": 46,
   "metadata": {},
   "outputs": [
    {
     "output_type": "execute_result",
     "data": {
      "text/plain": [
       "{'name': 'UO2',\n",
       " 'isBurn': True,\n",
       " 'isModer': True,\n",
       " 'dens': -10.2141,\n",
       " 'nuclides': array([92235, 92238,  8016], dtype=int64),\n",
       " 'fractions': array([0.00133134, 0.02218898, 0.04600811]),\n",
       " 'temp': 0.0,\n",
       " 'xsLib': '12c',\n",
       " 'modLib': 'None',\n",
       " 'color': 'red'}"
      ]
     },
     "metadata": {},
     "execution_count": 46
    }
   ],
   "source": [
    "fuel = MATLIB['UO2']\n",
    "fuel.set('fractions', np.array([0.001331338626, 0.02218898, 0.04600811])) # 6% Enrichment\n",
    "fuel.set('xsLib', \"12c\") #Higher enrichment cores will run at higher temperatures so we shall change the xs library suffix\n",
    "fuel.set('color','red') #change the color of the fuel for plotting purposes\n",
    "vars(fuel) #Display updated properties of our new fuel"
   ]
  },
  {
   "cell_type": "markdown",
   "metadata": {},
   "source": [
    "## Creating a pin using our new fuel\n",
    "1. a pin element can be created using user created and pre generated materials\n",
    "2. the user will have to specify the materials and outer radius of each material in an order dependent fashion\n",
    "2. For this scenario the pin will have 3 regions conisiting of fuel, cladding, and moderator\n",
    "3. the user will use the newly created fuel and is content using the pregenerated Zr cladding and lightWater moderator\n"
   ]
  },
  {
   "cell_type": "code",
   "execution_count": 47,
   "metadata": {},
   "outputs": [
    {
     "output_type": "stream",
     "name": "stdout",
     "text": [
      "pin 101\nUO2\t0.45\nZr\t0.47\nlightWater\n\n\n"
     ]
    }
   ],
   "source": [
    "p1 = pin(\"101\", 3) #id = 101, numberOfRegions = 3\n",
    "p1.set('materials', np.array([fuel, MATLIB['Zr'], MATLIB['lightWater']]))\n",
    "p1.set('radii', np.array([.45, .47]))\n",
    "print(p1.toString()) #display the pin element in serpent format "
   ]
  },
  {
   "cell_type": "markdown",
   "metadata": {},
   "source": [
    "## Creating a standard fuel pin and guide pin\n",
    "1. A standard fuel pin will be created for comparison with the higher enrichment fuel pin\n",
    "2. A guide tube pin will be created.\n",
    "3. the pinObject.``duplicatePin(newPinId)`` method will be used to fascillitate the process\n",
    "4. all attributes will be the same except the pin id and a change in the inner pin material"
   ]
  },
  {
   "cell_type": "code",
   "execution_count": 48,
   "metadata": {},
   "outputs": [],
   "source": [
    "p2 = p1.duplicatePin(\"201\")\n",
    "p3 = p1.duplicatePin(\"301\")\n",
    "p2.set('materials', np.array([MATLIB['UO2'], MATLIB['Zr'], MATLIB['lightWater']])) #std UO2 Fuel\n",
    "p3.set('materials', np.array([MATLIB['lightWater'], MATLIB['Zr'], MATLIB['lightWater']])) \n"
   ]
  },
  {
   "cell_type": "markdown",
   "metadata": {},
   "source": [
    "## Creating a pins object for storage\n",
    "1. pins created by the user can be stored in a pins object which is meant to be a library for pins."
   ]
  },
  {
   "cell_type": "code",
   "execution_count": 49,
   "metadata": {},
   "outputs": [
    {
     "output_type": "execute_result",
     "data": {
      "text/plain": [
       "{'npins': 3,\n",
       " 'pins': {'101': <serpentGenerator.functions.pin.pin at 0x24570fb3a48>,\n",
       "  '201': <serpentGenerator.functions.pin.pin at 0x24570fc4388>,\n",
       "  '301': <serpentGenerator.functions.pin.pin at 0x24570fc4908>}}"
      ]
     },
     "metadata": {},
     "execution_count": 49
    }
   ],
   "source": [
    "pinLib = pins()\n",
    "pins1 = [p1, p2, p3]\n",
    "pinLib.addPins(pins1)\n",
    "vars(pinLib)"
   ]
  },
  {
   "cell_type": "markdown",
   "metadata": {},
   "source": [
    "## Creating a sqaure Lattice\n",
    "1. For this scenario, the sqaure lattice will be a 17 x 17 lattice, positiioned at the origin with a pitch of 1.260 cm\n"
   ]
  },
  {
   "cell_type": "code",
   "execution_count": 50,
   "metadata": {},
   "outputs": [
    {
     "output_type": "execute_result",
     "data": {
      "text/plain": [
       "{'id': 'l1',\n",
       " 'xo': 0,\n",
       " 'yo': 0,\n",
       " 'nelements': 17,\n",
       " 'pitch': 1.26,\n",
       " 'map': array([], shape=(1, 0), dtype=float64)}"
      ]
     },
     "metadata": {},
     "execution_count": 50
    }
   ],
   "source": [
    "lat1 = sqLat(\"l1\", 0, 0, 17, 1.260)\n",
    "vars(lat1)"
   ]
  },
  {
   "cell_type": "markdown",
   "metadata": {},
   "source": [
    "## Creating the lattice map layout\n",
    "1. The map can be set using the Object.``setMap(map)`` function\n",
    "2. The map for a square lattice must be a 2d numpy array sqaure in shape\n",
    "3. The map array can consist of pin objects for example"
   ]
  },
  {
   "cell_type": "code",
   "execution_count": 51,
   "metadata": {},
   "outputs": [
    {
     "output_type": "stream",
     "name": "stdout",
     "text": [
      "l1 0 0  17 1.26\n101 101 101 101 101 101 101 101 101 101 101 101 101 101 101 101 101 \n101 101 101 101 101 101 101 101 101 101 101 101 101 101 101 101 101 \n101 101 101 101 101 301 101 101 301 101 101 301 101 101 101 101 101 \n101 101 101 301 101 101 101 101 101 101 101 101 101 301 101 101 101 \n101 101 101 101 101 101 101 101 101 101 101 101 101 101 101 101 101 \n101 101 301 101 101 301 101 101 301 101 101 301 101 101 301 101 101 \n101 101 101 101 101 101 101 101 101 101 101 101 101 101 101 101 101 \n101 101 101 101 101 101 101 101 101 101 101 101 101 101 101 101 101 \n101 101 301 101 101 301 101 101 301 101 101 301 101 101 301 101 101 \n101 101 101 101 101 101 101 101 101 101 101 101 101 101 101 101 101 \n101 101 101 101 101 101 101 101 101 101 101 101 101 101 101 101 101 \n101 101 301 101 101 301 101 101 301 101 101 301 101 101 301 101 101 \n101 101 101 101 101 101 101 101 101 101 101 101 101 101 101 101 101 \n101 101 101 301 101 101 101 101 101 101 101 101 101 301 101 101 101 \n101 101 101 101 101 301 101 101 301 101 101 301 101 101 101 101 101 \n101 101 101 101 101 101 101 101 101 101 101 101 101 101 101 101 101 \n101 101 101 101 101 101 101 101 101 101 101 101 101 101 101 101 101 \n\n\n"
     ]
    }
   ],
   "source": [
    "latMap1 = np.array([\n",
    "    [p1, p1, p1, p1, p1, p1, p1, p1, p1, p1, p1, p1, p1, p1, p1, p1, p1],\n",
    "    [p1, p1, p1, p1, p1, p1, p1, p1, p1, p1, p1, p1, p1, p1, p1, p1, p1],\n",
    "    [p1, p1, p1, p1, p1, p3, p1, p1, p3, p1, p1, p3, p1, p1, p1, p1, p1],\n",
    "    [p1, p1, p1, p3, p1, p1, p1, p1, p1, p1, p1, p1, p1, p3, p1, p1, p1],\n",
    "    [p1, p1, p1, p1, p1, p1, p1, p1, p1, p1, p1, p1, p1, p1, p1, p1, p1],\n",
    "    [p1, p1, p3, p1, p1, p3, p1, p1, p3, p1, p1, p3, p1, p1, p3, p1, p1],\n",
    "    [p1, p1, p1, p1, p1, p1, p1, p1, p1, p1, p1, p1, p1, p1, p1, p1, p1],\n",
    "    [p1, p1, p1, p1, p1, p1, p1, p1, p1, p1, p1, p1, p1, p1, p1, p1, p1],\n",
    "    [p1, p1, p3, p1, p1, p3, p1, p1, p3, p1, p1, p3, p1, p1, p3, p1, p1],\n",
    "    [p1, p1, p1, p1, p1, p1, p1, p1, p1, p1, p1, p1, p1, p1, p1, p1, p1],\n",
    "    [p1, p1, p1, p1, p1, p1, p1, p1, p1, p1, p1, p1, p1, p1, p1, p1, p1],\n",
    "    [p1, p1, p3, p1, p1, p3, p1, p1, p3, p1, p1, p3, p1, p1, p3, p1, p1],\n",
    "    [p1, p1, p1, p1, p1, p1, p1, p1, p1, p1, p1, p1, p1, p1, p1, p1, p1],\n",
    "    [p1, p1, p1, p3, p1, p1, p1, p1, p1, p1, p1, p1, p1, p3, p1, p1, p1],\n",
    "    [p1, p1, p1, p1, p1, p3, p1, p1, p3, p1, p1, p3, p1, p1, p1, p1, p1],  \n",
    "    [p1, p1, p1, p1, p1, p1, p1, p1, p1, p1, p1, p1, p1, p1, p1, p1, p1],\n",
    "    [p1, p1, p1, p1, p1, p1, p1, p1, p1, p1, p1, p1, p1, p1, p1, p1, p1],\n",
    "    ])\n",
    "\n",
    "lat1.setMap(latMap1)\n",
    "print(lat1.toString())"
   ]
  },
  {
   "source": [
    "## Creating a duplicate lattice and altering the contents\n",
    "1. The first lattice created above, used the higher enriched fuel pins.\n",
    "2. For comparison, a duplicate lattice will be created keeping the same structure except now using the standard fuel pins.\n",
    "3. A copy/duplicate sqLat object can be made from an exisiting lattice using the Object.``duplicateLat('newLatId')`` function\n",
    "4. the Object.``replacePin(oldPin, newPin)`` function can be used to replace pins in the lattice map layout"
   ],
   "cell_type": "markdown",
   "metadata": {}
  },
  {
   "cell_type": "code",
   "execution_count": 52,
   "metadata": {},
   "outputs": [
    {
     "output_type": "stream",
     "name": "stdout",
     "text": [
      "l2 0 0  17 1.26\n201 201 201 201 201 201 201 201 201 201 201 201 201 201 201 201 201 \n201 201 201 201 201 201 201 201 201 201 201 201 201 201 201 201 201 \n201 201 201 201 201 301 201 201 301 201 201 301 201 201 201 201 201 \n201 201 201 301 201 201 201 201 201 201 201 201 201 301 201 201 201 \n201 201 201 201 201 201 201 201 201 201 201 201 201 201 201 201 201 \n201 201 301 201 201 301 201 201 301 201 201 301 201 201 301 201 201 \n201 201 201 201 201 201 201 201 201 201 201 201 201 201 201 201 201 \n201 201 201 201 201 201 201 201 201 201 201 201 201 201 201 201 201 \n201 201 301 201 201 301 201 201 301 201 201 301 201 201 301 201 201 \n201 201 201 201 201 201 201 201 201 201 201 201 201 201 201 201 201 \n201 201 201 201 201 201 201 201 201 201 201 201 201 201 201 201 201 \n201 201 301 201 201 301 201 201 301 201 201 301 201 201 301 201 201 \n201 201 201 201 201 201 201 201 201 201 201 201 201 201 201 201 201 \n201 201 201 301 201 201 201 201 201 201 201 201 201 301 201 201 201 \n201 201 201 201 201 301 201 201 301 201 201 301 201 201 201 201 201 \n201 201 201 201 201 201 201 201 201 201 201 201 201 201 201 201 201 \n201 201 201 201 201 201 201 201 201 201 201 201 201 201 201 201 201 \n\n\n"
     ]
    }
   ],
   "source": [
    "lat2 = lat1.duplicateLat(\"l2\")\n",
    "lat2.replacePin(p1, p2)\n",
    "print(lat2.toString())"
   ]
  },
  {
   "source": [
    "## Creating a lats object for storage\n",
    "1. lattices created by the user can be stored in a lats object which is meant to be a library for lattices."
   ],
   "cell_type": "markdown",
   "metadata": {}
  },
  {
   "cell_type": "code",
   "execution_count": 53,
   "metadata": {},
   "outputs": [
    {
     "output_type": "execute_result",
     "data": {
      "text/plain": [
       "{'nlats': 2,\n",
       " 'lats': {'l1': <serpentGenerator.functions.sqLattice.sqLat at 0x24570fb3588>,\n",
       "  'l2': <serpentGenerator.functions.sqLattice.sqLat at 0x24570fa83c8>}}"
      ]
     },
     "metadata": {},
     "execution_count": 53
    }
   ],
   "source": [
    "latLib = lats()\n",
    "lats1 = [lat1, lat2]\n",
    "latLib.addLats(lats1)\n",
    "vars(latLib)"
   ]
  }
 ],
 "metadata": {
  "interpreter": {
   "hash": "5f292722d6d50c2426abae6fd15a85386b49c5393ec98f1c35f79e4e4dd7448b"
  },
  "kernelspec": {
   "name": "python3",
   "display_name": "Python 3.7.4 64-bit ('base': conda)"
  },
  "language_info": {
   "codemirror_mode": {
    "name": "ipython",
    "version": 3
   },
   "file_extension": ".py",
   "mimetype": "text/x-python",
   "name": "python",
   "nbconvert_exporter": "python",
   "pygments_lexer": "ipython3",
   "version": "3.7.4"
  }
 },
 "nbformat": 4,
 "nbformat_minor": 2
}