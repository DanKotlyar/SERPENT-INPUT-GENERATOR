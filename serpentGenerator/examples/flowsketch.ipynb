{
 "cells": [
  {
   "cell_type": "code",
   "execution_count": 1,
   "metadata": {},
   "outputs": [],
   "source": [
    "import numpy as np\n",
    "from serpentGenerator.functions.pin import pin\n",
    "from serpentGenerator.data.materialLibrary import MATLIB\n",
    "from serpentGenerator.functions.material import material\n",
    "from serpentGenerator.functions.sqLattice import sqLat\n",
    "from serpentGenerator.functions.hexLattice import hexLat\n",
    "from serpentGenerator.functions.pinStack import pinStack\n",
    "from serpentGenerator.functions.surf import surf\n",
    "from serpentGenerator.functions.lats import lats\n",
    "from serpentGenerator.functions.mats import mats\n",
    "from serpentGenerator.functions.pins import pins\n",
    "from serpentGenerator.functions.inputCollector import inputCollector"
   ]
  },
  {
   "cell_type": "markdown",
   "metadata": {},
   "source": [
    "# XS Generation for a 3D PWR Assembly\n",
    "1. Homogenized few group parameters will be generated for a standard 3D PWR assembly\n",
    "2. The assembly will experience no burnup\n",
    "3. The assembly will experience no perturbations\n",
    "4. The assembly will have predefined values for the axial fuel temperatures and coolant densities\n",
    "taken from a thermo-hydraulic solver\n",
    "5. The assembly has reflector on the top and bottom axial layers\n",
    "6. The XS generation will be done using a 2 group structure where the XS will be generated for the fuel and reflector universes"
   ]
  },
  {
   "cell_type": "markdown",
   "metadata": {},
   "source": [
    "## Assembly Geometry\n",
    "1. The Assembly will consist of a 19 x 19 sqaure lattice\n",
    "2. Each channel will have 22 axial layers, with the 1st and 22nd layer being refectors.\n",
    "3. Each axial layer will have its own material and conditions pre determined by a thermal hyrdaulic solver.\n"
   ]
  },
  {
   "cell_type": "code",
   "execution_count": 2,
   "metadata": {},
   "outputs": [],
   "source": [
    "nAxLayers = 22 #number of axial layers\n",
    "\n",
    "#Pre generated fuel temps and coolant densities\n",
    "fuelTemps = [\n",
    "    669.78\n",
    "    ,725.41\n",
    "    ,787.58\n",
    "    ,838.7\n",
    "    ,878.48\n",
    "    ,907.2\n",
    "    ,925.58\n",
    "    ,935.24\n",
    "    ,937.28\n",
    "    ,932.89\n",
    "    ,922.53\n",
    "    ,907.06\n",
    "    ,887.28\n",
    "    ,863.37\n",
    "    ,835.66\n",
    "    ,803.81\n",
    "    ,769.06\n",
    "    ,731.00\n",
    "    ,690.12\n",
    "    ,657.53\n",
    "]\n",
    "\n",
    "coolDens = [\n",
    "    -0.7542\n",
    "    ,-0.75224\n",
    "    ,-0.74954\n",
    "    ,-0.74623\n",
    "    ,-0.74244\n",
    "    ,-0.73828\n",
    "    ,-0.73387\n",
    "    ,-0.72931\n",
    "    ,-0.72471\n",
    "    ,-0.72013\n",
    "    ,-0.71565\n",
    "    ,-0.71136\n",
    "    ,-0.70729\n",
    "    ,-0.70353\n",
    "    ,-0.70013\n",
    "    ,-0.69715\n",
    "    ,-0.69464\n",
    "    ,-0.69265\n",
    "    ,-0.69123\n",
    "    ,-0.69027\n",
    "]"
   ]
  },
  {
   "cell_type": "markdown",
   "metadata": {},
   "source": [
    "## Generating Materials\n",
    "1. Since 2 of the 22 axial layers will be reflectors, this means we will have 20 active layers. \n",
    "2. The thermohydraulic solver has pretedetermined the temperatures of the 20 active layers for the fuel and coolant densities.\n",
    "3. For the fuel we will be using UO2 and lightWater for the coolant. "
   ]
  },
  {
   "cell_type": "code",
   "execution_count": 3,
   "metadata": {},
   "outputs": [
    {
     "output_type": "stream",
     "name": "stdout",
     "text": [
      "mat f1    -10.2141  burn 1 tmp 669.78 rgb 255 165   0\n92235.09c\t0.000815077056\n92238.09c\t0.0221889771\n8016.09c\t0.0460081082\n\nmat f2    -10.2141  burn 1 tmp 725.41 rgb 255 165   0\n92235.09c\t0.000815077056\n92238.09c\t0.0221889771\n8016.09c\t0.0460081082\n\nmat f3    -10.2141  burn 1 tmp 787.58 rgb 255 165   0\n92235.09c\t0.000815077056\n92238.09c\t0.0221889771\n8016.09c\t0.0460081082\n\nmat f4    -10.2141  burn 1 tmp 838.7 rgb 255 165   0\n92235.09c\t0.000815077056\n92238.09c\t0.0221889771\n8016.09c\t0.0460081082\n\nmat f5    -10.2141  burn 1 tmp 878.48 rgb 255 165   0\n92235.09c\t0.000815077056\n92238.09c\t0.0221889771\n8016.09c\t0.0460081082\n\nmat f6    -10.2141  burn 1 tmp 907.2 rgb 255 165   0\n92235.09c\t0.000815077056\n92238.09c\t0.0221889771\n8016.09c\t0.0460081082\n\nmat f7    -10.2141  burn 1 tmp 925.58 rgb 255 165   0\n92235.09c\t0.000815077056\n92238.09c\t0.0221889771\n8016.09c\t0.0460081082\n\nmat f8    -10.2141  burn 1 tmp 935.24 rgb 255 165   0\n92235.09c\t0.000815077056\n92238.09c\t0.0221889771\n8016.09c\t0.0460081082\n\nmat f9    -10.2141  burn 1 tmp 937.28 rgb 255 165   0\n92235.09c\t0.000815077056\n92238.09c\t0.0221889771\n8016.09c\t0.0460081082\n\nmat f10    -10.2141  burn 1 tmp 932.89 rgb 255 165   0\n92235.09c\t0.000815077056\n92238.09c\t0.0221889771\n8016.09c\t0.0460081082\n\nmat f11    -10.2141  burn 1 tmp 922.53 rgb 255 165   0\n92235.09c\t0.000815077056\n92238.09c\t0.0221889771\n8016.09c\t0.0460081082\n\nmat f12    -10.2141  burn 1 tmp 907.06 rgb 255 165   0\n92235.09c\t0.000815077056\n92238.09c\t0.0221889771\n8016.09c\t0.0460081082\n\nmat f13    -10.2141  burn 1 tmp 887.28 rgb 255 165   0\n92235.09c\t0.000815077056\n92238.09c\t0.0221889771\n8016.09c\t0.0460081082\n\nmat f14    -10.2141  burn 1 tmp 863.37 rgb 255 165   0\n92235.09c\t0.000815077056\n92238.09c\t0.0221889771\n8016.09c\t0.0460081082\n\nmat f15    -10.2141  burn 1 tmp 835.66 rgb 255 165   0\n92235.09c\t0.000815077056\n92238.09c\t0.0221889771\n8016.09c\t0.0460081082\n\nmat f16    -10.2141  burn 1 tmp 803.81 rgb 255 165   0\n92235.09c\t0.000815077056\n92238.09c\t0.0221889771\n8016.09c\t0.0460081082\n\nmat f17    -10.2141  burn 1 tmp 769.06 rgb 255 165   0\n92235.09c\t0.000815077056\n92238.09c\t0.0221889771\n8016.09c\t0.0460081082\n\nmat f18    -10.2141  burn 1 tmp 731.0 rgb 255 165   0\n92235.09c\t0.000815077056\n92238.09c\t0.0221889771\n8016.09c\t0.0460081082\n\nmat f19    -10.2141  burn 1 tmp 690.12 rgb 255 165   0\n92235.09c\t0.000815077056\n92238.09c\t0.0221889771\n8016.09c\t0.0460081082\n\nmat f20    -10.2141  burn 1 tmp 657.53 rgb 255 165   0\n92235.09c\t0.000815077056\n92238.09c\t0.0221889771\n8016.09c\t0.0460081082\n\nmat m1    -0.7542 moder ltwr 1001 burn 1  rgb   0   0 255\n1001.06c\t0.66667\n8016.06c\t0.33333\n\nmat m2    -0.75224 moder ltwr 1001 burn 1  rgb   0   0 255\n1001.06c\t0.66667\n8016.06c\t0.33333\n\nmat m3    -0.74954 moder ltwr 1001 burn 1  rgb   0   0 255\n1001.06c\t0.66667\n8016.06c\t0.33333\n\nmat m4    -0.74623 moder ltwr 1001 burn 1  rgb   0   0 255\n1001.06c\t0.66667\n8016.06c\t0.33333\n\nmat m5    -0.74244 moder ltwr 1001 burn 1  rgb   0   0 255\n1001.06c\t0.66667\n8016.06c\t0.33333\n\nmat m6    -0.73828 moder ltwr 1001 burn 1  rgb   0   0 255\n1001.06c\t0.66667\n8016.06c\t0.33333\n\nmat m7    -0.73387 moder ltwr 1001 burn 1  rgb   0   0 255\n1001.06c\t0.66667\n8016.06c\t0.33333\n\nmat m8    -0.72931 moder ltwr 1001 burn 1  rgb   0   0 255\n1001.06c\t0.66667\n8016.06c\t0.33333\n\nmat m9    -0.72471 moder ltwr 1001 burn 1  rgb   0   0 255\n1001.06c\t0.66667\n8016.06c\t0.33333\n\nmat m10    -0.72013 moder ltwr 1001 burn 1  rgb   0   0 255\n1001.06c\t0.66667\n8016.06c\t0.33333\n\nmat m11    -0.71565 moder ltwr 1001 burn 1  rgb   0   0 255\n1001.06c\t0.66667\n8016.06c\t0.33333\n\nmat m12    -0.71136 moder ltwr 1001 burn 1  rgb   0   0 255\n1001.06c\t0.66667\n8016.06c\t0.33333\n\nmat m13    -0.70729 moder ltwr 1001 burn 1  rgb   0   0 255\n1001.06c\t0.66667\n8016.06c\t0.33333\n\nmat m14    -0.70353 moder ltwr 1001 burn 1  rgb   0   0 255\n1001.06c\t0.66667\n8016.06c\t0.33333\n\nmat m15    -0.70013 moder ltwr 1001 burn 1  rgb   0   0 255\n1001.06c\t0.66667\n8016.06c\t0.33333\n\nmat m16    -0.69715 moder ltwr 1001 burn 1  rgb   0   0 255\n1001.06c\t0.66667\n8016.06c\t0.33333\n\nmat m17    -0.69464 moder ltwr 1001 burn 1  rgb   0   0 255\n1001.06c\t0.66667\n8016.06c\t0.33333\n\nmat m18    -0.69265 moder ltwr 1001 burn 1  rgb   0   0 255\n1001.06c\t0.66667\n8016.06c\t0.33333\n\nmat m19    -0.69123 moder ltwr 1001 burn 1  rgb   0   0 255\n1001.06c\t0.66667\n8016.06c\t0.33333\n\nmat m20    -0.69027 moder ltwr 1001 burn 1  rgb   0   0 255\n1001.06c\t0.66667\n8016.06c\t0.33333\n\nmat clad    -6.55  burn 1  rgb 128 128 128\n40090.06c\t0.5145\n40091.06c\t0.1122\n40092.06c\t0.1715\n40094.06c\t0.1738\n40096.06c\t0.028\n\nmat reflector    0.070462  burn 1  rgb 255 192 203\n40090.06c\t0.0059311\n40091.06c\t0.0012934\n40092.06c\t0.001977\n40094.06c\t0.0020035\n40096.06c\t0.00032278\n26054.06c\t0.011217\n26056.06c\t0.17738\n26057.06c\t0.0042545\n26058.06c\t0.00054149\n24050.06c\t0.0024673\n24052.06c\t0.04758\n24053.06c\t0.0053951\n24054.06c\t0.001343\n28058.06c\t0.017122\n28060.06c\t0.0065978\n28061.06c\t0.00028421\n28062.06c\t0.00091398\n28064.06c\t0.0002329\n25055.06c\t0.0056687\n1001.06c\t0.47165\n8016.06c\t0.23583\n\n\n"
     ]
    }
   ],
   "source": [
    "fuelMats = [None]*len(fuelTemps)\n",
    "coolMats = [None]*len(fuelTemps)\n",
    "\n",
    "for i in range(0, len(fuelTemps)):\n",
    "    fuelMats[i] = MATLIB['UO2'].duplicateMat(\"f\"+ str(i+1))\n",
    "    fuelMats[i].set('temp', fuelTemps[i])\n",
    "    coolMats[i] = MATLIB['lightWater'].duplicateMat(\"m\"+ str(i+1))\n",
    "    coolMats[i].set('dens', coolDens[i])\n",
    "    \n",
    "c1 = MATLIB['Zr'].duplicateMat(\"clad\") # Zr cladding\n",
    "r1 = MATLIB['plenum'].duplicateMat(\"reflector\") # reflector plenum\n",
    "matList = mats()\n",
    "matList.addMats(fuelMats)\n",
    "matList.addMats(coolMats)\n",
    "matList.addMat(c1) # Zr cladding\n",
    "matList.addMat(r1) # reflector plenum\n",
    "print(matList.toString())"
   ]
  },
  {
   "cell_type": "markdown",
   "metadata": {},
   "source": [
    "## Generating Individual Channel Axial Layers\n",
    "1. To model an individual channel axial layer we will be using the serpent pin geometry\n",
    "2. Each indivial pin will have its own set of materials\n",
    "3. There will be 4 types of pin models, fuel, guide, gap, and reflector pins\n"
   ]
  },
  {
   "cell_type": "code",
   "execution_count": 4,
   "metadata": {},
   "outputs": [
    {
     "output_type": "stream",
     "name": "stdout",
     "text": [
      "pin F1\nf1\t0.4095\nclad\t0.475\nm1\n\npin F2\nf2\t0.4095\nclad\t0.475\nm2\n\npin F3\nf3\t0.4095\nclad\t0.475\nm3\n\npin F4\nf4\t0.4095\nclad\t0.475\nm4\n\npin F5\nf5\t0.4095\nclad\t0.475\nm5\n\npin F6\nf6\t0.4095\nclad\t0.475\nm6\n\npin F7\nf7\t0.4095\nclad\t0.475\nm7\n\npin F8\nf8\t0.4095\nclad\t0.475\nm8\n\npin F9\nf9\t0.4095\nclad\t0.475\nm9\n\npin F10\nf10\t0.4095\nclad\t0.475\nm10\n\npin F11\nf11\t0.4095\nclad\t0.475\nm11\n\npin F12\nf12\t0.4095\nclad\t0.475\nm12\n\npin F13\nf13\t0.4095\nclad\t0.475\nm13\n\npin F14\nf14\t0.4095\nclad\t0.475\nm14\n\npin F15\nf15\t0.4095\nclad\t0.475\nm15\n\npin F16\nf16\t0.4095\nclad\t0.475\nm16\n\npin F17\nf17\t0.4095\nclad\t0.475\nm17\n\npin F18\nf18\t0.4095\nclad\t0.475\nm18\n\npin F19\nf19\t0.4095\nclad\t0.475\nm19\n\npin F20\nf20\t0.4095\nclad\t0.475\nm20\n\npin G1\nm1\t0.4095\nclad\t0.475\nm1\n\npin G2\nm2\t0.4095\nclad\t0.475\nm2\n\npin G3\nm3\t0.4095\nclad\t0.475\nm3\n\npin G4\nm4\t0.4095\nclad\t0.475\nm4\n\npin G5\nm5\t0.4095\nclad\t0.475\nm5\n\npin G6\nm6\t0.4095\nclad\t0.475\nm6\n\npin G7\nm7\t0.4095\nclad\t0.475\nm7\n\npin G8\nm8\t0.4095\nclad\t0.475\nm8\n\npin G9\nm9\t0.4095\nclad\t0.475\nm9\n\npin G10\nm10\t0.4095\nclad\t0.475\nm10\n\npin G11\nm11\t0.4095\nclad\t0.475\nm11\n\npin G12\nm12\t0.4095\nclad\t0.475\nm12\n\npin G13\nm13\t0.4095\nclad\t0.475\nm13\n\npin G14\nm14\t0.4095\nclad\t0.475\nm14\n\npin G15\nm15\t0.4095\nclad\t0.475\nm15\n\npin G16\nm16\t0.4095\nclad\t0.475\nm16\n\npin G17\nm17\t0.4095\nclad\t0.475\nm17\n\npin G18\nm18\t0.4095\nclad\t0.475\nm18\n\npin G19\nm19\t0.4095\nclad\t0.475\nm19\n\npin G20\nm20\t0.4095\nclad\t0.475\nm20\n\npin GAP1\nm1\n\npin GAP2\nm2\n\npin GAP3\nm3\n\npin GAP4\nm4\n\npin GAP5\nm5\n\npin GAP6\nm6\n\npin GAP7\nm7\n\npin GAP8\nm8\n\npin GAP9\nm9\n\npin GAP10\nm10\n\npin GAP11\nm11\n\npin GAP12\nm12\n\npin GAP13\nm13\n\npin GAP14\nm14\n\npin GAP15\nm15\n\npin GAP16\nm16\n\npin GAP17\nm17\n\npin GAP18\nm18\n\npin GAP19\nm19\n\npin GAP20\nm20\n\npin RT\nreflector\n\npin RB\nreflector\n\n\n"
     ]
    }
   ],
   "source": [
    "pinRadii = np.array([.4095, .4750]) #individual channel layer material region dimensions\n",
    "\n",
    "fuelPins = []\n",
    "guidePins = []\n",
    "gapPins = []\n",
    "\n",
    "for i in range(0, len(fuelMats)):\n",
    "    fuelPins.append(pin(\"F\" +str(i+1), 3))\n",
    "    fuelPins[i].set('materials', np.array([fuelMats[i], c1, coolMats[i]]))\n",
    "    fuelPins[i].set('radii', pinRadii)\n",
    "    \n",
    "    guidePins.append(pin(\"G\" +str(i+1), 3))\n",
    "    guidePins[i].set('materials', np.array([coolMats[i], c1, coolMats[i]]))\n",
    "    guidePins[i].set('radii', pinRadii)\n",
    "    \n",
    "    gapPins.append(pin(\"GAP\" +str(i+1), 1))\n",
    "    gapPins[i].set('materials', np.array([coolMats[i]]))\n",
    "\n",
    "RT = pin(\"RT\", 1) #top reflector\n",
    "RT.set('materials', np.array([r1]))\n",
    "\n",
    "RB = pin(\"RB\", 1) #bottom reflector\n",
    "RB.set('materials', np.array([r1]))\n",
    "\n",
    "pinList = pins()\n",
    "pinList.addPins(fuelPins)\n",
    "pinList.addPins(guidePins)\n",
    "pinList.addPins(gapPins)\n",
    "pinList.addPin(RT)\n",
    "pinList.addPin(RB)\n",
    "\n",
    "print(pinList.toString())"
   ]
  },
  {
   "source": [
    "## Generating Channels\n",
    "1. To model an individual channel we will be using the serpent pinStack lattice\n",
    "2. Each indivial channel will consist of indivial pins (axial layers)\n",
    "3. There will be 3 types of channels fuel channels, guide tubes, and water gaps"
   ],
   "cell_type": "markdown",
   "metadata": {}
  },
  {
   "cell_type": "code",
   "execution_count": 5,
   "metadata": {},
   "outputs": [
    {
     "output_type": "stream",
     "name": "stdout",
     "text": [
      "FC 9 0 0 22\n-20.0\tRT\n0.0\tF1\n18.288\tF2\n36.576\tF3\n54.864\tF4\n73.152\tF5\n91.44\tF6\n109.728\tF7\n128.016\tF8\n146.304\tF9\n164.592\tF10\n182.88\tF11\n201.168\tF12\n219.456\tF13\n237.744\tF14\n256.032\tF15\n274.32\tF16\n292.608\tF17\n310.896\tF18\n329.184\tF19\n347.472\tF20\n365.76\tRB\n\nGT 9 0 0 22\n-20.0\tRT\n0.0\tG1\n18.288\tG2\n36.576\tG3\n54.864\tG4\n73.152\tG5\n91.44\tG6\n109.728\tG7\n128.016\tG8\n146.304\tG9\n164.592\tG10\n182.88\tG11\n201.168\tG12\n219.456\tG13\n237.744\tG14\n256.032\tG15\n274.32\tG16\n292.608\tG17\n310.896\tG18\n329.184\tG19\n347.472\tG20\n365.76\tRB\n\nWG 9 0 0 22\n-20.0\tRT\n0.0\tGAP1\n18.288\tGAP2\n36.576\tGAP3\n54.864\tGAP4\n73.152\tGAP5\n91.44\tGAP6\n109.728\tGAP7\n128.016\tGAP8\n146.304\tGAP9\n164.592\tGAP10\n182.88\tGAP11\n201.168\tGAP12\n219.456\tGAP13\n237.744\tGAP14\n256.032\tGAP15\n274.32\tGAP16\n292.608\tGAP17\n310.896\tGAP18\n329.184\tGAP19\n347.472\tGAP20\n365.76\tRB\n\n\n"
     ]
    }
   ],
   "source": [
    "axialheights = np.array([\n",
    "    -20.000\n",
    "    ,0.000000\n",
    "    ,18.28800\n",
    "    ,36.57600\n",
    "    ,54.86400\n",
    "    ,73.15200\n",
    "    ,91.44000\n",
    "    ,109.7280\n",
    "    ,128.0160\n",
    "    ,146.3040\n",
    "    ,164.5920\n",
    "    ,182.8800\n",
    "    ,201.1680\n",
    "    ,219.4560\n",
    "    ,237.7440\n",
    "    ,256.0320\n",
    "    ,274.3200\n",
    "    ,292.6080\n",
    "    ,310.8960\n",
    "    ,329.1840\n",
    "    ,347.4720\n",
    "    ,365.7600\n",
    "])\n",
    "\n",
    "FCPins = fuelPins.copy()\n",
    "FCPins.append(RB)\n",
    "FCPins.insert(0, RT)\n",
    "FCPins = np.array(FCPins)\n",
    "\n",
    "GTPins = guidePins.copy()\n",
    "GTPins.append(RB)\n",
    "GTPins.insert(0, RT)\n",
    "GTPins = np.array(GTPins)\n",
    "\n",
    "WGPins = gapPins.copy()\n",
    "WGPins.append(RB)\n",
    "WGPins.insert(0, RT)\n",
    "WGPins = np.array(WGPins)\n",
    "\n",
    "FC = pinStack(\"FC\", 0, 0, 22)\n",
    "FC.setStack(FCPins, axialheights)\n",
    "\n",
    "GT = pinStack(\"GT\", 0, 0, 22)\n",
    "GT.setStack(GTPins, axialheights)\n",
    "\n",
    "WG = pinStack(\"WG\", 0, 0, 22)\n",
    "WG.setStack(WGPins, axialheights)\n",
    "\n",
    "latList = lats()\n",
    "latList.addLats([FC, GT, WG])\n",
    "\n",
    "print(latList.toString())"
   ]
  },
  {
   "source": [
    "## Generating Assembly Layout\n",
    "1. To model the fuel assembly we will be using a sqaure lattice (19 x 19).\n",
    "2. The assembly will consist of our generated fuel, guide tube, and water gap channels."
   ],
   "cell_type": "markdown",
   "metadata": {}
  },
  {
   "cell_type": "code",
   "execution_count": 6,
   "metadata": {},
   "outputs": [
    {
     "output_type": "stream",
     "name": "stdout",
     "text": [
      "FA 0 0  19 1.26\nWG WG WG WG WG WG WG WG WG WG WG WG WG WG WG WG WG WG WG \nWG FC FC FC FC FC FC FC FC FC FC FC FC FC FC FC FC FC WG \nWG FC FC FC FC FC FC FC FC FC FC FC FC FC FC FC FC FC WG \nWG FC FC FC FC FC GT FC FC GT FC FC GT FC FC FC FC FC WG \nWG FC FC FC GT FC FC FC FC FC FC FC FC FC GT FC FC FC WG \nWG FC FC FC FC FC FC FC FC FC FC FC FC FC FC FC FC FC WG \nWG FC FC GT FC FC GT FC FC GT FC FC GT FC FC GT FC FC WG \nWG FC FC FC FC FC FC FC FC FC FC FC FC FC FC FC FC FC WG \nWG FC FC FC FC FC FC FC FC FC FC FC FC FC FC FC FC FC WG \nWG FC FC GT FC FC GT FC FC GT FC FC GT FC FC GT FC FC WG \nWG FC FC FC FC FC FC FC FC FC FC FC FC FC FC FC FC FC WG \nWG FC FC FC FC FC FC FC FC FC FC FC FC FC FC FC FC FC WG \nWG FC FC GT FC FC GT FC FC GT FC FC GT FC FC GT FC FC WG \nWG FC FC FC FC FC FC FC FC FC FC FC FC FC FC FC FC FC WG \nWG FC FC FC GT FC FC FC FC FC FC FC FC FC GT FC FC FC WG \nWG FC FC FC FC FC GT FC FC GT FC FC GT FC FC FC FC FC WG \nWG FC FC FC FC FC FC FC FC FC FC FC FC FC FC FC FC FC WG \nWG FC FC FC FC FC FC FC FC FC FC FC FC FC FC FC FC FC WG \nWG WG WG WG WG WG WG WG WG WG WG WG WG WG WG WG WG WG WG \n\n\n"
     ]
    }
   ],
   "source": [
    "FA = sqLat(\"FA\", 0, 0, 19, 1.260)\n",
    "\n",
    "FAMap = np.array([\n",
    "    [WG, WG, WG, WG, WG, WG, WG, WG, WG, WG, WG, WG, WG, WG, WG, WG, WG, WG, WG],\n",
    "    [WG, FC, FC, FC, FC, FC, FC, FC, FC, FC, FC, FC, FC, FC, FC, FC, FC, FC, WG],\n",
    "    [WG, FC, FC, FC, FC, FC, FC, FC, FC, FC, FC, FC, FC, FC, FC, FC, FC, FC, WG],\n",
    "    [WG, FC, FC, FC, FC, FC, GT, FC, FC, GT, FC, FC, GT, FC, FC, FC, FC, FC, WG],\n",
    "    [WG, FC, FC, FC, GT, FC, FC, FC, FC, FC, FC, FC, FC, FC, GT, FC, FC, FC, WG],\n",
    "    [WG, FC, FC, FC, FC, FC, FC, FC, FC, FC, FC, FC, FC, FC, FC, FC, FC, FC, WG],\n",
    "    [WG, FC, FC, GT, FC, FC, GT, FC, FC, GT, FC, FC, GT, FC, FC, GT, FC, FC, WG],\n",
    "    [WG, FC, FC, FC, FC, FC, FC, FC, FC, FC, FC, FC, FC, FC, FC, FC, FC, FC, WG],\n",
    "    [WG, FC, FC, FC, FC, FC, FC, FC, FC, FC, FC, FC, FC, FC, FC, FC, FC, FC, WG],\n",
    "    [WG, FC, FC, GT, FC, FC, GT, FC, FC, GT, FC, FC, GT, FC, FC, GT, FC, FC, WG],\n",
    "    [WG, FC, FC, FC, FC, FC, FC, FC, FC, FC, FC, FC, FC, FC, FC, FC, FC, FC, WG],\n",
    "    [WG, FC, FC, FC, FC, FC, FC, FC, FC, FC, FC, FC, FC, FC, FC, FC, FC, FC, WG],\n",
    "    [WG, FC, FC, GT, FC, FC, GT, FC, FC, GT, FC, FC, GT, FC, FC, GT, FC, FC, WG],\n",
    "    [WG, FC, FC, FC, FC, FC, FC, FC, FC, FC, FC, FC, FC, FC, FC, FC, FC, FC, WG],\n",
    "    [WG, FC, FC, FC, GT, FC, FC, FC, FC, FC, FC, FC, FC, FC, GT, FC, FC, FC, WG],\n",
    "    [WG, FC, FC, FC, FC, FC, GT, FC, FC, GT, FC, FC, GT, FC, FC, FC, FC, FC, WG],\n",
    "    [WG, FC, FC, FC, FC, FC, FC, FC, FC, FC, FC, FC, FC, FC, FC, FC, FC, FC, WG],\n",
    "    [WG, FC, FC, FC, FC, FC, FC, FC, FC, FC, FC, FC, FC, FC, FC, FC, FC, FC, WG],\n",
    "    [WG, WG, WG, WG, WG, WG, WG, WG, WG, WG, WG, WG, WG, WG, WG, WG, WG, WG, WG],\n",
    "])\n",
    "\n",
    "FA.setMap(FAMap)\n",
    "print(FA.toString())"
   ]
  },
  {
   "source": [
    "## Generating Assembly Border\n",
    "1. To surrounding surface which encloses the assembly will be modeled using the serpent surface definition\n",
    "2. Our surrounding surface will be a cuboid enclosing the fuel assembly + surrounding water"
   ],
   "cell_type": "markdown",
   "metadata": {}
  },
  {
   "cell_type": "code",
   "execution_count": 7,
   "metadata": {},
   "outputs": [
    {
     "output_type": "stream",
     "name": "stdout",
     "text": [
      "surf border cuboid -10.75 10.75 -10.75 10.75 -20.0 385.76 \n\n"
     ]
    }
   ],
   "source": [
    "width = 10.75 #assembly width\n",
    "bHeight = -20 #bottom of assembly\n",
    "tHeight = 385.76 #top of assembly\n",
    "border = surf(\"border\", \"cuboid\", np.array([-width, width, -width, width, bHeight, tHeight]))\n",
    "print(border.toString())"
   ]
  },
  {
   "source": [
    "## Putting it all together\n",
    "1. The core/assembly layout (main lattice) must be given.\n",
    "2. The channels must be given (pinStack objs)\n",
    "3. The channels axial layers must be given. (pin objs)\n",
    "4. The materials must be given.\n",
    "5. The border surface must be given.\n",
    "6. The optional flags parameter can be set for additional settings"
   ],
   "cell_type": "markdown",
   "metadata": {}
  },
  {
   "cell_type": "code",
   "execution_count": 8,
   "metadata": {},
   "outputs": [
    {
     "output_type": "error",
     "ename": "AttributeError",
     "evalue": "'list' object has no attribute 'toString'",
     "traceback": [
      "\u001b[1;31m---------------------------------------------------------------------------\u001b[0m",
      "\u001b[1;31mAttributeError\u001b[0m                            Traceback (most recent call last)",
      "\u001b[1;32m<ipython-input-8-c26950de946b>\u001b[0m in \u001b[0;36m<module>\u001b[1;34m\u001b[0m\n\u001b[0;32m      1\u001b[0m \u001b[0minput\u001b[0m \u001b[1;33m=\u001b[0m \u001b[0minputCollector\u001b[0m\u001b[1;33m(\u001b[0m\u001b[0mFA\u001b[0m\u001b[1;33m,\u001b[0m \u001b[0mlatList\u001b[0m\u001b[1;33m,\u001b[0m \u001b[0mpinList\u001b[0m\u001b[1;33m,\u001b[0m \u001b[0mmatList\u001b[0m\u001b[1;33m,\u001b[0m \u001b[0mborder\u001b[0m\u001b[1;33m)\u001b[0m\u001b[1;33m\u001b[0m\u001b[1;33m\u001b[0m\u001b[0m\n\u001b[1;32m----> 2\u001b[1;33m \u001b[0mprint\u001b[0m\u001b[1;33m(\u001b[0m\u001b[0minput\u001b[0m\u001b[1;33m.\u001b[0m\u001b[0mtoString\u001b[0m\u001b[1;33m(\u001b[0m\u001b[1;33m)\u001b[0m\u001b[1;33m)\u001b[0m\u001b[1;33m\u001b[0m\u001b[1;33m\u001b[0m\u001b[0m\n\u001b[0m",
      "\u001b[1;32mc:\\Users\\user\\Documents\\GitHub\\SERPENT-INPUT-GENERATOR\\serpentGenerator\\functions\\inputCollector.py\u001b[0m in \u001b[0;36mtoString\u001b[1;34m(self)\u001b[0m\n\u001b[0;32m     84\u001b[0m         \u001b[1;32mfor\u001b[0m \u001b[0mkey\u001b[0m \u001b[1;32min\u001b[0m \u001b[0mself\u001b[0m\u001b[1;33m.\u001b[0m\u001b[0minput\u001b[0m\u001b[1;33m:\u001b[0m\u001b[1;33m\u001b[0m\u001b[1;33m\u001b[0m\u001b[0m\n\u001b[0;32m     85\u001b[0m             \u001b[1;32mif\u001b[0m \u001b[0mself\u001b[0m\u001b[1;33m.\u001b[0m\u001b[0minput\u001b[0m\u001b[1;33m[\u001b[0m\u001b[0mkey\u001b[0m\u001b[1;33m]\u001b[0m \u001b[1;33m!=\u001b[0m \u001b[1;32mNone\u001b[0m\u001b[1;33m:\u001b[0m\u001b[1;33m\u001b[0m\u001b[1;33m\u001b[0m\u001b[0m\n\u001b[1;32m---> 86\u001b[1;33m                 \u001b[0minputString\u001b[0m \u001b[1;33m=\u001b[0m \u001b[0minputString\u001b[0m \u001b[1;33m+\u001b[0m \u001b[0mself\u001b[0m\u001b[1;33m.\u001b[0m\u001b[0minput\u001b[0m\u001b[1;33m[\u001b[0m\u001b[0mkey\u001b[0m\u001b[1;33m]\u001b[0m\u001b[1;33m.\u001b[0m\u001b[0mtoString\u001b[0m\u001b[1;33m(\u001b[0m\u001b[1;33m)\u001b[0m\u001b[1;33m\u001b[0m\u001b[1;33m\u001b[0m\u001b[0m\n\u001b[0m\u001b[0;32m     87\u001b[0m         \u001b[1;32mreturn\u001b[0m \u001b[0minputString\u001b[0m\u001b[1;33m\u001b[0m\u001b[1;33m\u001b[0m\u001b[0m\n",
      "\u001b[1;31mAttributeError\u001b[0m: 'list' object has no attribute 'toString'"
     ]
    }
   ],
   "source": [
    "input = inputCollector(FA, latList, pinList, matList, border)\n",
    "print(input.toString())"
   ]
  },
  {
   "cell_type": "code",
   "execution_count": null,
   "metadata": {},
   "outputs": [],
   "source": []
  }
 ],
 "metadata": {
  "interpreter": {
   "hash": "5f292722d6d50c2426abae6fd15a85386b49c5393ec98f1c35f79e4e4dd7448b"
  },
  "kernelspec": {
   "name": "python3",
   "display_name": "Python 3.7.4 64-bit ('base': conda)"
  },
  "language_info": {
   "codemirror_mode": {
    "name": "ipython",
    "version": 3
   },
   "file_extension": ".py",
   "mimetype": "text/x-python",
   "name": "python",
   "nbconvert_exporter": "python",
   "pygments_lexer": "ipython3",
   "version": "3.7.4"
  }
 },
 "nbformat": 4,
 "nbformat_minor": 2
}