{
 "cells": [
  {
   "cell_type": "code",
   "execution_count": 80,
   "id": "c3e7d15d",
   "metadata": {},
   "outputs": [],
   "source": [
    "from mendeleev import Zr, Sn, Fe, Cr, B, C"
   ]
  },
  {
   "cell_type": "code",
   "execution_count": 79,
   "id": "cfdb49fc",
   "metadata": {},
   "outputs": [
    {
     "data": {
      "text/plain": [
       "[<Isotope(Z=5, A=10, mass=10.012937, abundance=0.204)>,\n",
       " <Isotope(Z=5, A=11, mass=11.009305, abundance=0.7959999999999999)>]"
      ]
     },
     "execution_count": 79,
     "metadata": {},
     "output_type": "execute_result"
    }
   ],
   "source": [
    "B.isotopes"
   ]
  },
  {
   "cell_type": "code",
   "execution_count": 81,
   "id": "39340726",
   "metadata": {},
   "outputs": [
    {
     "data": {
      "text/plain": [
       "[<Isotope(Z=6, A=12, mass=12.0, abundance=0.9884)>,\n",
       " <Isotope(Z=6, A=13, mass=13.003354835, abundance=0.0116)>,\n",
       " <Isotope(Z=6, A=14, mass=None, abundance=None)>]"
      ]
     },
     "execution_count": 81,
     "metadata": {},
     "output_type": "execute_result"
    }
   ],
   "source": [
    "C.isotopes"
   ]
  },
  {
   "cell_type": "code",
   "execution_count": 63,
   "id": "d6b7bcfd",
   "metadata": {},
   "outputs": [],
   "source": [
    "xs = \".80c\""
   ]
  },
  {
   "cell_type": "code",
   "execution_count": 76,
   "id": "2b097458",
   "metadata": {},
   "outputs": [
    {
     "data": {
      "text/plain": [
       "[<Isotope(Z=40, A=90, mass=89.9047, abundance=0.5145)>,\n",
       " <Isotope(Z=40, A=91, mass=90.90564, abundance=0.1122)>,\n",
       " <Isotope(Z=40, A=92, mass=91.90503, abundance=0.1715)>,\n",
       " <Isotope(Z=40, A=94, mass=93.90631, abundance=0.1738)>,\n",
       " <Isotope(Z=40, A=96, mass=95.90827, abundance=0.028)>]"
      ]
     },
     "execution_count": 76,
     "metadata": {},
     "output_type": "execute_result"
    }
   ],
   "source": [
    "Zr.isotopes"
   ]
  },
  {
   "cell_type": "code",
   "execution_count": 36,
   "id": "738832f8",
   "metadata": {},
   "outputs": [
    {
     "data": {
      "text/plain": [
       "[<Isotope(Z=26, A=54, mass=53.939609, abundance=0.05845)>,\n",
       " <Isotope(Z=26, A=56, mass=55.934936, abundance=0.9175399999999999)>,\n",
       " <Isotope(Z=26, A=57, mass=56.935393, abundance=0.02119)>,\n",
       " <Isotope(Z=26, A=58, mass=57.933274, abundance=0.00282)>]"
      ]
     },
     "execution_count": 36,
     "metadata": {},
     "output_type": "execute_result"
    }
   ],
   "source": [
    "Fe.isotopes"
   ]
  },
  {
   "cell_type": "code",
   "execution_count": 11,
   "id": "5bd3c386",
   "metadata": {},
   "outputs": [
    {
     "data": {
      "text/plain": [
       "[<Isotope(Z=50, A=112, mass=111.904824, abundance=0.0097)>,\n",
       " <Isotope(Z=50, A=114, mass=113.902783, abundance=0.0066)>,\n",
       " <Isotope(Z=50, A=115, mass=114.9033447, abundance=0.0034)>,\n",
       " <Isotope(Z=50, A=116, mass=115.901743, abundance=0.1454)>,\n",
       " <Isotope(Z=50, A=117, mass=116.902954, abundance=0.0768)>,\n",
       " <Isotope(Z=50, A=118, mass=117.901607, abundance=0.2422)>,\n",
       " <Isotope(Z=50, A=119, mass=118.903311, abundance=0.0859)>,\n",
       " <Isotope(Z=50, A=120, mass=119.902202, abundance=0.3258)>,\n",
       " <Isotope(Z=50, A=122, mass=121.90344, abundance=0.0463)>,\n",
       " <Isotope(Z=50, A=124, mass=123.905277, abundance=0.0579)>]"
      ]
     },
     "execution_count": 11,
     "metadata": {},
     "output_type": "execute_result"
    }
   ],
   "source": [
    "Sn.isotopes"
   ]
  },
  {
   "cell_type": "code",
   "execution_count": 12,
   "id": "4498a406",
   "metadata": {},
   "outputs": [
    {
     "data": {
      "text/plain": [
       "[<Isotope(Z=24, A=50, mass=49.946042, abundance=0.04345)>,\n",
       " <Isotope(Z=24, A=52, mass=51.940506, abundance=0.8378899999999999)>,\n",
       " <Isotope(Z=24, A=53, mass=52.940648, abundance=0.09501)>,\n",
       " <Isotope(Z=24, A=54, mass=53.938879, abundance=0.02365)>]"
      ]
     },
     "execution_count": 12,
     "metadata": {},
     "output_type": "execute_result"
    }
   ],
   "source": [
    "Cr.isotopes"
   ]
  },
  {
   "cell_type": "code",
   "execution_count": 77,
   "id": "95404e1a",
   "metadata": {},
   "outputs": [
    {
     "name": "stdout",
     "output_type": "stream",
     "text": [
      "40090.80c -0.505239 40091.80c -0.1101804 40092.80c -0.168413 40094.80c -0.1706716 40096.80c -0.027496 50112.80c -0.00014549999999999999 50114.80c -9.9e-05 50115.80c -5.099999999999999e-05 50116.80c -0.0021809999999999998 50117.80c -0.0011519999999999998 50118.80c -0.003633 50119.80c -0.0012885 50120.80c -0.004887 50122.80c -0.0006945 50124.80c -0.0008685 26054.80c -0.00011690000000000001 26056.80c -0.0018350799999999998 26057.80c -4.2380000000000004e-05 26058.80c -5.64e-06 24050.80c -4.3450000000000006e-05 24052.80c -0.0008378899999999999 24053.80c -9.501e-05 24054.80c -2.3650000000000002e-05 \n"
     ]
    }
   ],
   "source": [
    "SnWt = .015\n",
    "CrWt = .001\n",
    "FeWt = .002\n",
    "ZrWt = 1 - SnWt - CrWt - FeWt\n",
    "\n",
    "count = 0\n",
    "table1 = [0]*(len(ZrMassFracs)+len(FeMassFracs)+len(SnMassFracs)+len(CrMassFracs))\n",
    "table2 = [0]*(len(ZrMassFracs)+len(FeMassFracs)+len(SnMassFracs)+len(CrMassFracs))\n",
    "\n",
    "for i in range(0, len(Zr.isotopes)):\n",
    "    table2[count] = -1*Zr.isotopes[i].abundance*ZrWt\n",
    "    table1[count] = str(Zr.isotopes[i].atomic_number*1000 + Zr.isotopes[i].mass_number)+xs\n",
    "    count = count + 1 \n",
    "    \n",
    "\n",
    "for i in range(0, len(Sn.isotopes)):\n",
    "    table2[count]  = -1*Sn.isotopes[i].abundance*SnWt\n",
    "    table1[count] = str(Sn.isotopes[i].atomic_number*1000 + Sn.isotopes[i].mass_number)+xs\n",
    "    count = count + 1 \n",
    "\n",
    "\n",
    "\n",
    "for i in range(0, len(Fe.isotopes)):\n",
    "    table2[count]  = -1*Fe.isotopes[i].abundance*FeWt\n",
    "    table1[count] = str(Fe.isotopes[i].atomic_number*1000 + Fe.isotopes[i].mass_number)+xs\n",
    "    count = count + 1 \n",
    "\n",
    "for i in range(0, len(Cr.isotopes)):\n",
    "    table2[count]  = -1*Cr.isotopes[i].abundance*CrWt\n",
    "    table1[count] = str(Cr.isotopes[i].atomic_number*1000 + Cr.isotopes[i].mass_number)+xs\n",
    "    count = count + 1 \n",
    "\n",
    "\n",
    "mcnpStr = \"\"\n",
    "for i in range(0, len(table1)):\n",
    "    mcnpStr = mcnpStr + table1[i] + \" \" +str(table2[i]) + \" \"\n",
    "\n",
    "print(mcnpStr)"
   ]
  },
  {
   "cell_type": "code",
   "execution_count": null,
   "id": "46b2e8a7",
   "metadata": {},
   "outputs": [],
   "source": []
  }
 ],
 "metadata": {
  "kernelspec": {
   "display_name": "Python 3",
   "language": "python",
   "name": "python3"
  },
  "language_info": {
   "codemirror_mode": {
    "name": "ipython",
    "version": 3
   },
   "file_extension": ".py",
   "mimetype": "text/x-python",
   "name": "python",
   "nbconvert_exporter": "python",
   "pygments_lexer": "ipython3",
   "version": "3.8.8"
  }
 },
 "nbformat": 4,
 "nbformat_minor": 5
}
