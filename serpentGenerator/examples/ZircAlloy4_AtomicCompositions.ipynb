{
 "cells": [
  {
   "cell_type": "code",
   "execution_count": 6,
   "id": "c3e7d15d",
   "metadata": {},
   "outputs": [],
   "source": [
    "from mendeleev import Zr, Sn, Fe, Cr, B, C, Cu, Pb"
   ]
  },
  {
   "cell_type": "code",
   "execution_count": 7,
   "id": "cfdb49fc",
   "metadata": {},
   "outputs": [
    {
     "data": {
      "text/plain": [
       "Element(\n",
       "\tabundance_crust=10.0,\n",
       " \tabundance_sea=4.44,\n",
       " \tannotation='',\n",
       " \tatomic_number=5,\n",
       " \tatomic_radius=85.0,\n",
       " \tatomic_radius_rahm=204.99999999999997,\n",
       " \tatomic_volume=4.6,\n",
       " \tatomic_weight=10.81,\n",
       " \tatomic_weight_uncertainty=None,\n",
       " \tblock='p',\n",
       " \tboiling_point=3931.0,\n",
       " \tc6=99.5,\n",
       " \tc6_gb=99.2,\n",
       " \tcas='7440-42-8',\n",
       " \tcovalent_radius_bragg=None,\n",
       " \tcovalent_radius_cordero=84.0,\n",
       " \tcovalent_radius_pyykko=85.0,\n",
       " \tcovalent_radius_pyykko_double=78.0,\n",
       " \tcovalent_radius_pyykko_triple=73.0,\n",
       " \tcpk_color='#00ff00',\n",
       " \tdensity=2.34,\n",
       " \tdescription=\"An element of group 13 of the periodic table. There are two allotropes, amorphous boron is a brown power, but metallic boron is black. The metallic form is hard (9.3 on Mohs' scale) and a bad conductor in room temperatures. It is never found free in nature. Boron-10 is used in nuclear reactor control rods and shields. It was discovered in 1808 by Sir Humphry Davy and by J.L. Gay-Lussac and L.J. Thenard.\",\n",
       " \tdipole_polarizability=20.5,\n",
       " \tdipole_polarizability_unc=0.1,\n",
       " \tdiscoverers='Sir H. Davy, J.L. Gay-Lussac, L.J. Thénard',\n",
       " \tdiscovery_location='England/France',\n",
       " \tdiscovery_year=1808,\n",
       " \tec=<ElectronicConfiguration(conf=\"1s2 2s2 2p1\")>,\n",
       " \teconf='[He] 2s2 2p',\n",
       " \telectron_affinity=0.279723,\n",
       " \ten_allen=12.13,\n",
       " \ten_ghosh=0.184886,\n",
       " \ten_pauling=2.04,\n",
       " \tevaporation_heat=504.5,\n",
       " \tfusion_heat=23.6,\n",
       " \tgas_basicity=None,\n",
       " \tgeochemical_class=None,\n",
       " \tglawe_number=86,\n",
       " \tgoldschmidt_class='litophile',\n",
       " \tgroup=<Group(symbol=IIIA, name=Boron group)>,\n",
       " \tgroup_id=13,\n",
       " \theat_of_formation=565.0,\n",
       " \tionic_radii=[IonicRadius(\n",
       "\tatomic_number=5,\n",
       " \tcharge=3,\n",
       " \tcoordination='III',\n",
       " \tcrystal_radius=15.0,\n",
       " \teconf='1s2',\n",
       " \tid=31,\n",
       " \tionic_radius=1.0,\n",
       " \tmost_reliable=True,\n",
       " \torigin='',\n",
       " \tspin='',\n",
       "), IonicRadius(\n",
       "\tatomic_number=5,\n",
       " \tcharge=3,\n",
       " \tcoordination='IV',\n",
       " \tcrystal_radius=25.0,\n",
       " \teconf='1s2',\n",
       " \tid=32,\n",
       " \tionic_radius=11.0,\n",
       " \tmost_reliable=True,\n",
       " \torigin='',\n",
       " \tspin='',\n",
       "), IonicRadius(\n",
       "\tatomic_number=5,\n",
       " \tcharge=3,\n",
       " \tcoordination='VI',\n",
       " \tcrystal_radius=41.0,\n",
       " \teconf='1s2',\n",
       " \tid=33,\n",
       " \tionic_radius=27.0,\n",
       " \tmost_reliable=False,\n",
       " \torigin='calculated, ',\n",
       " \tspin='',\n",
       ")],\n",
       " \tis_monoisotopic=None,\n",
       " \tis_radioactive=False,\n",
       " \tisotopes=[<Isotope(Z=5, A=10, mass=10.012937, abundance=0.204)>, <Isotope(Z=5, A=11, mass=11.009305, abundance=0.7959999999999999)>],\n",
       " \tjmol_color='#ffb5b5',\n",
       " \tlattice_constant=8.73,\n",
       " \tlattice_structure='TET',\n",
       " \tmelting_point=2573.0,\n",
       " \tmendeleev_number=81,\n",
       " \tmetallic_radius=80.0,\n",
       " \tmetallic_radius_c12=98.0,\n",
       " \tmolcas_gv_color='#ffb5b5',\n",
       " \tname='Boron',\n",
       " \tname_origin='From Arabic and Persian words for borax.',\n",
       " \tperiod=2,\n",
       " \tpettifor_number=86,\n",
       " \tproton_affinity=None,\n",
       " \tscreening_constants=[<ScreeningConstant(Z=   5, n=  1, s=s, screening=    0.3205)>, <ScreeningConstant(Z=   5, n=  2, s=p, screening=    2.5786)>, <ScreeningConstant(Z=   5, n=  2, s=s, screening=    2.4238)>],\n",
       " \tsources='Obtained from kernite, a kind of borax (Na2B4O7.10H2O). High purity boron is produced by electrolysis of molten potassium fluroborate and potassium chloride (KCl).',\n",
       " \tspecific_heat=1.025,\n",
       " \tsymbol='B',\n",
       " \tthermal_conductivity=27.4,\n",
       " \tuses='Used with titanium & tungsten to make heat resistant alloys for jets & rockets.',\n",
       " \tvdw_radius=192.0,\n",
       " \tvdw_radius_alvarez=191.0,\n",
       " \tvdw_radius_batsanov=180.0,\n",
       " \tvdw_radius_bondi=None,\n",
       " \tvdw_radius_dreiding=401.99999999999994,\n",
       " \tvdw_radius_mm3=215.0,\n",
       " \tvdw_radius_rt=None,\n",
       " \tvdw_radius_truhlar=192.0,\n",
       " \tvdw_radius_uff=408.3,\n",
       ")"
      ]
     },
     "execution_count": 7,
     "metadata": {},
     "output_type": "execute_result"
    }
   ],
   "source": [
    "B"
   ]
  },
  {
   "cell_type": "code",
   "execution_count": 8,
   "id": "fbb985cc",
   "metadata": {},
   "outputs": [
    {
     "data": {
      "text/plain": [
       "[<Isotope(Z=5, A=10, mass=10.012937, abundance=0.204)>,\n",
       " <Isotope(Z=5, A=11, mass=11.009305, abundance=0.7959999999999999)>]"
      ]
     },
     "execution_count": 8,
     "metadata": {},
     "output_type": "execute_result"
    }
   ],
   "source": [
    "B.isotopes"
   ]
  },
  {
   "cell_type": "code",
   "execution_count": 9,
   "id": "e0458b3a",
   "metadata": {},
   "outputs": [
    {
     "name": "stdout",
     "output_type": "stream",
     "text": [
      "0.7959999999999999\n",
      "5\n"
     ]
    }
   ],
   "source": [
    "print(B.isotopes[1].abundance)\n",
    "print(B.isotopes[1].atomic_number)"
   ]
  },
  {
   "cell_type": "code",
   "execution_count": 13,
   "id": "9fc31b75",
   "metadata": {},
   "outputs": [
    {
     "data": {
      "text/plain": [
       "[<Isotope(Z=82, A=204, mass=203.973044, abundance=0.013999999999999999)>,\n",
       " <Isotope(Z=82, A=206, mass=205.974466, abundance=0.24100000000000002)>,\n",
       " <Isotope(Z=82, A=207, mass=206.975897, abundance=0.221)>,\n",
       " <Isotope(Z=82, A=208, mass=207.976653, abundance=0.524)>]"
      ]
     },
     "execution_count": 13,
     "metadata": {},
     "output_type": "execute_result"
    }
   ],
   "source": [
    "Pb.isotopes"
   ]
  },
  {
   "cell_type": "code",
   "execution_count": 5,
   "id": "112d5be0",
   "metadata": {},
   "outputs": [
    {
     "data": {
      "text/plain": [
       "[<Isotope(Z=29, A=63, mass=62.929598, abundance=0.6915)>,\n",
       " <Isotope(Z=29, A=65, mass=64.92779, abundance=0.3085)>]"
      ]
     },
     "execution_count": 5,
     "metadata": {},
     "output_type": "execute_result"
    }
   ],
   "source": [
    "Cu.isotopes"
   ]
  },
  {
   "cell_type": "code",
   "execution_count": null,
   "id": "029845f5",
   "metadata": {},
   "outputs": [],
   "source": [
    "materials"
   ]
  },
  {
   "cell_type": "code",
   "execution_count": 81,
   "id": "39340726",
   "metadata": {},
   "outputs": [
    {
     "data": {
      "text/plain": [
       "[<Isotope(Z=6, A=12, mass=12.0, abundance=0.9884)>,\n",
       " <Isotope(Z=6, A=13, mass=13.003354835, abundance=0.0116)>,\n",
       " <Isotope(Z=6, A=14, mass=None, abundance=None)>]"
      ]
     },
     "execution_count": 81,
     "metadata": {},
     "output_type": "execute_result"
    }
   ],
   "source": [
    "C.isotopes"
   ]
  },
  {
   "cell_type": "code",
   "execution_count": 63,
   "id": "d6b7bcfd",
   "metadata": {},
   "outputs": [],
   "source": [
    "xs = \".80c\""
   ]
  },
  {
   "cell_type": "code",
   "execution_count": 76,
   "id": "2b097458",
   "metadata": {},
   "outputs": [
    {
     "data": {
      "text/plain": [
       "[<Isotope(Z=40, A=90, mass=89.9047, abundance=0.5145)>,\n",
       " <Isotope(Z=40, A=91, mass=90.90564, abundance=0.1122)>,\n",
       " <Isotope(Z=40, A=92, mass=91.90503, abundance=0.1715)>,\n",
       " <Isotope(Z=40, A=94, mass=93.90631, abundance=0.1738)>,\n",
       " <Isotope(Z=40, A=96, mass=95.90827, abundance=0.028)>]"
      ]
     },
     "execution_count": 76,
     "metadata": {},
     "output_type": "execute_result"
    }
   ],
   "source": [
    "Zr.isotopes"
   ]
  },
  {
   "cell_type": "code",
   "execution_count": 36,
   "id": "738832f8",
   "metadata": {},
   "outputs": [
    {
     "data": {
      "text/plain": [
       "[<Isotope(Z=26, A=54, mass=53.939609, abundance=0.05845)>,\n",
       " <Isotope(Z=26, A=56, mass=55.934936, abundance=0.9175399999999999)>,\n",
       " <Isotope(Z=26, A=57, mass=56.935393, abundance=0.02119)>,\n",
       " <Isotope(Z=26, A=58, mass=57.933274, abundance=0.00282)>]"
      ]
     },
     "execution_count": 36,
     "metadata": {},
     "output_type": "execute_result"
    }
   ],
   "source": [
    "Fe.isotopes"
   ]
  },
  {
   "cell_type": "code",
   "execution_count": 11,
   "id": "5bd3c386",
   "metadata": {},
   "outputs": [
    {
     "data": {
      "text/plain": [
       "[<Isotope(Z=50, A=112, mass=111.904824, abundance=0.0097)>,\n",
       " <Isotope(Z=50, A=114, mass=113.902783, abundance=0.0066)>,\n",
       " <Isotope(Z=50, A=115, mass=114.9033447, abundance=0.0034)>,\n",
       " <Isotope(Z=50, A=116, mass=115.901743, abundance=0.1454)>,\n",
       " <Isotope(Z=50, A=117, mass=116.902954, abundance=0.0768)>,\n",
       " <Isotope(Z=50, A=118, mass=117.901607, abundance=0.2422)>,\n",
       " <Isotope(Z=50, A=119, mass=118.903311, abundance=0.0859)>,\n",
       " <Isotope(Z=50, A=120, mass=119.902202, abundance=0.3258)>,\n",
       " <Isotope(Z=50, A=122, mass=121.90344, abundance=0.0463)>,\n",
       " <Isotope(Z=50, A=124, mass=123.905277, abundance=0.0579)>]"
      ]
     },
     "execution_count": 11,
     "metadata": {},
     "output_type": "execute_result"
    }
   ],
   "source": [
    "Sn.isotopes"
   ]
  },
  {
   "cell_type": "code",
   "execution_count": 12,
   "id": "4498a406",
   "metadata": {},
   "outputs": [
    {
     "data": {
      "text/plain": [
       "[<Isotope(Z=24, A=50, mass=49.946042, abundance=0.04345)>,\n",
       " <Isotope(Z=24, A=52, mass=51.940506, abundance=0.8378899999999999)>,\n",
       " <Isotope(Z=24, A=53, mass=52.940648, abundance=0.09501)>,\n",
       " <Isotope(Z=24, A=54, mass=53.938879, abundance=0.02365)>]"
      ]
     },
     "execution_count": 12,
     "metadata": {},
     "output_type": "execute_result"
    }
   ],
   "source": [
    "Cr.isotopes"
   ]
  },
  {
   "cell_type": "code",
   "execution_count": 77,
   "id": "95404e1a",
   "metadata": {},
   "outputs": [
    {
     "name": "stdout",
     "output_type": "stream",
     "text": [
      "40090.80c -0.505239 40091.80c -0.1101804 40092.80c -0.168413 40094.80c -0.1706716 40096.80c -0.027496 50112.80c -0.00014549999999999999 50114.80c -9.9e-05 50115.80c -5.099999999999999e-05 50116.80c -0.0021809999999999998 50117.80c -0.0011519999999999998 50118.80c -0.003633 50119.80c -0.0012885 50120.80c -0.004887 50122.80c -0.0006945 50124.80c -0.0008685 26054.80c -0.00011690000000000001 26056.80c -0.0018350799999999998 26057.80c -4.2380000000000004e-05 26058.80c -5.64e-06 24050.80c -4.3450000000000006e-05 24052.80c -0.0008378899999999999 24053.80c -9.501e-05 24054.80c -2.3650000000000002e-05 \n"
     ]
    }
   ],
   "source": [
    "SnWt = .015\n",
    "CrWt = .001\n",
    "FeWt = .002\n",
    "ZrWt = 1 - SnWt - CrWt - FeWt\n",
    "\n",
    "count = 0\n",
    "table1 = [0]*(len(ZrMassFracs)+len(FeMassFracs)+len(SnMassFracs)+len(CrMassFracs))\n",
    "table2 = [0]*(len(ZrMassFracs)+len(FeMassFracs)+len(SnMassFracs)+len(CrMassFracs))\n",
    "\n",
    "for i in range(0, len(Zr.isotopes)):\n",
    "    table2[count] = -1*Zr.isotopes[i].abundance*ZrWt\n",
    "    table1[count] = str(Zr.isotopes[i].atomic_number*1000 + Zr.isotopes[i].mass_number)+xs\n",
    "    count = count + 1 \n",
    "    \n",
    "\n",
    "for i in range(0, len(Sn.isotopes)):\n",
    "    table2[count]  = -1*Sn.isotopes[i].abundance*SnWt\n",
    "    table1[count] = str(Sn.isotopes[i].atomic_number*1000 + Sn.isotopes[i].mass_number)+xs\n",
    "    count = count + 1 \n",
    "\n",
    "\n",
    "\n",
    "for i in range(0, len(Fe.isotopes)):\n",
    "    table2[count]  = -1*Fe.isotopes[i].abundance*FeWt\n",
    "    table1[count] = str(Fe.isotopes[i].atomic_number*1000 + Fe.isotopes[i].mass_number)+xs\n",
    "    count = count + 1 \n",
    "\n",
    "for i in range(0, len(Cr.isotopes)):\n",
    "    table2[count]  = -1*Cr.isotopes[i].abundance*CrWt\n",
    "    table1[count] = str(Cr.isotopes[i].atomic_number*1000 + Cr.isotopes[i].mass_number)+xs\n",
    "    count = count + 1 \n",
    "\n",
    "\n",
    "mcnpStr = \"\"\n",
    "for i in range(0, len(table1)):\n",
    "    mcnpStr = mcnpStr + table1[i] + \" \" +str(table2[i]) + \" \"\n",
    "\n",
    "print(mcnpStr)"
   ]
  },
  {
   "cell_type": "code",
   "execution_count": null,
   "id": "46b2e8a7",
   "metadata": {},
   "outputs": [],
   "source": []
  }
 ],
 "metadata": {
  "kernelspec": {
   "display_name": "Python 3",
   "language": "python",
   "name": "python3"
  },
  "language_info": {
   "codemirror_mode": {
    "name": "ipython",
    "version": 3
   },
   "file_extension": ".py",
   "mimetype": "text/x-python",
   "name": "python",
   "nbconvert_exporter": "python",
   "pygments_lexer": "ipython3",
   "version": "3.8.8"
  }
 },
 "nbformat": 4,
 "nbformat_minor": 5
}
