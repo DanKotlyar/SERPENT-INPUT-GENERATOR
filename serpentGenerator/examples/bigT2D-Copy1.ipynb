{
 "cells": [
  {
   "cell_type": "code",
   "execution_count": 12,
   "id": "b3de39ce",
   "metadata": {},
   "outputs": [],
   "source": [
    "import numpy as np\n",
    "from serpentGenerator.functions.pin import pin\n",
    "from serpentGenerator.data.materialLibrary import MATLIB\n",
    "from serpentGenerator.functions.material import material\n",
    "from serpentGenerator.functions.sqLattice import sqLat\n",
    "from serpentGenerator.functions.hexLattice import hexLat\n",
    "from serpentGenerator.functions.pinStack import pinStack\n",
    "from serpentGenerator.functions.surfs import surfs\n",
    "from serpentGenerator.functions.surf import surf\n",
    "from serpentGenerator.functions.cell import cell\n",
    "from serpentGenerator.functions.cells import cells\n",
    "from serpentGenerator.functions.lats import lats\n",
    "from serpentGenerator.functions.mix import mix\n",
    "from serpentGenerator.functions.mats import mats\n",
    "from serpentGenerator.functions.pins import pins\n",
    "from serpentGenerator.functions.core import core\n",
    "from serpentGenerator.functions.housing import housing\n",
    "from serpentGenerator.functions.universe import universe\n",
    "from serpentGenerator.functions.branches import branches\n",
    "from serpentGenerator.functions.hexpin import hexpin"
   ]
  },
  {
   "cell_type": "markdown",
   "id": "102d4815",
   "metadata": {},
   "source": [
    "# Materials"
   ]
  },
  {
   "cell_type": "code",
   "execution_count": 13,
   "id": "4b60dbd1",
   "metadata": {},
   "outputs": [],
   "source": [
    "fuel = MATLIB['UO2'].duplicateMat(\"fuel\")\n",
    "fuel.set('fractions', np.array([-0.04319337211, -0.83830401789, -.11850261])) # 4.9 % wt enrichment\n",
    "fuel.set('dens', -10.5216)\n",
    "fuel.set('rgb', \"238 59 49\")\n",
    "\n",
    "# fuel = fuel1.duplicateMat(\"fuel2\")\n",
    "# fuel.set('rgb', \"255 165 0\")\n",
    "\n",
    "# fuel = fuel1.duplicateMat(\"fuel3\")\n",
    "# fuel.set('rgb', \"255 255 0\")\n",
    "\n",
    "# fuel4 = fuel1.duplicateMat(\"fuel4\")\n",
    "# fuel4.set('fractions', np.array([-0.017629948, -0.863867442, -.11850261]))# 2.0 % wt enrichment \n",
    "# fuel4.set('rgb', \"255 255 255\")\n",
    "\n",
    "mod = MATLIB['H2O'].duplicateMat(\"water\")\n",
    "mod.set('rgb', \"198 226 255\")\n",
    "\n",
    "clad = MATLIB['Zr'].duplicateMat(\"clad\")\n",
    "clad.set('rgb', \"183 183 183\")\n",
    "\n",
    "ref = MATLIB['Reflector'].duplicateMat(\"reflector\") # reflector plenum\n",
    "ref.set('rgb', \"204 153 255\")\n",
    "\n",
    "ba = MATLIB['B'].duplicateMat(\"B4C\") # 90% wt enriched b-10\n",
    "\n",
    "MB = 10.8\n",
    "MC = 12\n",
    "MB4C = MB*4 + MC\n",
    "rhoB4C = 2.52\n",
    "AvroNorm = .6022\n",
    "nb4c = rhoB4C*AvroNorm/MB4C\n",
    "nc12 = nb4c\n",
    "b10_enrich = .90\n",
    "b11_enrich = 1 - b10_enrich\n",
    "nb10 = nb4c*b10_enrich\n",
    "nb11 = nb4c*b11_enrich\n",
    "\n",
    "b4cdens = -2.52\n",
    "ba.set('rgb', \"255 255 0\")\n",
    "ba.set('nuclides', np.array([5010, 5011, 6012]))\n",
    "ba.set('fractions', np.array([nb10, nb11, nc12]))\n",
    "ba.set('dens', -1*rhoB4C)\n",
    "ba.set('isBurn', True)\n",
    "\n",
    "# matList = mats()\n",
    "# matList.addMats([fuel1, fuel2, fuel3, fuel4,  mod, clad, ref, ba])\n",
    "\n",
    "# print(matList.toString())"
   ]
  },
  {
   "cell_type": "code",
   "execution_count": 14,
   "id": "8fdcdf76",
   "metadata": {},
   "outputs": [
    {
     "name": "stdout",
     "output_type": "stream",
     "text": [
      "{'id': 'p1', 'layout': None, 'cells': {}, 'elements': {}, 'univMats': {'fuel': <serpentGenerator.functions.material.material object at 0x0000021B13E5C6C8>, 'clad': <serpentGenerator.functions.material.material object at 0x0000021B13E5CAC8>, 'water': <serpentGenerator.functions.material.material object at 0x0000021B13E5C9C8>}, 'nregions': 3, 'materials': [<serpentGenerator.functions.material.material object at 0x0000021B13E5C6C8>, <serpentGenerator.functions.material.material object at 0x0000021B13E5CAC8>, <serpentGenerator.functions.material.material object at 0x0000021B13E5C9C8>], 'radii': [0.5, 0.6]}\n",
      "pin p1\n",
      "fuel\t0.5\n",
      "clad\t0.6\n",
      "water\n",
      "\n",
      "\n",
      "pin p2\n",
      "water\t0.5\n",
      "clad\t0.6\n",
      "water\n",
      "\n",
      "\n"
     ]
    }
   ],
   "source": [
    "p1Mats = [fuel, clad, mod]\n",
    "p2Mats = [mod, clad, mod]\n",
    "p1Radii = [.5, .6]\n",
    "p1 = pin(\"p1\", 3)\n",
    "p1.set('materials' ,p1Mats)\n",
    "p1.set('radii', p1Radii)\n",
    "\n",
    "p2 = p1.duplicate(\"p2\")\n",
    "p2.set('materials' ,p2Mats)\n",
    "\n",
    "print(vars(p1))\n",
    "print(p1.toString())\n",
    "print(p2.toString())"
   ]
  },
  {
   "cell_type": "code",
   "execution_count": 28,
   "id": "8dac2308",
   "metadata": {},
   "outputs": [
    {
     "name": "stdout",
     "output_type": "stream",
     "text": [
      "cell c1 h1  water -s1 \n",
      "surf s1 cyl 1 1 1 \n",
      "\n",
      "\n",
      "\n",
      "cell c1 h2  water -s1 \n",
      "surf s1 cyl 1 1 1 \n",
      "\n",
      "\n",
      "\n"
     ]
    }
   ],
   "source": [
    "h1 = universe(\"h1\")\n",
    "s1 = surf(\"s1\", \"cyl\", np.array([1, 1, 1]))\n",
    "c1 = cell(\"c1\", mat = mod)\n",
    "c1.setSurfs([s1], [1])\n",
    "h1.setGeom([c1])\n",
    "\n",
    "h2 = h1.duplicate(\"h2\")\n",
    "\n",
    "print(h1._geoString())\n",
    "print(h2._geoString())"
   ]
  },
  {
   "cell_type": "code",
   "execution_count": 4,
   "id": "1fc3fe11",
   "metadata": {},
   "outputs": [
    {
     "name": "stdout",
     "output_type": "stream",
     "text": [
      "lat lat1 1 0 0  2 2 1.26\n",
      "p1 p1 \n",
      "p1 p1 \n",
      "\n",
      "pin p1\n",
      "fuel\t0.5\n",
      "clad\t0.6\n",
      "water\n",
      "\n",
      "mat fuel    -10.5216  burn 1  rgb 238 59 49\n",
      "92235.09c\t-0.04319337211\n",
      "92238.09c\t-0.83830401789\n",
      "8016.09c\t-0.11850261\n",
      "\n",
      "mat clad    -6.55    rgb 183 183 183\n",
      "40090.06c\t0.5145\n",
      "40091.06c\t0.1122\n",
      "40092.06c\t0.1715\n",
      "40094.06c\t0.1738\n",
      "40096.06c\t0.028\n",
      "\n",
      "mat water    -0.7 moder H2O 1001   rgb 198 226 255\n",
      "1001.06c\t0.66667\n",
      "8016.06c\t0.33333\n",
      "\n",
      "\n"
     ]
    }
   ],
   "source": [
    "lat1 = sqLat(\"lat1\",0 ,0, 2, 1.260)\n",
    "lat1Map = np.array([[p1, p1], [p1, p1]])\n",
    "lat1.setMap(lat1Map)\n",
    "# print(vars(lat1)[\"layout\"])\n",
    "# print(vars(lat1)[\"elements\"])\n",
    "# print(vars(lat1)[\"univMats\"])\n",
    "print(lat1.toString())"
   ]
  },
  {
   "cell_type": "code",
   "execution_count": 5,
   "id": "4a588a36",
   "metadata": {},
   "outputs": [
    {
     "name": "stdout",
     "output_type": "stream",
     "text": [
      "lat lat2 1 0 0  2 2 1.26\n",
      "p1 p1 \n",
      "p1 p1 \n",
      "\n",
      "pin p1\n",
      "fuel\t0.5\n",
      "clad\t0.6\n",
      "water\n",
      "\n",
      "mat fuel    -10.5216  burn 1  rgb 238 59 49\n",
      "92235.09c\t-0.04319337211\n",
      "92238.09c\t-0.83830401789\n",
      "8016.09c\t-0.11850261\n",
      "\n",
      "mat clad    -6.55    rgb 183 183 183\n",
      "40090.06c\t0.5145\n",
      "40091.06c\t0.1122\n",
      "40092.06c\t0.1715\n",
      "40094.06c\t0.1738\n",
      "40096.06c\t0.028\n",
      "\n",
      "mat water    -0.7 moder H2O 1001   rgb 198 226 255\n",
      "1001.06c\t0.66667\n",
      "8016.06c\t0.33333\n",
      "\n",
      "\n"
     ]
    }
   ],
   "source": [
    "lat2 = lat1.duplicate(\"lat2\")\n",
    "print(lat2.toString())"
   ]
  },
  {
   "cell_type": "code",
   "execution_count": 6,
   "id": "0a5325df",
   "metadata": {},
   "outputs": [
    {
     "name": "stdout",
     "output_type": "stream",
     "text": [
      "lat lat2 1 0 0  2 2 1.26\n",
      "p2 p2 \n",
      "p2 p2 \n",
      "\n",
      "pin p2\n",
      "water\t0.5\n",
      "clad\t0.6\n",
      "water\n",
      "\n",
      "mat water    -0.7 moder H2O 1001   rgb 198 226 255\n",
      "1001.06c\t0.66667\n",
      "8016.06c\t0.33333\n",
      "\n",
      "mat clad    -6.55    rgb 183 183 183\n",
      "40090.06c\t0.5145\n",
      "40091.06c\t0.1122\n",
      "40092.06c\t0.1715\n",
      "40094.06c\t0.1738\n",
      "40096.06c\t0.028\n",
      "\n",
      "\n"
     ]
    }
   ],
   "source": [
    "lat2.replacePin(p1, p2)\n",
    "print(lat2.toString())"
   ]
  },
  {
   "cell_type": "code",
   "execution_count": 7,
   "id": "df53bd16",
   "metadata": {
    "scrolled": true
   },
   "outputs": [
    {
     "name": "stdout",
     "output_type": "stream",
     "text": [
      "lat latDepth 1 0 0  2 2 1.26\n",
      "lat1 lat2 \n",
      "lat2 lat1 \n",
      "\n",
      "pin p1\n",
      "fuel\t0.5\n",
      "clad\t0.6\n",
      "water\n",
      "\n",
      "lat lat1 1 0 0  2 2 1.26\n",
      "p1 p1 \n",
      "p1 p1 \n",
      "\n",
      "pin p2\n",
      "water\t0.5\n",
      "clad\t0.6\n",
      "water\n",
      "\n",
      "lat lat2 1 0 0  2 2 1.26\n",
      "p2 p2 \n",
      "p2 p2 \n",
      "\n",
      "mat fuel    -10.5216  burn 1  rgb 238 59 49\n",
      "92235.09c\t-0.04319337211\n",
      "92238.09c\t-0.83830401789\n",
      "8016.09c\t-0.11850261\n",
      "\n",
      "mat clad    -6.55    rgb 183 183 183\n",
      "40090.06c\t0.5145\n",
      "40091.06c\t0.1122\n",
      "40092.06c\t0.1715\n",
      "40094.06c\t0.1738\n",
      "40096.06c\t0.028\n",
      "\n",
      "mat water    -0.7 moder H2O 1001   rgb 198 226 255\n",
      "1001.06c\t0.66667\n",
      "8016.06c\t0.33333\n",
      "\n",
      "\n"
     ]
    }
   ],
   "source": [
    "d1 = sqLat(\"latDepth\",0 ,0, 2, 1.260)\n",
    "d1.setMap(np.array([[lat1, lat2],[lat2, lat1]]))\n",
    "print(d1.toString())"
   ]
  },
  {
   "cell_type": "code",
   "execution_count": 8,
   "id": "00de1310",
   "metadata": {},
   "outputs": [
    {
     "name": "stdout",
     "output_type": "stream",
     "text": [
      "{'lat1': <serpentGenerator.functions.sqLattice.sqLat object at 0x0000021B12C8B588>, 'lat2': <serpentGenerator.functions.sqLattice.sqLat object at 0x0000021B12C8BB48>}\n",
      "\n",
      "\n",
      "{'p1': <serpentGenerator.functions.pin.pin object at 0x0000021B12C8B448>, 'lat1': <serpentGenerator.functions.sqLattice.sqLat object at 0x0000021B12C8B588>, 'p2': <serpentGenerator.functions.pin.pin object at 0x0000021B12C8B3C8>, 'lat2': <serpentGenerator.functions.sqLattice.sqLat object at 0x0000021B12C8BB48>}\n"
     ]
    }
   ],
   "source": [
    "print(d1.elements)\n",
    "print(\"\\n\")\n",
    "\n",
    "unique = {}\n",
    "def searchElements(elems, uniqueElems):\n",
    "    for key in elems:\n",
    "        searchElements(elems[key].elements, uniqueElems)\n",
    "        uniqueElems[key] = elems[key]\n",
    "    return uniqueElems\n",
    "\n",
    "\n",
    "print(searchElements(d1.elements, unique))"
   ]
  },
  {
   "cell_type": "code",
   "execution_count": 30,
   "id": "163565d4",
   "metadata": {},
   "outputs": [
    {
     "name": "stdout",
     "output_type": "stream",
     "text": [
      "lat lat1 1 0 0  2 2 1.26\n",
      "h1 p1 \n",
      "p2 h2 \n",
      "\n",
      "cell c1 h1  water -s1 \n",
      "surf s1 cyl 1 1 1 \n",
      "\n",
      "\n",
      "pin p1\n",
      "fuel\t0.5\n",
      "clad\t0.6\n",
      "water\n",
      "\n",
      "pin p2\n",
      "water\t0.5\n",
      "clad\t0.6\n",
      "water\n",
      "\n",
      "cell c1 h2  water -s1 \n",
      "surf s1 cyl 1 1 1 \n",
      "\n",
      "\n",
      "mat water    -0.7 moder H2O 1001   rgb 198 226 255\n",
      "1001.06c\t0.66667\n",
      "8016.06c\t0.33333\n",
      "\n",
      "mat fuel    -10.5216  burn 1  rgb 238 59 49\n",
      "92235.09c\t-0.04319337211\n",
      "92238.09c\t-0.83830401789\n",
      "8016.09c\t-0.11850261\n",
      "\n",
      "mat clad    -6.55    rgb 183 183 183\n",
      "40090.06c\t0.5145\n",
      "40091.06c\t0.1122\n",
      "40092.06c\t0.1715\n",
      "40094.06c\t0.1738\n",
      "40096.06c\t0.028\n",
      "\n",
      "\n"
     ]
    }
   ],
   "source": [
    "lat1 = sqLat(\"lat1\",0 ,0, 2, 1.260)\n",
    "lat1Map = np.array([[h1, p1], [p2, h2]])\n",
    "lat1.setMap(lat1Map)\n",
    "# print(vars(lat1)[\"layout\"])\n",
    "# print(vars(lat1)[\"elements\"])\n",
    "# print(vars(lat1)[\"univMats\"])\n",
    "print(lat1.toString())\n",
    "lat2 = lat1.duplicate(\"lat2\")"
   ]
  },
  {
   "cell_type": "code",
   "execution_count": 31,
   "id": "468ecaea",
   "metadata": {},
   "outputs": [
    {
     "name": "stdout",
     "output_type": "stream",
     "text": [
      "lat latDepth 1 0 0  2 2 1.26\n",
      "lat1 lat2 \n",
      "lat2 lat1 \n",
      "\n",
      "cell c1 h1  water -s1 \n",
      "surf s1 cyl 1 1 1 \n",
      "\n",
      "\n",
      "pin p1\n",
      "fuel\t0.5\n",
      "clad\t0.6\n",
      "water\n",
      "\n",
      "pin p2\n",
      "water\t0.5\n",
      "clad\t0.6\n",
      "water\n",
      "\n",
      "cell c1 h2  water -s1 \n",
      "surf s1 cyl 1 1 1 \n",
      "\n",
      "\n",
      "lat lat1 1 0 0  2 2 1.26\n",
      "h1 p1 \n",
      "p2 h2 \n",
      "\n",
      "lat lat2 1 0 0  2 2 1.26\n",
      "h1 p1 \n",
      "p2 h2 \n",
      "\n",
      "mat water    -0.7 moder H2O 1001   rgb 198 226 255\n",
      "1001.06c\t0.66667\n",
      "8016.06c\t0.33333\n",
      "\n",
      "mat fuel    -10.5216  burn 1  rgb 238 59 49\n",
      "92235.09c\t-0.04319337211\n",
      "92238.09c\t-0.83830401789\n",
      "8016.09c\t-0.11850261\n",
      "\n",
      "mat clad    -6.55    rgb 183 183 183\n",
      "40090.06c\t0.5145\n",
      "40091.06c\t0.1122\n",
      "40092.06c\t0.1715\n",
      "40094.06c\t0.1738\n",
      "40096.06c\t0.028\n",
      "\n",
      "\n"
     ]
    }
   ],
   "source": [
    "d1 = sqLat(\"latDepth\",0 ,0, 2, 1.260)\n",
    "d1.setMap(np.array([[lat1, lat2],[lat2, lat1]]))\n",
    "print(d1.toString())"
   ]
  },
  {
   "cell_type": "code",
   "execution_count": null,
   "id": "aadc1182",
   "metadata": {},
   "outputs": [],
   "source": []
  }
 ],
 "metadata": {
  "kernelspec": {
   "display_name": "Python 3 (ipykernel)",
   "language": "python",
   "name": "python3"
  },
  "language_info": {
   "codemirror_mode": {
    "name": "ipython",
    "version": 3
   },
   "file_extension": ".py",
   "mimetype": "text/x-python",
   "name": "python",
   "nbconvert_exporter": "python",
   "pygments_lexer": "ipython3",
   "version": "3.7.4"
  }
 },
 "nbformat": 4,
 "nbformat_minor": 5
}
