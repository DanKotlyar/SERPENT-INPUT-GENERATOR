{
 "cells": [
  {
   "cell_type": "code",
   "execution_count": 1,
   "id": "bfcb2dd8",
   "metadata": {},
   "outputs": [],
   "source": [
    "from serpentGenerator.functions.material import material\n",
    "from serpentGenerator.functions.mix import mix\n",
    "from serpentGenerator.functions.universe import universe\n",
    "from serpentGenerator.functions.sqLattice import sqLat\n",
    "from serpentGenerator.functions.cell import cell \n",
    "from serpentGenerator.functions.surf import surf \n",
    "from serpentGenerator.functions.pin import pin\n",
    "from serpentGenerator.functions.builders import (buildHexLattice, buildPeripheralRing, buildBoundingBox, build3Dpin, buildPeripheralObject, buildStack, buildStackPlanes, build3DPinPlanes, buildSquareLattice)\n",
    "from serpentGenerator.functions.utilities import (createDictFromConatinerList)\n",
    "from serpentGenerator.data.materialLibrary import MATLIB\n",
    "from serpentGenerator.functions.core import core\n",
    "\n",
    "from matplotlib import pyplot as plt\n",
    "import matplotlib.image as mpimg"
   ]
  },
  {
   "attachments": {},
   "cell_type": "markdown",
   "id": "6ff9eea6",
   "metadata": {},
   "source": [
    "### General Python Tips\n",
    "1. Press ``Shift + Tab`` over a function header to display documentation, press + to display full documentation\n",
    "2. Using the ``vars(object)`` method will allow you to see all object attributes and values in a dictionary format\n",
    "3. Using the ``object.toString()`` method will allow you to see the object in traditional serpent format, use this to guide yourself along the way."
   ]
  },
  {
   "attachments": {},
   "cell_type": "markdown",
   "id": "c930d4b5",
   "metadata": {},
   "source": [
    "### Sample demonstration of traditional pwr workflow\n",
    "1. Check avialable mats in material library"
   ]
  },
  {
   "cell_type": "code",
   "execution_count": 2,
   "id": "96144b5a",
   "metadata": {},
   "outputs": [
    {
     "data": {
      "text/plain": [
       "dict_keys(['B', 'H2O', 'Reflector', 'UO2', 'Zr'])"
      ]
     },
     "execution_count": 2,
     "metadata": {},
     "output_type": "execute_result"
    }
   ],
   "source": [
    "MATLIB.keys()"
   ]
  },
  {
   "cell_type": "code",
   "execution_count": 3,
   "id": "6b87d416",
   "metadata": {},
   "outputs": [
    {
     "name": "stdout",
     "output_type": "stream",
     "text": [
      "{'id': 'UO2', 'isBurn': True, 'isModer': False, 'nuclides': [92235, 92238, 8016], 'fractions': [0.000815077056, 0.0221889771, 0.0460081082], 'dens': -10.5216, 'temp': None, 'xsLib': '09c', 'thermLib': None, 'color': None, 'rgb': None, 'aceTherm': None, 'modLib': ''}\n",
      "mat UO2 -10.5216  burn 1  \n",
      "92235.09c\t0.000815077056\n",
      "92238.09c\t0.0221889771\n",
      "8016.09c\t0.0460081082\n",
      "\n",
      "\n"
     ]
    }
   ],
   "source": [
    "### PWR fuelpin dimensions & materials\n",
    "fuelRad = 0.4096\n",
    "cladRad = 0.476\n",
    "\n",
    "fpRadii = [fuelRad, cladRad]\n",
    "\n",
    "fuelMat = MATLIB['UO2']\n",
    "cladMat = MATLIB['Zr']\n",
    "coolMat = MATLIB['H2O']\n",
    "\n",
    "fpMats = [fuelMat, cladMat, coolMat]\n",
    "\n",
    "print(vars(fuelMat))\n",
    "\n",
    "print(fuelMat.toString())"
   ]
  },
  {
   "attachments": {},
   "cell_type": "markdown",
   "id": "c5967cd9",
   "metadata": {},
   "source": [
    "### Build Fuelpin\n",
    "1. Different workflows between 2D and 3D, well start with 2D\n",
    "2. Press shift+tab over a functionheader to reveal documentation"
   ]
  },
  {
   "cell_type": "code",
   "execution_count": 4,
   "id": "32563be9",
   "metadata": {},
   "outputs": [
    {
     "name": "stdout",
     "output_type": "stream",
     "text": [
      "pin fp1\n",
      "UO2\t0.4096\n",
      "Zr\t0.476\n",
      "H2O\n",
      "\n",
      "\n"
     ]
    }
   ],
   "source": [
    "fp1 = pin(\"fp1\", 3)\n",
    "fp1.setPin(fpMats, fpRadii)\n",
    "\n",
    "cp1 = pin(\"cp1\", 1)\n",
    "cp1.set('materials', [MATLIB['H2O']])\n",
    "\n",
    "cp2 = cp1.duplicate(\"cp2\")\n",
    "\n",
    "print(fp1.toString())"
   ]
  },
  {
   "cell_type": "code",
   "execution_count": 5,
   "id": "9b84fcf7",
   "metadata": {},
   "outputs": [],
   "source": [
    "uniDict = {\"fuel\":100, \"coolant\":200, \"barrel\":300}"
   ]
  },
  {
   "cell_type": "code",
   "execution_count": 6,
   "id": "81364360",
   "metadata": {},
   "outputs": [],
   "source": [
    "fp1.setGCU(uniDict[\"fuel\"])\n",
    "cp1.setGCU(uniDict[\"coolant\"])"
   ]
  },
  {
   "attachments": {},
   "cell_type": "markdown",
   "id": "145d2170",
   "metadata": {},
   "source": [
    "### Build Assembly\n",
    "1. Use builtin builders to aid in creating a sqaure lattice for an assembly\n",
    "2. Use builtin function which allow replicating and quick altering of universe objects"
   ]
  },
  {
   "cell_type": "code",
   "execution_count": 7,
   "id": "79f7eeb9",
   "metadata": {},
   "outputs": [],
   "source": [
    "### PWR assembly dimensions & materials\n",
    "pinPitch = 1.2623"
   ]
  },
  {
   "cell_type": "code",
   "execution_count": 8,
   "id": "8e65c45f",
   "metadata": {},
   "outputs": [
    {
     "name": "stdout",
     "output_type": "stream",
     "text": [
      "lat fa1 1 0 0  19 19 1.2623\n",
      "cp1 cp1 cp1 cp1 cp1 cp1 cp1 cp1 cp1 cp1 cp1 cp1 cp1 cp1 cp1 cp1 cp1 cp1 cp1 \n",
      "cp1 fp1 fp1 fp1 fp1 fp1 fp1 fp1 fp1 fp1 fp1 fp1 fp1 fp1 fp1 fp1 fp1 fp1 cp1 \n",
      "cp1 fp1 fp1 fp1 fp1 fp1 fp1 fp1 fp1 fp1 fp1 fp1 fp1 fp1 fp1 fp1 fp1 fp1 cp1 \n",
      "cp1 fp1 fp1 fp1 fp1 fp1 fp1 fp1 fp1 fp1 fp1 fp1 fp1 fp1 fp1 fp1 fp1 fp1 cp1 \n",
      "cp1 fp1 fp1 fp1 fp1 fp1 fp1 fp1 fp1 fp1 fp1 fp1 fp1 fp1 fp1 fp1 fp1 fp1 cp1 \n",
      "cp1 fp1 fp1 fp1 fp1 fp1 fp1 fp1 fp1 fp1 fp1 fp1 fp1 fp1 fp1 fp1 fp1 fp1 cp1 \n",
      "cp1 fp1 fp1 fp1 fp1 fp1 fp1 fp1 fp1 fp1 fp1 fp1 fp1 fp1 fp1 fp1 fp1 fp1 cp1 \n",
      "cp1 fp1 fp1 fp1 fp1 fp1 fp1 fp1 fp1 fp1 fp1 fp1 fp1 fp1 fp1 fp1 fp1 fp1 cp1 \n",
      "cp1 fp1 fp1 fp1 fp1 fp1 fp1 fp1 fp1 fp1 fp1 fp1 fp1 fp1 fp1 fp1 fp1 fp1 cp1 \n",
      "cp1 fp1 fp1 fp1 fp1 fp1 fp1 fp1 fp1 fp1 fp1 fp1 fp1 fp1 fp1 fp1 fp1 fp1 cp1 \n",
      "cp1 fp1 fp1 fp1 fp1 fp1 fp1 fp1 fp1 fp1 fp1 fp1 fp1 fp1 fp1 fp1 fp1 fp1 cp1 \n",
      "cp1 fp1 fp1 fp1 fp1 fp1 fp1 fp1 fp1 fp1 fp1 fp1 fp1 fp1 fp1 fp1 fp1 fp1 cp1 \n",
      "cp1 fp1 fp1 fp1 fp1 fp1 fp1 fp1 fp1 fp1 fp1 fp1 fp1 fp1 fp1 fp1 fp1 fp1 cp1 \n",
      "cp1 fp1 fp1 fp1 fp1 fp1 fp1 fp1 fp1 fp1 fp1 fp1 fp1 fp1 fp1 fp1 fp1 fp1 cp1 \n",
      "cp1 fp1 fp1 fp1 fp1 fp1 fp1 fp1 fp1 fp1 fp1 fp1 fp1 fp1 fp1 fp1 fp1 fp1 cp1 \n",
      "cp1 fp1 fp1 fp1 fp1 fp1 fp1 fp1 fp1 fp1 fp1 fp1 fp1 fp1 fp1 fp1 fp1 fp1 cp1 \n",
      "cp1 fp1 fp1 fp1 fp1 fp1 fp1 fp1 fp1 fp1 fp1 fp1 fp1 fp1 fp1 fp1 fp1 fp1 cp1 \n",
      "cp1 fp1 fp1 fp1 fp1 fp1 fp1 fp1 fp1 fp1 fp1 fp1 fp1 fp1 fp1 fp1 fp1 fp1 cp1 \n",
      "cp1 cp1 cp1 cp1 cp1 cp1 cp1 cp1 cp1 cp1 cp1 cp1 cp1 cp1 cp1 cp1 cp1 cp1 cp1 \n",
      "\n",
      "\n"
     ]
    }
   ],
   "source": [
    "fa1LatMap =  \"1 1 1 1 1 1 1 1 1 1 1 1 1 1 1 1 1;\\\n",
    "              1 1 1 1 1 1 1 1 1 1 1 1 1 1 1 1 1;\\\n",
    "              1 1 1 1 1 1 1 1 1 1 1 1 1 1 1 1 1;\\\n",
    "              1 1 1 1 1 1 1 1 1 1 1 1 1 1 1 1 1;\\\n",
    "              1 1 1 1 1 1 1 1 1 1 1 1 1 1 1 1 1;\\\n",
    "              1 1 1 1 1 1 1 1 1 1 1 1 1 1 1 1 1;\\\n",
    "              1 1 1 1 1 1 1 1 1 1 1 1 1 1 1 1 1;\\\n",
    "              1 1 1 1 1 1 1 1 1 1 1 1 1 1 1 1 1;\\\n",
    "              1 1 1 1 1 1 1 1 1 1 1 1 1 1 1 1 1;\\\n",
    "              1 1 1 1 1 1 1 1 1 1 1 1 1 1 1 1 1;\\\n",
    "              1 1 1 1 1 1 1 1 1 1 1 1 1 1 1 1 1;\\\n",
    "              1 1 1 1 1 1 1 1 1 1 1 1 1 1 1 1 1;\\\n",
    "              1 1 1 1 1 1 1 1 1 1 1 1 1 1 1 1 1;\\\n",
    "              1 1 1 1 1 1 1 1 1 1 1 1 1 1 1 1 1;\\\n",
    "              1 1 1 1 1 1 1 1 1 1 1 1 1 1 1 1 1;\\\n",
    "              1 1 1 1 1 1 1 1 1 1 1 1 1 1 1 1 1;\\\n",
    "              1 1 1 1 1 1 1 1 1 1 1 1 1 1 1 1 1\"\n",
    "\n",
    "fa1UnivMap = {\"1\": fp1, '0': cp1} #0 denotes the outer univ for outerlayers\n",
    "nOuter = 1\n",
    "\n",
    "fa1 =  buildSquareLattice(\"fa1\", fa1LatMap, fa1UnivMap, nOuter, pinPitch)\n",
    "\n",
    "\n",
    "\n",
    "ca1 = fa1.duplicate(\"ca1\")\n",
    "ca1.replaceUniv(cp1, cp2)\n",
    "ca1.replaceUniv(fp1, cp2)\n",
    "\n",
    "print(fa1.toString())"
   ]
  },
  {
   "attachments": {},
   "cell_type": "markdown",
   "id": "1d37f7cb",
   "metadata": {},
   "source": [
    "### Build Active Core\n",
    "1. Use similar workflow to build the active core"
   ]
  },
  {
   "cell_type": "code",
   "execution_count": 9,
   "id": "ce0ef52e",
   "metadata": {},
   "outputs": [],
   "source": [
    "### PWR active core dimensions & materials\n",
    "assemPitch = 21.6038\n",
    "activeCoreRad = 83.4152\n",
    "barrelRad = 103.4152 \n",
    "thermalShieldRad  = 131.4152 \n",
    "vesselRad = 151.4152"
   ]
  },
  {
   "cell_type": "code",
   "execution_count": 10,
   "id": "36f89c0f",
   "metadata": {},
   "outputs": [
    {
     "name": "stdout",
     "output_type": "stream",
     "text": [
      "lat ac 1 0 0  11 11 21.6038\n",
      "ca1 ca1 ca1 ca1 ca1 ca1 ca1 ca1 ca1 ca1 ca1 \n",
      "ca1 ca1 ca1 ca1 ca1 ca1 ca1 ca1 ca1 ca1 ca1 \n",
      "ca1 ca1 ca1 ca1 fa1 fa1 fa1 ca1 ca1 ca1 ca1 \n",
      "ca1 ca1 ca1 fa1 fa1 fa1 fa1 fa1 ca1 ca1 ca1 \n",
      "ca1 ca1 fa1 fa1 fa1 fa1 fa1 fa1 fa1 ca1 ca1 \n",
      "ca1 ca1 fa1 fa1 fa1 fa1 fa1 fa1 fa1 ca1 ca1 \n",
      "ca1 ca1 fa1 fa1 fa1 fa1 fa1 fa1 fa1 ca1 ca1 \n",
      "ca1 ca1 ca1 fa1 fa1 fa1 fa1 fa1 ca1 ca1 ca1 \n",
      "ca1 ca1 ca1 ca1 fa1 fa1 fa1 ca1 ca1 ca1 ca1 \n",
      "ca1 ca1 ca1 ca1 ca1 ca1 ca1 ca1 ca1 ca1 ca1 \n",
      "ca1 ca1 ca1 ca1 ca1 ca1 ca1 ca1 ca1 ca1 ca1 \n",
      "\n",
      "\n"
     ]
    }
   ],
   "source": [
    "acLatMap =  \"0 0 1 1 1 0 0;\\\n",
    "             0 1 1 1 1 1 0;\\\n",
    "             1 1 1 1 1 1 1;\\\n",
    "             1 1 1 1 1 1 1;\\\n",
    "             1 1 1 1 1 1 1;\\\n",
    "             0 1 1 1 1 1 0;\\\n",
    "             0 0 1 1 1 0 0\"\n",
    "\n",
    "acUnivMap = {\"1\": fa1, \"0\": ca1}\n",
    "\n",
    "nOuter = 2\n",
    "\n",
    "ac =  buildSquareLattice(\"ac\", acLatMap, acUnivMap, nOuter, assemPitch)\n",
    "\n",
    "print(ac.toString())"
   ]
  },
  {
   "attachments": {},
   "cell_type": "markdown",
   "id": "94fa29e4",
   "metadata": {},
   "source": [
    "### Build Housing \n",
    "1. Some useful builders exist to build the periphery of the active core"
   ]
  },
  {
   "cell_type": "code",
   "execution_count": 11,
   "id": "7e76d5e5",
   "metadata": {},
   "outputs": [],
   "source": [
    "acCool = buildPeripheralRing(ac, activeCoreRad, material = MATLIB['H2O'], ringId = \"acCool\")\n",
    "barrel = buildPeripheralRing(acCool, barrelRad, material = MATLIB['Zr'], ringId = \"barrel\")\n",
    "barrel.setGCU(uniDict[\"barrel\"])\n",
    "therm  = buildPeripheralRing(barrel, thermalShieldRad, material = MATLIB['H2O'], ringId = \"thermShield\")\n",
    "vess = buildPeripheralRing(therm, vesselRad, material = MATLIB['Zr'], ringId = \"vessel\")\n",
    "\n",
    "box = buildBoundingBox(vess)"
   ]
  },
  {
   "attachments": {},
   "cell_type": "markdown",
   "id": "d26bb081",
   "metadata": {},
   "source": [
    "### Exporting to Serpent\n",
    "1. The core object takes in the final universe and provides some functions for handling settings for the serpent input"
   ]
  },
  {
   "cell_type": "code",
   "execution_count": 18,
   "id": "3c8a5b03",
   "metadata": {},
   "outputs": [],
   "source": [
    "fgs_hr18 = [1.39000000E-10, 1.00000000E-08, 1.00000000E-07,  4.00000000E-07, 9.96000000E-07, 2.38236967E-06, 8.31528719E-06, 2.90232041E-05,\n",
    "7.88932483E-05, 4.53999298E-04, 2.86348774E-03, 1.50344000E-02,\n",
    "8.65170000E-02, 3.87742000E-01, 8.20850000E-01, 1.35335000E+00,\n",
    "2.86505000E+00, 1.00000000E+01, 2.00000000E+01]"
   ]
  },
  {
   "cell_type": "code",
   "execution_count": null,
   "id": "89771314",
   "metadata": {},
   "outputs": [],
   "source": [
    "# ene hrmod 1 1.39000000E-10 1.00000000E-08 1.00000000E-07 4.00000000E-07\n",
    "#  9.96000000E-07 2.38236967E-06 8.31528719E-06 2.90232041E-05\n",
    "#  7.88932483E-05 4.53999298E-04 2.86348774E-03 1.50344000E-02\n",
    "#  8.65170000E-02 3.87742000E-01 8.20850000E-01 1.35335000E+00\n",
    "#  2.86505000E+00 1.00000000E+01 2.00000000E+01\n",
    "# set nfg hrmod"
   ]
  },
  {
   "cell_type": "code",
   "execution_count": 16,
   "id": "8d064c66",
   "metadata": {},
   "outputs": [],
   "source": [
    "pwr1 = core(box, \"./serpent/pwr_test_gcu\")\n",
    "xsPath = r\"/mnt/c/Users/user/Documents/endfb7/sss_endfb7u.xsdata\"\n",
    "pwr1.setSettings(geoType='2D', bc = 2, nps = 1E+05, nact = 100, nskip=100, xsAbsPath=xsPath, plotOptions=([3], 5000, [0], 1), setGCU = True, fgs = fgs_hr18)\n",
    "pwr1.toSerpent(exportUniverseAsNumber = True)"
   ]
  },
  {
   "attachments": {},
   "cell_type": "markdown",
   "id": "49553fdb",
   "metadata": {},
   "source": [
    "### SIMBA Ouput\n",
    "1. SIMBA exports the output in 3 files, a .mat, .geo, and .main containing the materials, geometry, and settings respectively"
   ]
  },
  {
   "cell_type": "code",
   "execution_count": 13,
   "id": "e0e19d6c",
   "metadata": {},
   "outputs": [
    {
     "name": "stdout",
     "output_type": "stream",
     "text": [
      "mat H2O -0.7    \n",
      "1001.06c\t0.66667\n",
      "8016.06c\t0.33333\n",
      "\n",
      "mat UO2 -10.5216  burn 1  \n",
      "92235.09c\t0.000815077056\n",
      "92238.09c\t0.0221889771\n",
      "8016.09c\t0.0460081082\n",
      "\n",
      "mat Zr -6.55    \n",
      "40090.06c\t0.5145\n",
      "40091.06c\t0.1122\n",
      "40092.06c\t0.1715\n",
      "40094.06c\t0.1738\n",
      "40096.06c\t0.028\n",
      "\n",
      "\n"
     ]
    }
   ],
   "source": [
    "with open('./serpent/pwr_test.mat', \"r\") as f:\n",
    "    contents = f.read()\n",
    "    print(contents)"
   ]
  },
  {
   "cell_type": "code",
   "execution_count": 14,
   "id": "aeacff22",
   "metadata": {},
   "outputs": [
    {
     "name": "stdout",
     "output_type": "stream",
     "text": [
      "surf vesselcc1 cyl 0.0 0.0 151.4152 \n",
      "surf putBorder rect -151.4152 151.4152 -151.4152 151.4152 \n",
      "surf thermShieldcc1 cyl 0.0 0.0 131.4152 \n",
      "surf barrelcc1 cyl 0.0 0.0 103.4152 \n",
      "surf acCoolcc1 cyl 0.0 0.0 83.4152 \n",
      "cell fillRegion 1  fill acCool_univbarrel_univthermShield_univvessel_univ -vesselcc1 \n",
      "cell voidRegion 1  void vesselcc1 -putBorder \n",
      "cell acCool_univbarrel_univthermShield_univvessel_cell1 acCool_univbarrel_univthermShield_univvessel_univ  fill acCool_univbarrel_univthermShield_univ -thermShieldcc1 \n",
      "cell acCool_univbarrel_univthermShield_univvessel_cell2 acCool_univbarrel_univthermShield_univvessel_univ  fill vessel_univ thermShieldcc1 -vesselcc1 \n",
      "cell acCool_univbarrel_univthermShield_cell1 acCool_univbarrel_univthermShield_univ  fill acCool_univbarrel_univ -barrelcc1 \n",
      "cell acCool_univbarrel_univthermShield_cell2 acCool_univbarrel_univthermShield_univ  fill thermShield_univ barrelcc1 -thermShieldcc1 \n",
      "cell acCool_univbarrel_cell1 acCool_univbarrel_univ  fill acCool_univ -acCoolcc1 \n",
      "cell acCool_univbarrel_cell2 acCool_univbarrel_univ  fill barrel_univ acCoolcc1 -barrelcc1 \n",
      "cell acCool_cell acCool_univ  fill ac -acCoolcc1 \n",
      "cell barrel_cell barrel_univ  Zr acCoolcc1 -barrelcc1 \n",
      "cell thermShield_cell thermShield_univ  H2O barrelcc1 -thermShieldcc1 \n",
      "cell vessel_cell vessel_univ  Zr thermShieldcc1 -vesselcc1 \n",
      "cell outRegionIn 0  fill 1 -putBorder \n",
      "cell outRegionOut 0  outside putBorder \n",
      "lat ac 1 0 0  11 11 21.6038\n",
      "ca1 ca1 ca1 ca1 ca1 ca1 ca1 ca1 ca1 ca1 ca1 \n",
      "ca1 ca1 ca1 ca1 ca1 ca1 ca1 ca1 ca1 ca1 ca1 \n",
      "ca1 ca1 ca1 ca1 fa1 fa1 fa1 ca1 ca1 ca1 ca1 \n",
      "ca1 ca1 ca1 fa1 fa1 fa1 fa1 fa1 ca1 ca1 ca1 \n",
      "ca1 ca1 fa1 fa1 fa1 fa1 fa1 fa1 fa1 ca1 ca1 \n",
      "ca1 ca1 fa1 fa1 fa1 fa1 fa1 fa1 fa1 ca1 ca1 \n",
      "ca1 ca1 fa1 fa1 fa1 fa1 fa1 fa1 fa1 ca1 ca1 \n",
      "ca1 ca1 ca1 fa1 fa1 fa1 fa1 fa1 ca1 ca1 ca1 \n",
      "ca1 ca1 ca1 ca1 fa1 fa1 fa1 ca1 ca1 ca1 ca1 \n",
      "ca1 ca1 ca1 ca1 ca1 ca1 ca1 ca1 ca1 ca1 ca1 \n",
      "ca1 ca1 ca1 ca1 ca1 ca1 ca1 ca1 ca1 ca1 ca1 \n",
      "\n",
      "lat ca1 1 0 0  19 19 1.2623\n",
      "cp2 cp2 cp2 cp2 cp2 cp2 cp2 cp2 cp2 cp2 cp2 cp2 cp2 cp2 cp2 cp2 cp2 cp2 cp2 \n",
      "cp2 cp2 cp2 cp2 cp2 cp2 cp2 cp2 cp2 cp2 cp2 cp2 cp2 cp2 cp2 cp2 cp2 cp2 cp2 \n",
      "cp2 cp2 cp2 cp2 cp2 cp2 cp2 cp2 cp2 cp2 cp2 cp2 cp2 cp2 cp2 cp2 cp2 cp2 cp2 \n",
      "cp2 cp2 cp2 cp2 cp2 cp2 cp2 cp2 cp2 cp2 cp2 cp2 cp2 cp2 cp2 cp2 cp2 cp2 cp2 \n",
      "cp2 cp2 cp2 cp2 cp2 cp2 cp2 cp2 cp2 cp2 cp2 cp2 cp2 cp2 cp2 cp2 cp2 cp2 cp2 \n",
      "cp2 cp2 cp2 cp2 cp2 cp2 cp2 cp2 cp2 cp2 cp2 cp2 cp2 cp2 cp2 cp2 cp2 cp2 cp2 \n",
      "cp2 cp2 cp2 cp2 cp2 cp2 cp2 cp2 cp2 cp2 cp2 cp2 cp2 cp2 cp2 cp2 cp2 cp2 cp2 \n",
      "cp2 cp2 cp2 cp2 cp2 cp2 cp2 cp2 cp2 cp2 cp2 cp2 cp2 cp2 cp2 cp2 cp2 cp2 cp2 \n",
      "cp2 cp2 cp2 cp2 cp2 cp2 cp2 cp2 cp2 cp2 cp2 cp2 cp2 cp2 cp2 cp2 cp2 cp2 cp2 \n",
      "cp2 cp2 cp2 cp2 cp2 cp2 cp2 cp2 cp2 cp2 cp2 cp2 cp2 cp2 cp2 cp2 cp2 cp2 cp2 \n",
      "cp2 cp2 cp2 cp2 cp2 cp2 cp2 cp2 cp2 cp2 cp2 cp2 cp2 cp2 cp2 cp2 cp2 cp2 cp2 \n",
      "cp2 cp2 cp2 cp2 cp2 cp2 cp2 cp2 cp2 cp2 cp2 cp2 cp2 cp2 cp2 cp2 cp2 cp2 cp2 \n",
      "cp2 cp2 cp2 cp2 cp2 cp2 cp2 cp2 cp2 cp2 cp2 cp2 cp2 cp2 cp2 cp2 cp2 cp2 cp2 \n",
      "cp2 cp2 cp2 cp2 cp2 cp2 cp2 cp2 cp2 cp2 cp2 cp2 cp2 cp2 cp2 cp2 cp2 cp2 cp2 \n",
      "cp2 cp2 cp2 cp2 cp2 cp2 cp2 cp2 cp2 cp2 cp2 cp2 cp2 cp2 cp2 cp2 cp2 cp2 cp2 \n",
      "cp2 cp2 cp2 cp2 cp2 cp2 cp2 cp2 cp2 cp2 cp2 cp2 cp2 cp2 cp2 cp2 cp2 cp2 cp2 \n",
      "cp2 cp2 cp2 cp2 cp2 cp2 cp2 cp2 cp2 cp2 cp2 cp2 cp2 cp2 cp2 cp2 cp2 cp2 cp2 \n",
      "cp2 cp2 cp2 cp2 cp2 cp2 cp2 cp2 cp2 cp2 cp2 cp2 cp2 cp2 cp2 cp2 cp2 cp2 cp2 \n",
      "cp2 cp2 cp2 cp2 cp2 cp2 cp2 cp2 cp2 cp2 cp2 cp2 cp2 cp2 cp2 cp2 cp2 cp2 cp2 \n",
      "\n",
      "pin cp2\n",
      "H2O\n",
      "\n",
      "lat fa1 1 0 0  19 19 1.2623\n",
      "cp1 cp1 cp1 cp1 cp1 cp1 cp1 cp1 cp1 cp1 cp1 cp1 cp1 cp1 cp1 cp1 cp1 cp1 cp1 \n",
      "cp1 fp1 fp1 fp1 fp1 fp1 fp1 fp1 fp1 fp1 fp1 fp1 fp1 fp1 fp1 fp1 fp1 fp1 cp1 \n",
      "cp1 fp1 fp1 fp1 fp1 fp1 fp1 fp1 fp1 fp1 fp1 fp1 fp1 fp1 fp1 fp1 fp1 fp1 cp1 \n",
      "cp1 fp1 fp1 fp1 fp1 fp1 fp1 fp1 fp1 fp1 fp1 fp1 fp1 fp1 fp1 fp1 fp1 fp1 cp1 \n",
      "cp1 fp1 fp1 fp1 fp1 fp1 fp1 fp1 fp1 fp1 fp1 fp1 fp1 fp1 fp1 fp1 fp1 fp1 cp1 \n",
      "cp1 fp1 fp1 fp1 fp1 fp1 fp1 fp1 fp1 fp1 fp1 fp1 fp1 fp1 fp1 fp1 fp1 fp1 cp1 \n",
      "cp1 fp1 fp1 fp1 fp1 fp1 fp1 fp1 fp1 fp1 fp1 fp1 fp1 fp1 fp1 fp1 fp1 fp1 cp1 \n",
      "cp1 fp1 fp1 fp1 fp1 fp1 fp1 fp1 fp1 fp1 fp1 fp1 fp1 fp1 fp1 fp1 fp1 fp1 cp1 \n",
      "cp1 fp1 fp1 fp1 fp1 fp1 fp1 fp1 fp1 fp1 fp1 fp1 fp1 fp1 fp1 fp1 fp1 fp1 cp1 \n",
      "cp1 fp1 fp1 fp1 fp1 fp1 fp1 fp1 fp1 fp1 fp1 fp1 fp1 fp1 fp1 fp1 fp1 fp1 cp1 \n",
      "cp1 fp1 fp1 fp1 fp1 fp1 fp1 fp1 fp1 fp1 fp1 fp1 fp1 fp1 fp1 fp1 fp1 fp1 cp1 \n",
      "cp1 fp1 fp1 fp1 fp1 fp1 fp1 fp1 fp1 fp1 fp1 fp1 fp1 fp1 fp1 fp1 fp1 fp1 cp1 \n",
      "cp1 fp1 fp1 fp1 fp1 fp1 fp1 fp1 fp1 fp1 fp1 fp1 fp1 fp1 fp1 fp1 fp1 fp1 cp1 \n",
      "cp1 fp1 fp1 fp1 fp1 fp1 fp1 fp1 fp1 fp1 fp1 fp1 fp1 fp1 fp1 fp1 fp1 fp1 cp1 \n",
      "cp1 fp1 fp1 fp1 fp1 fp1 fp1 fp1 fp1 fp1 fp1 fp1 fp1 fp1 fp1 fp1 fp1 fp1 cp1 \n",
      "cp1 fp1 fp1 fp1 fp1 fp1 fp1 fp1 fp1 fp1 fp1 fp1 fp1 fp1 fp1 fp1 fp1 fp1 cp1 \n",
      "cp1 fp1 fp1 fp1 fp1 fp1 fp1 fp1 fp1 fp1 fp1 fp1 fp1 fp1 fp1 fp1 fp1 fp1 cp1 \n",
      "cp1 fp1 fp1 fp1 fp1 fp1 fp1 fp1 fp1 fp1 fp1 fp1 fp1 fp1 fp1 fp1 fp1 fp1 cp1 \n",
      "cp1 cp1 cp1 cp1 cp1 cp1 cp1 cp1 cp1 cp1 cp1 cp1 cp1 cp1 cp1 cp1 cp1 cp1 cp1 \n",
      "\n",
      "pin cp1\n",
      "H2O\n",
      "\n",
      "pin fp1\n",
      "UO2\t0.4096\n",
      "Zr\t0.476\n",
      "H2O\n",
      "\n",
      "\n"
     ]
    }
   ],
   "source": [
    "with open('./serpent/pwr_test.geo', \"r\") as f:\n",
    "    contents = f.read()\n",
    "    print(contents)"
   ]
  },
  {
   "cell_type": "code",
   "execution_count": 15,
   "id": "c8e73c7a",
   "metadata": {},
   "outputs": [
    {
     "name": "stdout",
     "output_type": "stream",
     "text": [
      "include ./serpent/pwr_test.mat\n",
      "include ./serpent/pwr_test.geo\n",
      "set bc 1 1 2\n",
      "set pop 100000 100 100\n",
      "set acelib \"/mnt/c/Users/user/Documents/endfb7/sss_endfb7u.xsdata\"\n",
      "plot 31 5000 5000 0.0\n",
      "set his 1\n",
      "\n"
     ]
    }
   ],
   "source": [
    "with open('./serpent/pwr_test.main', \"r\") as f:\n",
    "    contents = f.read()\n",
    "    print(contents)"
   ]
  },
  {
   "cell_type": "markdown",
   "id": "59e1f3df",
   "metadata": {},
   "source": [
    "Creating 3D Geometry"
   ]
  },
  {
   "cell_type": "code",
   "execution_count": 5,
   "id": "256f06a9",
   "metadata": {},
   "outputs": [
    {
     "ename": "TypeError",
     "evalue": "can only concatenate str (not \"int\") to str",
     "output_type": "error",
     "traceback": [
      "\u001b[0;31m---------------------------------------------------------------------------\u001b[0m",
      "\u001b[0;31mTypeError\u001b[0m                                 Traceback (most recent call last)",
      "\u001b[0;32m/var/folders/k4/72jl4d_n4yb0qb06hc1sq4vr0000gn/T/ipykernel_73823/1128835574.py\u001b[0m in \u001b[0;36m<module>\u001b[0;34m\u001b[0m\n\u001b[1;32m      2\u001b[0m \u001b[0;31m# fp1.setPin(fpMats, fpRadii)\u001b[0m\u001b[0;34m\u001b[0m\u001b[0;34m\u001b[0m\u001b[0m\n\u001b[1;32m      3\u001b[0m \u001b[0mnLayers\u001b[0m \u001b[0;34m=\u001b[0m \u001b[0;36m20\u001b[0m\u001b[0;34m\u001b[0m\u001b[0;34m\u001b[0m\u001b[0m\n\u001b[0;32m----> 4\u001b[0;31m \u001b[0mfp1\u001b[0m \u001b[0;34m=\u001b[0m \u001b[0mbuild3Dpin\u001b[0m\u001b[0;34m(\u001b[0m\u001b[0;34m\"fp1\"\u001b[0m\u001b[0;34m,\u001b[0m \u001b[0mfpMats\u001b[0m\u001b[0;34m,\u001b[0m \u001b[0mfpRadii\u001b[0m\u001b[0;34m,\u001b[0m \u001b[0mnLayers\u001b[0m\u001b[0;34m,\u001b[0m \u001b[0mdz\u001b[0m\u001b[0;34m=\u001b[0m\u001b[0;36m1\u001b[0m\u001b[0;34m,\u001b[0m \u001b[0msetGCUSeed\u001b[0m\u001b[0;34m=\u001b[0m\u001b[0;36m100\u001b[0m\u001b[0;34m)\u001b[0m\u001b[0;34m\u001b[0m\u001b[0;34m\u001b[0m\u001b[0m\n\u001b[0m\u001b[1;32m      5\u001b[0m \u001b[0;34m\u001b[0m\u001b[0m\n\u001b[1;32m      6\u001b[0m \u001b[0;34m\u001b[0m\u001b[0m\n",
      "\u001b[0;32m/opt/anaconda3/lib/python3.9/site-packages/serpentGenerator-0.0.1-py3.9.egg/serpentGenerator/functions/builders.py\u001b[0m in \u001b[0;36mbuild3Dpin\u001b[0;34m(baseId, pinMaterials, pinRadii, nLayers, heights, dz, hasUniqueMatlayers, topUniv, topUnivdz, botUniv, botUnivdz, setGCUSeed)\u001b[0m\n\u001b[1;32m    523\u001b[0m                     \u001b[0mpinName\u001b[0m \u001b[0;34m=\u001b[0m \u001b[0mbaseId\u001b[0m\u001b[0;34m+\u001b[0m\u001b[0;34m\"z\"\u001b[0m\u001b[0;34m+\u001b[0m\u001b[0mstr\u001b[0m\u001b[0;34m(\u001b[0m\u001b[0mi\u001b[0m\u001b[0;34m+\u001b[0m\u001b[0;36m1\u001b[0m\u001b[0;34m)\u001b[0m\u001b[0;34m\u001b[0m\u001b[0;34m\u001b[0m\u001b[0m\n\u001b[1;32m    524\u001b[0m                 \u001b[0;32melse\u001b[0m\u001b[0;34m:\u001b[0m\u001b[0;34m\u001b[0m\u001b[0;34m\u001b[0m\u001b[0m\n\u001b[0;32m--> 525\u001b[0;31m                     \u001b[0mpinName\u001b[0m \u001b[0;34m=\u001b[0m \u001b[0mbaseId\u001b[0m\u001b[0;34m+\u001b[0m\u001b[0mi\u001b[0m\u001b[0;34m+\u001b[0m\u001b[0;36m1\u001b[0m\u001b[0;34m\u001b[0m\u001b[0;34m\u001b[0m\u001b[0m\n\u001b[0m\u001b[1;32m    526\u001b[0m                 \u001b[0mpins\u001b[0m\u001b[0;34m[\u001b[0m\u001b[0mi\u001b[0m\u001b[0;34m]\u001b[0m \u001b[0;34m=\u001b[0m \u001b[0mpin\u001b[0m\u001b[0;34m(\u001b[0m\u001b[0mpinName\u001b[0m\u001b[0;34m,\u001b[0m \u001b[0mlen\u001b[0m\u001b[0;34m(\u001b[0m\u001b[0mpinMaterials\u001b[0m\u001b[0;34m)\u001b[0m\u001b[0;34m)\u001b[0m\u001b[0;34m\u001b[0m\u001b[0;34m\u001b[0m\u001b[0m\n\u001b[1;32m    527\u001b[0m                 \u001b[0mpins\u001b[0m\u001b[0;34m[\u001b[0m\u001b[0mi\u001b[0m\u001b[0;34m]\u001b[0m \u001b[0;34m=\u001b[0m \u001b[0mbasePin\u001b[0m\u001b[0;34m.\u001b[0m\u001b[0mduplicate\u001b[0m\u001b[0;34m(\u001b[0m\u001b[0mpinName\u001b[0m\u001b[0;34m)\u001b[0m\u001b[0;34m\u001b[0m\u001b[0;34m\u001b[0m\u001b[0m\n",
      "\u001b[0;31mTypeError\u001b[0m: can only concatenate str (not \"int\") to str"
     ]
    }
   ],
   "source": [
    "# fp1 = pin(\"fp1\", 3)\n",
    "# fp1.setPin(fpMats, fpRadii)\n",
    "nLayers = 20\n",
    "fp1 = build3Dpin(\"fp1\", fpMats, fpRadii, nLayers, dz=1, setGCUSeed=100)\n",
    "\n",
    "\n",
    "cp1 = build3Dpin(\"cp1\", [MATLIB['H2O']], [], nLayers, dz = 1, setGCUSeed=900)\n",
    "\n",
    "cp2 = cp1.duplicate(\"cp2\")\n",
    "\n",
    "# print(fp1.toString())"
   ]
  },
  {
   "cell_type": "code",
   "execution_count": null,
   "id": "6a583273",
   "metadata": {},
   "outputs": [],
   "source": []
  }
 ],
 "metadata": {
  "kernelspec": {
   "display_name": "base",
   "language": "python",
   "name": "python3"
  },
  "language_info": {
   "codemirror_mode": {
    "name": "ipython",
    "version": 3
   },
   "file_extension": ".py",
   "mimetype": "text/x-python",
   "name": "python",
   "nbconvert_exporter": "python",
   "pygments_lexer": "ipython3",
   "version": "3.9.13"
  },
  "vscode": {
   "interpreter": {
    "hash": "40d3a090f54c6569ab1632332b64b2c03c39dcf918b08424e98f38b5ae0af88f"
   }
  }
 },
 "nbformat": 4,
 "nbformat_minor": 5
}
